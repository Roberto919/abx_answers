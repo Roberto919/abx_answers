{
 "cells": [
  {
   "cell_type": "markdown",
   "id": "ace98d5a-f1af-4a44-91ba-7b8a5a20527b",
   "metadata": {},
   "source": [
    "# Notebook with procedure and answers\n",
    "- Author: José Roberto Pérez\n",
    "- Date: 26/Jun/2021"
   ]
  },
  {
   "cell_type": "markdown",
   "id": "2dfe547a-e1c5-4dbf-8fcc-c9562c1489f4",
   "metadata": {},
   "source": [
    "## Imports"
   ]
  },
  {
   "cell_type": "markdown",
   "id": "cc5d9589-1282-4c83-8911-4ef0c8716fc9",
   "metadata": {},
   "source": [
    "#### Standard library imports"
   ]
  },
  {
   "cell_type": "code",
   "execution_count": 3,
   "id": "903796c3-6aa1-4532-85e5-86c09d5e5513",
   "metadata": {},
   "outputs": [],
   "source": [
    "import sys"
   ]
  },
  {
   "cell_type": "markdown",
   "id": "6a835273-950a-4188-bc16-aa9a2b5f44df",
   "metadata": {},
   "source": [
    "#### Third party imports"
   ]
  },
  {
   "cell_type": "code",
   "execution_count": 2,
   "id": "0ec172ae-1e28-4e65-8d48-de185c11a59f",
   "metadata": {},
   "outputs": [],
   "source": [
    "import pandas as pd"
   ]
  },
  {
   "cell_type": "markdown",
   "id": "6e81cce2-4c3e-42ee-b938-14a39a1a183e",
   "metadata": {},
   "source": [
    "#### Local application imports"
   ]
  },
  {
   "cell_type": "code",
   "execution_count": 4,
   "id": "21b35c70-8624-40f7-a281-73983bbaa1d3",
   "metadata": {},
   "outputs": [],
   "source": [
    "sys.path.append(\"../\")"
   ]
  },
  {
   "cell_type": "code",
   "execution_count": 5,
   "id": "b01705c8-5f6b-42bb-8838-166cd2719b1b",
   "metadata": {},
   "outputs": [],
   "source": [
    "%load_ext autoreload\n",
    "%autoreload 2"
   ]
  },
  {
   "cell_type": "markdown",
   "id": "5d9ff0b0-d6c0-47a0-acee-2d5b4bf9198a",
   "metadata": {},
   "source": [
    "---"
   ]
  },
  {
   "cell_type": "markdown",
   "id": "12a86c9a-d701-4907-8fd0-0b025f68ec45",
   "metadata": {},
   "source": [
    "## Importing data"
   ]
  },
  {
   "cell_type": "markdown",
   "id": "e83b1580-e106-4a6e-a12f-926fd5233198",
   "metadata": {},
   "source": [
    "### Clients"
   ]
  },
  {
   "cell_type": "code",
   "execution_count": null,
   "id": "51a63b2d-710f-4246-a5e2-f52bfe90306e",
   "metadata": {},
   "outputs": [],
   "source": [
    "pd.read_csv(\"../data/\")"
   ]
  }
 ],
 "metadata": {
  "kernelspec": {
   "display_name": "Python 3",
   "language": "python",
   "name": "python3"
  },
  "language_info": {
   "codemirror_mode": {
    "name": "ipython",
    "version": 3
   },
   "file_extension": ".py",
   "mimetype": "text/x-python",
   "name": "python",
   "nbconvert_exporter": "python",
   "pygments_lexer": "ipython3",
   "version": "3.9.1"
  },
  "toc-autonumbering": true
 },
 "nbformat": 4,
 "nbformat_minor": 5
}
