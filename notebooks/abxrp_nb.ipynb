{
 "cells": [
  {
   "cell_type": "markdown",
   "id": "ace98d5a-f1af-4a44-91ba-7b8a5a20527b",
   "metadata": {
    "tags": []
   },
   "source": [
    "# Notebook with procedure and answers\n",
    "- Author: José Roberto Pérez\n",
    "- Date: 26/Jun/2021"
   ]
  },
  {
   "cell_type": "markdown",
   "id": "2dfe547a-e1c5-4dbf-8fcc-c9562c1489f4",
   "metadata": {
    "tags": []
   },
   "source": [
    "## Imports"
   ]
  },
  {
   "cell_type": "markdown",
   "id": "cc5d9589-1282-4c83-8911-4ef0c8716fc9",
   "metadata": {},
   "source": [
    "#### Standard library imports"
   ]
  },
  {
   "cell_type": "code",
   "execution_count": 1,
   "id": "903796c3-6aa1-4532-85e5-86c09d5e5513",
   "metadata": {},
   "outputs": [],
   "source": [
    "import sys"
   ]
  },
  {
   "cell_type": "markdown",
   "id": "6a835273-950a-4188-bc16-aa9a2b5f44df",
   "metadata": {},
   "source": [
    "#### Third party imports"
   ]
  },
  {
   "cell_type": "code",
   "execution_count": 2,
   "id": "0ec172ae-1e28-4e65-8d48-de185c11a59f",
   "metadata": {},
   "outputs": [],
   "source": [
    "import pandas as pd\n",
    "\n",
    "import plotly.express as px"
   ]
  },
  {
   "cell_type": "markdown",
   "id": "6e81cce2-4c3e-42ee-b938-14a39a1a183e",
   "metadata": {},
   "source": [
    "#### Local application imports"
   ]
  },
  {
   "cell_type": "code",
   "execution_count": 3,
   "id": "21b35c70-8624-40f7-a281-73983bbaa1d3",
   "metadata": {},
   "outputs": [],
   "source": [
    "sys.path.append(\"../\")"
   ]
  },
  {
   "cell_type": "code",
   "execution_count": 4,
   "id": "b01705c8-5f6b-42bb-8838-166cd2719b1b",
   "metadata": {},
   "outputs": [],
   "source": [
    "%load_ext autoreload\n",
    "%autoreload 2"
   ]
  },
  {
   "cell_type": "markdown",
   "id": "5d9ff0b0-d6c0-47a0-acee-2d5b4bf9198a",
   "metadata": {},
   "source": [
    "---"
   ]
  },
  {
   "cell_type": "markdown",
   "id": "12a86c9a-d701-4907-8fd0-0b025f68ec45",
   "metadata": {
    "tags": []
   },
   "source": [
    "## Importing data and initial cleaning"
   ]
  },
  {
   "cell_type": "markdown",
   "id": "e83b1580-e106-4a6e-a12f-926fd5233198",
   "metadata": {
    "tags": []
   },
   "source": [
    "### Clients"
   ]
  },
  {
   "cell_type": "markdown",
   "id": "0665358a-acbc-4764-9eb4-cd967e90bc3e",
   "metadata": {
    "tags": []
   },
   "source": [
    "#### Creating dataframe"
   ]
  },
  {
   "cell_type": "code",
   "execution_count": 5,
   "id": "51a63b2d-710f-4246-a5e2-f52bfe90306e",
   "metadata": {},
   "outputs": [],
   "source": [
    "dfc = pd.read_csv(\"../data/cliente_tabla.csv\")"
   ]
  },
  {
   "cell_type": "code",
   "execution_count": 6,
   "id": "6a709589-951c-43fb-b570-985ecd8c7eb5",
   "metadata": {},
   "outputs": [
    {
     "data": {
      "text/html": [
       "<div>\n",
       "<style scoped>\n",
       "    .dataframe tbody tr th:only-of-type {\n",
       "        vertical-align: middle;\n",
       "    }\n",
       "\n",
       "    .dataframe tbody tr th {\n",
       "        vertical-align: top;\n",
       "    }\n",
       "\n",
       "    .dataframe thead th {\n",
       "        text-align: right;\n",
       "    }\n",
       "</style>\n",
       "<table border=\"1\" class=\"dataframe\">\n",
       "  <thead>\n",
       "    <tr style=\"text-align: right;\">\n",
       "      <th></th>\n",
       "      <th>Cliente_ID</th>\n",
       "      <th>NombreCliente</th>\n",
       "    </tr>\n",
       "  </thead>\n",
       "  <tbody>\n",
       "    <tr>\n",
       "      <th>0</th>\n",
       "      <td>0</td>\n",
       "      <td>SIN NOMBRE</td>\n",
       "    </tr>\n",
       "    <tr>\n",
       "      <th>1</th>\n",
       "      <td>1</td>\n",
       "      <td>OXXO XINANTECATL</td>\n",
       "    </tr>\n",
       "    <tr>\n",
       "      <th>2</th>\n",
       "      <td>2</td>\n",
       "      <td>SIN NOMBRE</td>\n",
       "    </tr>\n",
       "    <tr>\n",
       "      <th>3</th>\n",
       "      <td>3</td>\n",
       "      <td>EL MORENO</td>\n",
       "    </tr>\n",
       "    <tr>\n",
       "      <th>4</th>\n",
       "      <td>4</td>\n",
       "      <td>SDN SER  DE ALIM  CUERPO SA CIA  DE INT</td>\n",
       "    </tr>\n",
       "    <tr>\n",
       "      <th>...</th>\n",
       "      <td>...</td>\n",
       "      <td>...</td>\n",
       "    </tr>\n",
       "    <tr>\n",
       "      <th>935357</th>\n",
       "      <td>11011586</td>\n",
       "      <td>OXXO PETEN</td>\n",
       "    </tr>\n",
       "    <tr>\n",
       "      <th>935358</th>\n",
       "      <td>11693264</td>\n",
       "      <td>SUPER ABARROTES MARY</td>\n",
       "    </tr>\n",
       "    <tr>\n",
       "      <th>935359</th>\n",
       "      <td>19988629</td>\n",
       "      <td>NO IDENTIFICADO</td>\n",
       "    </tr>\n",
       "    <tr>\n",
       "      <th>935360</th>\n",
       "      <td>99999999</td>\n",
       "      <td>NO IDENTIFICADO</td>\n",
       "    </tr>\n",
       "    <tr>\n",
       "      <th>935361</th>\n",
       "      <td>2015152015</td>\n",
       "      <td>NO IDENTIFICADO</td>\n",
       "    </tr>\n",
       "  </tbody>\n",
       "</table>\n",
       "<p>935362 rows × 2 columns</p>\n",
       "</div>"
      ],
      "text/plain": [
       "        Cliente_ID                            NombreCliente\n",
       "0                0                               SIN NOMBRE\n",
       "1                1                         OXXO XINANTECATL\n",
       "2                2                               SIN NOMBRE\n",
       "3                3                                EL MORENO\n",
       "4                4  SDN SER  DE ALIM  CUERPO SA CIA  DE INT\n",
       "...            ...                                      ...\n",
       "935357    11011586                               OXXO PETEN\n",
       "935358    11693264                     SUPER ABARROTES MARY\n",
       "935359    19988629                          NO IDENTIFICADO\n",
       "935360    99999999                          NO IDENTIFICADO\n",
       "935361  2015152015                          NO IDENTIFICADO\n",
       "\n",
       "[935362 rows x 2 columns]"
      ]
     },
     "execution_count": 6,
     "metadata": {},
     "output_type": "execute_result"
    }
   ],
   "source": [
    "dfc"
   ]
  },
  {
   "cell_type": "code",
   "execution_count": 7,
   "id": "d1a2ad92-ce7f-45c6-98b9-7db0173cc5e4",
   "metadata": {},
   "outputs": [
    {
     "name": "stdout",
     "output_type": "stream",
     "text": [
      "<class 'pandas.core.frame.DataFrame'>\n",
      "RangeIndex: 935362 entries, 0 to 935361\n",
      "Data columns (total 2 columns):\n",
      " #   Column         Non-Null Count   Dtype \n",
      "---  ------         --------------   ----- \n",
      " 0   Cliente_ID     935362 non-null  int64 \n",
      " 1   NombreCliente  935362 non-null  object\n",
      "dtypes: int64(1), object(1)\n",
      "memory usage: 14.3+ MB\n"
     ]
    }
   ],
   "source": [
    "dfc.info()"
   ]
  },
  {
   "cell_type": "markdown",
   "id": "c705c27c-91e0-4e15-85e1-0982c711dfb7",
   "metadata": {
    "tags": []
   },
   "source": [
    "#### Eliminating duplicate client IDs"
   ]
  },
  {
   "cell_type": "code",
   "execution_count": 8,
   "id": "a3619dc2-3feb-4fe0-a339-0abffcc79dc4",
   "metadata": {},
   "outputs": [
    {
     "data": {
      "text/html": [
       "<div>\n",
       "<style scoped>\n",
       "    .dataframe tbody tr th:only-of-type {\n",
       "        vertical-align: middle;\n",
       "    }\n",
       "\n",
       "    .dataframe tbody tr th {\n",
       "        vertical-align: top;\n",
       "    }\n",
       "\n",
       "    .dataframe thead th {\n",
       "        text-align: right;\n",
       "    }\n",
       "</style>\n",
       "<table border=\"1\" class=\"dataframe\">\n",
       "  <thead>\n",
       "    <tr style=\"text-align: right;\">\n",
       "      <th></th>\n",
       "      <th>Cliente_ID</th>\n",
       "    </tr>\n",
       "  </thead>\n",
       "  <tbody>\n",
       "    <tr>\n",
       "      <th>544701</th>\n",
       "      <td>2</td>\n",
       "    </tr>\n",
       "    <tr>\n",
       "      <th>19703</th>\n",
       "      <td>2</td>\n",
       "    </tr>\n",
       "    <tr>\n",
       "      <th>292628</th>\n",
       "      <td>2</td>\n",
       "    </tr>\n",
       "    <tr>\n",
       "      <th>1896182</th>\n",
       "      <td>2</td>\n",
       "    </tr>\n",
       "    <tr>\n",
       "      <th>12732</th>\n",
       "      <td>2</td>\n",
       "    </tr>\n",
       "    <tr>\n",
       "      <th>...</th>\n",
       "      <td>...</td>\n",
       "    </tr>\n",
       "    <tr>\n",
       "      <th>2415040</th>\n",
       "      <td>1</td>\n",
       "    </tr>\n",
       "    <tr>\n",
       "      <th>4510145</th>\n",
       "      <td>1</td>\n",
       "    </tr>\n",
       "    <tr>\n",
       "      <th>4508098</th>\n",
       "      <td>1</td>\n",
       "    </tr>\n",
       "    <tr>\n",
       "      <th>324037</th>\n",
       "      <td>1</td>\n",
       "    </tr>\n",
       "    <tr>\n",
       "      <th>2047</th>\n",
       "      <td>1</td>\n",
       "    </tr>\n",
       "  </tbody>\n",
       "</table>\n",
       "<p>930500 rows × 1 columns</p>\n",
       "</div>"
      ],
      "text/plain": [
       "         Cliente_ID\n",
       "544701            2\n",
       "19703             2\n",
       "292628            2\n",
       "1896182           2\n",
       "12732             2\n",
       "...             ...\n",
       "2415040           1\n",
       "4510145           1\n",
       "4508098           1\n",
       "324037            1\n",
       "2047              1\n",
       "\n",
       "[930500 rows x 1 columns]"
      ]
     },
     "execution_count": 8,
     "metadata": {},
     "output_type": "execute_result"
    }
   ],
   "source": [
    "## Counting number of unique ID's\n",
    "dfx = dfc[\"Cliente_ID\"].value_counts().to_frame()\n",
    "dfx"
   ]
  },
  {
   "cell_type": "code",
   "execution_count": 9,
   "id": "5bc98d0c-e1f8-414a-8e15-59181d572cbf",
   "metadata": {},
   "outputs": [
    {
     "data": {
      "text/plain": [
       "Cliente_ID\n",
       "1             925638\n",
       "2               4862\n",
       "dtype: int64"
      ]
     },
     "execution_count": 9,
     "metadata": {},
     "output_type": "execute_result"
    }
   ],
   "source": [
    "## Counting unique and duplicated id's\n",
    "dfx.value_counts()"
   ]
  },
  {
   "cell_type": "code",
   "execution_count": 10,
   "id": "3f2a47cc-b4f7-4b18-bef7-d1f17931a0cf",
   "metadata": {},
   "outputs": [],
   "source": [
    "## List with duplicated id's\n",
    "lx = list(dfx[dfx[\"Cliente_ID\"] > 1].index)"
   ]
  },
  {
   "cell_type": "code",
   "execution_count": 11,
   "id": "005419c4-e44a-4b05-8d0e-de1775dd57e1",
   "metadata": {},
   "outputs": [
    {
     "data": {
      "text/html": [
       "<div>\n",
       "<style scoped>\n",
       "    .dataframe tbody tr th:only-of-type {\n",
       "        vertical-align: middle;\n",
       "    }\n",
       "\n",
       "    .dataframe tbody tr th {\n",
       "        vertical-align: top;\n",
       "    }\n",
       "\n",
       "    .dataframe thead th {\n",
       "        text-align: right;\n",
       "    }\n",
       "</style>\n",
       "<table border=\"1\" class=\"dataframe\">\n",
       "  <thead>\n",
       "    <tr style=\"text-align: right;\">\n",
       "      <th></th>\n",
       "      <th>Cliente_ID</th>\n",
       "      <th>NombreCliente</th>\n",
       "    </tr>\n",
       "  </thead>\n",
       "  <tbody>\n",
       "    <tr>\n",
       "      <th>4</th>\n",
       "      <td>4</td>\n",
       "      <td>SDN SER  DE ALIM  CUERPO SA CIA  DE INT</td>\n",
       "    </tr>\n",
       "    <tr>\n",
       "      <th>5</th>\n",
       "      <td>4</td>\n",
       "      <td>SDN SER DE ALIM CUERPO SA CIA DE INT</td>\n",
       "    </tr>\n",
       "    <tr>\n",
       "      <th>62</th>\n",
       "      <td>262</td>\n",
       "      <td>BALNEARIO IXTAPAN S DE R L DE C V</td>\n",
       "    </tr>\n",
       "    <tr>\n",
       "      <th>63</th>\n",
       "      <td>262</td>\n",
       "      <td>BALNEARIO IXTAPAN S  DE R L  DE C V</td>\n",
       "    </tr>\n",
       "    <tr>\n",
       "      <th>64</th>\n",
       "      <td>465</td>\n",
       "      <td>ESCUELA PREPARAROTIA NO 5</td>\n",
       "    </tr>\n",
       "    <tr>\n",
       "      <th>...</th>\n",
       "      <td>...</td>\n",
       "      <td>...</td>\n",
       "    </tr>\n",
       "    <tr>\n",
       "      <th>932959</th>\n",
       "      <td>9533930</td>\n",
       "      <td>SERVIFARMACIAS PACIFICO S A  DE C V</td>\n",
       "    </tr>\n",
       "    <tr>\n",
       "      <th>933798</th>\n",
       "      <td>9612023</td>\n",
       "      <td>GRUPO FERMOSELLE S A  DE C V</td>\n",
       "    </tr>\n",
       "    <tr>\n",
       "      <th>933799</th>\n",
       "      <td>9612023</td>\n",
       "      <td>GRUPO FERMOSELLE S A DE C V</td>\n",
       "    </tr>\n",
       "    <tr>\n",
       "      <th>934732</th>\n",
       "      <td>9694173</td>\n",
       "      <td>OXXO DR  COSS</td>\n",
       "    </tr>\n",
       "    <tr>\n",
       "      <th>934733</th>\n",
       "      <td>9694173</td>\n",
       "      <td>OXXO DR COSS</td>\n",
       "    </tr>\n",
       "  </tbody>\n",
       "</table>\n",
       "<p>9724 rows × 2 columns</p>\n",
       "</div>"
      ],
      "text/plain": [
       "        Cliente_ID                            NombreCliente\n",
       "4                4  SDN SER  DE ALIM  CUERPO SA CIA  DE INT\n",
       "5                4     SDN SER DE ALIM CUERPO SA CIA DE INT\n",
       "62             262        BALNEARIO IXTAPAN S DE R L DE C V\n",
       "63             262      BALNEARIO IXTAPAN S  DE R L  DE C V\n",
       "64             465                ESCUELA PREPARAROTIA NO 5\n",
       "...            ...                                      ...\n",
       "932959     9533930      SERVIFARMACIAS PACIFICO S A  DE C V\n",
       "933798     9612023             GRUPO FERMOSELLE S A  DE C V\n",
       "933799     9612023              GRUPO FERMOSELLE S A DE C V\n",
       "934732     9694173                            OXXO DR  COSS\n",
       "934733     9694173                             OXXO DR COSS\n",
       "\n",
       "[9724 rows x 2 columns]"
      ]
     },
     "execution_count": 11,
     "metadata": {},
     "output_type": "execute_result"
    }
   ],
   "source": [
    "## Filtering duplicated id's\n",
    "dfc[dfc[\"Cliente_ID\"].isin(lx)]"
   ]
  },
  {
   "cell_type": "code",
   "execution_count": 12,
   "id": "93884889-ff5c-49b3-942d-494442720d6c",
   "metadata": {},
   "outputs": [],
   "source": [
    "## Eliminating entries with duplicated id's\n",
    "dfc.drop_duplicates(subset=[\"Cliente_ID\"], inplace=True)"
   ]
  },
  {
   "cell_type": "markdown",
   "id": "f3bf3141-8efd-437a-a592-4ccff5f1a70e",
   "metadata": {
    "tags": []
   },
   "source": [
    "#### Resulting dataframe"
   ]
  },
  {
   "cell_type": "code",
   "execution_count": 13,
   "id": "cf968d4c-645e-42b5-b76a-31e22e456c51",
   "metadata": {},
   "outputs": [
    {
     "data": {
      "text/html": [
       "<div>\n",
       "<style scoped>\n",
       "    .dataframe tbody tr th:only-of-type {\n",
       "        vertical-align: middle;\n",
       "    }\n",
       "\n",
       "    .dataframe tbody tr th {\n",
       "        vertical-align: top;\n",
       "    }\n",
       "\n",
       "    .dataframe thead th {\n",
       "        text-align: right;\n",
       "    }\n",
       "</style>\n",
       "<table border=\"1\" class=\"dataframe\">\n",
       "  <thead>\n",
       "    <tr style=\"text-align: right;\">\n",
       "      <th></th>\n",
       "      <th>Cliente_ID</th>\n",
       "      <th>NombreCliente</th>\n",
       "    </tr>\n",
       "  </thead>\n",
       "  <tbody>\n",
       "    <tr>\n",
       "      <th>0</th>\n",
       "      <td>0</td>\n",
       "      <td>SIN NOMBRE</td>\n",
       "    </tr>\n",
       "    <tr>\n",
       "      <th>1</th>\n",
       "      <td>1</td>\n",
       "      <td>OXXO XINANTECATL</td>\n",
       "    </tr>\n",
       "    <tr>\n",
       "      <th>2</th>\n",
       "      <td>2</td>\n",
       "      <td>SIN NOMBRE</td>\n",
       "    </tr>\n",
       "    <tr>\n",
       "      <th>3</th>\n",
       "      <td>3</td>\n",
       "      <td>EL MORENO</td>\n",
       "    </tr>\n",
       "    <tr>\n",
       "      <th>4</th>\n",
       "      <td>4</td>\n",
       "      <td>SDN SER  DE ALIM  CUERPO SA CIA  DE INT</td>\n",
       "    </tr>\n",
       "    <tr>\n",
       "      <th>...</th>\n",
       "      <td>...</td>\n",
       "      <td>...</td>\n",
       "    </tr>\n",
       "    <tr>\n",
       "      <th>935357</th>\n",
       "      <td>11011586</td>\n",
       "      <td>OXXO PETEN</td>\n",
       "    </tr>\n",
       "    <tr>\n",
       "      <th>935358</th>\n",
       "      <td>11693264</td>\n",
       "      <td>SUPER ABARROTES MARY</td>\n",
       "    </tr>\n",
       "    <tr>\n",
       "      <th>935359</th>\n",
       "      <td>19988629</td>\n",
       "      <td>NO IDENTIFICADO</td>\n",
       "    </tr>\n",
       "    <tr>\n",
       "      <th>935360</th>\n",
       "      <td>99999999</td>\n",
       "      <td>NO IDENTIFICADO</td>\n",
       "    </tr>\n",
       "    <tr>\n",
       "      <th>935361</th>\n",
       "      <td>2015152015</td>\n",
       "      <td>NO IDENTIFICADO</td>\n",
       "    </tr>\n",
       "  </tbody>\n",
       "</table>\n",
       "<p>930500 rows × 2 columns</p>\n",
       "</div>"
      ],
      "text/plain": [
       "        Cliente_ID                            NombreCliente\n",
       "0                0                               SIN NOMBRE\n",
       "1                1                         OXXO XINANTECATL\n",
       "2                2                               SIN NOMBRE\n",
       "3                3                                EL MORENO\n",
       "4                4  SDN SER  DE ALIM  CUERPO SA CIA  DE INT\n",
       "...            ...                                      ...\n",
       "935357    11011586                               OXXO PETEN\n",
       "935358    11693264                     SUPER ABARROTES MARY\n",
       "935359    19988629                          NO IDENTIFICADO\n",
       "935360    99999999                          NO IDENTIFICADO\n",
       "935361  2015152015                          NO IDENTIFICADO\n",
       "\n",
       "[930500 rows x 2 columns]"
      ]
     },
     "execution_count": 13,
     "metadata": {},
     "output_type": "execute_result"
    }
   ],
   "source": [
    "dfc"
   ]
  },
  {
   "cell_type": "markdown",
   "id": "280bb59c-af7a-4de5-96ae-aea3c72f48d0",
   "metadata": {
    "tags": []
   },
   "source": [
    "### Products"
   ]
  },
  {
   "cell_type": "markdown",
   "id": "3d573d6e-f2ed-4105-80c1-94a374ee04d3",
   "metadata": {},
   "source": [
    "#### Importing data"
   ]
  },
  {
   "cell_type": "code",
   "execution_count": 14,
   "id": "e0b45eec-3161-48f3-bc85-1867b390ebf9",
   "metadata": {},
   "outputs": [],
   "source": [
    "dfp = pd.read_csv(\"../data/producto_tabla.csv\")"
   ]
  },
  {
   "cell_type": "code",
   "execution_count": 15,
   "id": "1a6ff2a5-7e0b-4bac-939b-50ccdad10807",
   "metadata": {},
   "outputs": [
    {
     "data": {
      "text/html": [
       "<div>\n",
       "<style scoped>\n",
       "    .dataframe tbody tr th:only-of-type {\n",
       "        vertical-align: middle;\n",
       "    }\n",
       "\n",
       "    .dataframe tbody tr th {\n",
       "        vertical-align: top;\n",
       "    }\n",
       "\n",
       "    .dataframe thead th {\n",
       "        text-align: right;\n",
       "    }\n",
       "</style>\n",
       "<table border=\"1\" class=\"dataframe\">\n",
       "  <thead>\n",
       "    <tr style=\"text-align: right;\">\n",
       "      <th></th>\n",
       "      <th>Producto_ID</th>\n",
       "      <th>NombreProducto</th>\n",
       "    </tr>\n",
       "  </thead>\n",
       "  <tbody>\n",
       "    <tr>\n",
       "      <th>0</th>\n",
       "      <td>0</td>\n",
       "      <td>NO IDENTIFICADO 0</td>\n",
       "    </tr>\n",
       "    <tr>\n",
       "      <th>1</th>\n",
       "      <td>9</td>\n",
       "      <td>Capuccino Moka 750g NES 9</td>\n",
       "    </tr>\n",
       "    <tr>\n",
       "      <th>2</th>\n",
       "      <td>41</td>\n",
       "      <td>Bimbollos Ext sAjonjoli 6p 480g BIM 41</td>\n",
       "    </tr>\n",
       "    <tr>\n",
       "      <th>3</th>\n",
       "      <td>53</td>\n",
       "      <td>Burritos Sincro 170g CU LON 53</td>\n",
       "    </tr>\n",
       "    <tr>\n",
       "      <th>4</th>\n",
       "      <td>72</td>\n",
       "      <td>Div Tira Mini Doradita 4p 45g TR 72</td>\n",
       "    </tr>\n",
       "    <tr>\n",
       "      <th>...</th>\n",
       "      <td>...</td>\n",
       "      <td>...</td>\n",
       "    </tr>\n",
       "    <tr>\n",
       "      <th>2587</th>\n",
       "      <td>49992</td>\n",
       "      <td>Tostado Integral 180g MTA WON 49992</td>\n",
       "    </tr>\n",
       "    <tr>\n",
       "      <th>2588</th>\n",
       "      <td>49993</td>\n",
       "      <td>Tostado Integral 180g TAB WON 49993</td>\n",
       "    </tr>\n",
       "    <tr>\n",
       "      <th>2589</th>\n",
       "      <td>49994</td>\n",
       "      <td>Tostado Int 0pct Grasa Azuc 200g WON 49994</td>\n",
       "    </tr>\n",
       "    <tr>\n",
       "      <th>2590</th>\n",
       "      <td>49996</td>\n",
       "      <td>Tostado Int 0pct Grasa Azuc 200g MTA WON 49996</td>\n",
       "    </tr>\n",
       "    <tr>\n",
       "      <th>2591</th>\n",
       "      <td>49997</td>\n",
       "      <td>Tostado Int 0pct Grasa Azuc 200g TAB WON 49997</td>\n",
       "    </tr>\n",
       "  </tbody>\n",
       "</table>\n",
       "<p>2592 rows × 2 columns</p>\n",
       "</div>"
      ],
      "text/plain": [
       "      Producto_ID                                  NombreProducto\n",
       "0               0                               NO IDENTIFICADO 0\n",
       "1               9                       Capuccino Moka 750g NES 9\n",
       "2              41          Bimbollos Ext sAjonjoli 6p 480g BIM 41\n",
       "3              53                  Burritos Sincro 170g CU LON 53\n",
       "4              72             Div Tira Mini Doradita 4p 45g TR 72\n",
       "...           ...                                             ...\n",
       "2587        49992             Tostado Integral 180g MTA WON 49992\n",
       "2588        49993             Tostado Integral 180g TAB WON 49993\n",
       "2589        49994      Tostado Int 0pct Grasa Azuc 200g WON 49994\n",
       "2590        49996  Tostado Int 0pct Grasa Azuc 200g MTA WON 49996\n",
       "2591        49997  Tostado Int 0pct Grasa Azuc 200g TAB WON 49997\n",
       "\n",
       "[2592 rows x 2 columns]"
      ]
     },
     "execution_count": 15,
     "metadata": {},
     "output_type": "execute_result"
    }
   ],
   "source": [
    "dfp"
   ]
  },
  {
   "cell_type": "code",
   "execution_count": 16,
   "id": "6cb1aabc-274a-4176-97d6-cbf1aa5da949",
   "metadata": {},
   "outputs": [
    {
     "name": "stdout",
     "output_type": "stream",
     "text": [
      "<class 'pandas.core.frame.DataFrame'>\n",
      "RangeIndex: 2592 entries, 0 to 2591\n",
      "Data columns (total 2 columns):\n",
      " #   Column          Non-Null Count  Dtype \n",
      "---  ------          --------------  ----- \n",
      " 0   Producto_ID     2592 non-null   int64 \n",
      " 1   NombreProducto  2592 non-null   object\n",
      "dtypes: int64(1), object(1)\n",
      "memory usage: 40.6+ KB\n"
     ]
    }
   ],
   "source": [
    "dfp.info()"
   ]
  },
  {
   "cell_type": "markdown",
   "id": "94584907-72be-4aff-8b17-d51607ea8f2b",
   "metadata": {
    "tags": []
   },
   "source": [
    "### Locations"
   ]
  },
  {
   "cell_type": "code",
   "execution_count": 17,
   "id": "5549d429-b608-4449-9159-aef2af9e3963",
   "metadata": {},
   "outputs": [],
   "source": [
    "dfl = pd.read_csv(\"../data/town_state_small.csv\")"
   ]
  },
  {
   "cell_type": "code",
   "execution_count": 18,
   "id": "b5a656ae-282c-44ee-8366-0dd42c81d893",
   "metadata": {
    "scrolled": true,
    "tags": []
   },
   "outputs": [
    {
     "data": {
      "text/html": [
       "<div>\n",
       "<style scoped>\n",
       "    .dataframe tbody tr th:only-of-type {\n",
       "        vertical-align: middle;\n",
       "    }\n",
       "\n",
       "    .dataframe tbody tr th {\n",
       "        vertical-align: top;\n",
       "    }\n",
       "\n",
       "    .dataframe thead th {\n",
       "        text-align: right;\n",
       "    }\n",
       "</style>\n",
       "<table border=\"1\" class=\"dataframe\">\n",
       "  <thead>\n",
       "    <tr style=\"text-align: right;\">\n",
       "      <th></th>\n",
       "      <th>Agencia_ID</th>\n",
       "      <th>Town</th>\n",
       "      <th>State</th>\n",
       "    </tr>\n",
       "  </thead>\n",
       "  <tbody>\n",
       "    <tr>\n",
       "      <th>0</th>\n",
       "      <td>1110</td>\n",
       "      <td>2008 AG. LAGO FILT</td>\n",
       "      <td>MÉXICO, D.F.</td>\n",
       "    </tr>\n",
       "    <tr>\n",
       "      <th>1</th>\n",
       "      <td>1111</td>\n",
       "      <td>2002 AG. AZCAPOTZALCO</td>\n",
       "      <td>MÉXICO, D.F.</td>\n",
       "    </tr>\n",
       "    <tr>\n",
       "      <th>2</th>\n",
       "      <td>1112</td>\n",
       "      <td>2004 AG. CUAUTITLAN</td>\n",
       "      <td>ESTADO DE MÉXICO</td>\n",
       "    </tr>\n",
       "    <tr>\n",
       "      <th>3</th>\n",
       "      <td>1113</td>\n",
       "      <td>2008 AG. LAGO FILT</td>\n",
       "      <td>MÉXICO, D.F.</td>\n",
       "    </tr>\n",
       "    <tr>\n",
       "      <th>4</th>\n",
       "      <td>1114</td>\n",
       "      <td>2029 AG.IZTAPALAPA 2</td>\n",
       "      <td>MÉXICO, D.F.</td>\n",
       "    </tr>\n",
       "    <tr>\n",
       "      <th>5</th>\n",
       "      <td>1116</td>\n",
       "      <td>2011 AG. SAN ANTONIO</td>\n",
       "      <td>MÉXICO, D.F.</td>\n",
       "    </tr>\n",
       "    <tr>\n",
       "      <th>6</th>\n",
       "      <td>1117</td>\n",
       "      <td>2001 AG. ATIZAPAN</td>\n",
       "      <td>ESTADO DE MÉXICO</td>\n",
       "    </tr>\n",
       "    <tr>\n",
       "      <th>7</th>\n",
       "      <td>1118</td>\n",
       "      <td>2007 AG. LA VILLA</td>\n",
       "      <td>MÉXICO, D.F.</td>\n",
       "    </tr>\n",
       "    <tr>\n",
       "      <th>8</th>\n",
       "      <td>1119</td>\n",
       "      <td>2013 AG. MEGA NAUCALPAN</td>\n",
       "      <td>ESTADO DE MÉXICO</td>\n",
       "    </tr>\n",
       "    <tr>\n",
       "      <th>9</th>\n",
       "      <td>1120</td>\n",
       "      <td>2018 AG. TEPALCATES 2</td>\n",
       "      <td>MÉXICO, D.F.</td>\n",
       "    </tr>\n",
       "    <tr>\n",
       "      <th>10</th>\n",
       "      <td>1121</td>\n",
       "      <td>2016 AG. SAN LORENZO</td>\n",
       "      <td>MÉXICO, D.F.</td>\n",
       "    </tr>\n",
       "    <tr>\n",
       "      <th>11</th>\n",
       "      <td>1122</td>\n",
       "      <td>2019 AG. XALOSTOC</td>\n",
       "      <td>ESTADO DE MÉXICO</td>\n",
       "    </tr>\n",
       "    <tr>\n",
       "      <th>12</th>\n",
       "      <td>1123</td>\n",
       "      <td>2094 CHALCO_BM</td>\n",
       "      <td>ESTADO DE MÉXICO</td>\n",
       "    </tr>\n",
       "    <tr>\n",
       "      <th>13</th>\n",
       "      <td>1124</td>\n",
       "      <td>2021 AG. XOCHIMILCO 2</td>\n",
       "      <td>MÉXICO, D.F.</td>\n",
       "    </tr>\n",
       "    <tr>\n",
       "      <th>14</th>\n",
       "      <td>1126</td>\n",
       "      <td>2017 AG. SANTA CLARA</td>\n",
       "      <td>ESTADO DE MÉXICO</td>\n",
       "    </tr>\n",
       "    <tr>\n",
       "      <th>15</th>\n",
       "      <td>1127</td>\n",
       "      <td>2003 AG. COACALCO</td>\n",
       "      <td>ESTADO DE MÉXICO</td>\n",
       "    </tr>\n",
       "    <tr>\n",
       "      <th>16</th>\n",
       "      <td>1129</td>\n",
       "      <td>2011 AG. SAN ANTONIO</td>\n",
       "      <td>MÉXICO, D.F.</td>\n",
       "    </tr>\n",
       "    <tr>\n",
       "      <th>17</th>\n",
       "      <td>1130</td>\n",
       "      <td>2010 AG. LOS REYES</td>\n",
       "      <td>ESTADO DE MÉXICO</td>\n",
       "    </tr>\n",
       "    <tr>\n",
       "      <th>18</th>\n",
       "      <td>1137</td>\n",
       "      <td>2014 AG. NEZA</td>\n",
       "      <td>ESTADO DE MÉXICO</td>\n",
       "    </tr>\n",
       "    <tr>\n",
       "      <th>19</th>\n",
       "      <td>1138</td>\n",
       "      <td>2015 AG. ROJO GOMEZ</td>\n",
       "      <td>MÉXICO, D.F.</td>\n",
       "    </tr>\n",
       "    <tr>\n",
       "      <th>20</th>\n",
       "      <td>1139</td>\n",
       "      <td>2013 AG. MEGA NAUCALPAN</td>\n",
       "      <td>ESTADO DE MÉXICO</td>\n",
       "    </tr>\n",
       "    <tr>\n",
       "      <th>21</th>\n",
       "      <td>1140</td>\n",
       "      <td>2078 AG. TEXCOCO</td>\n",
       "      <td>ESTADO DE MÉXICO</td>\n",
       "    </tr>\n",
       "    <tr>\n",
       "      <th>22</th>\n",
       "      <td>1142</td>\n",
       "      <td>2013 AG. MEGA NAUCALPAN</td>\n",
       "      <td>ESTADO DE MÉXICO</td>\n",
       "    </tr>\n",
       "    <tr>\n",
       "      <th>23</th>\n",
       "      <td>1143</td>\n",
       "      <td>2088 AG. CEYLAN</td>\n",
       "      <td>MÉXICO, D.F.</td>\n",
       "    </tr>\n",
       "    <tr>\n",
       "      <th>24</th>\n",
       "      <td>1146</td>\n",
       "      <td>2088 AG. CEYLAN</td>\n",
       "      <td>MÉXICO, D.F.</td>\n",
       "    </tr>\n",
       "    <tr>\n",
       "      <th>25</th>\n",
       "      <td>1147</td>\n",
       "      <td>2003 AG. COACALCO</td>\n",
       "      <td>ESTADO DE MÉXICO</td>\n",
       "    </tr>\n",
       "    <tr>\n",
       "      <th>26</th>\n",
       "      <td>1150</td>\n",
       "      <td>2011 AG. SAN ANTONIO</td>\n",
       "      <td>MÉXICO, D.F.</td>\n",
       "    </tr>\n",
       "    <tr>\n",
       "      <th>27</th>\n",
       "      <td>1152</td>\n",
       "      <td>2008 AG. LAGO FILT</td>\n",
       "      <td>MÉXICO, D.F.</td>\n",
       "    </tr>\n",
       "    <tr>\n",
       "      <th>28</th>\n",
       "      <td>1153</td>\n",
       "      <td>2087 AG. TIZAYUCA</td>\n",
       "      <td>HIDALGO</td>\n",
       "    </tr>\n",
       "    <tr>\n",
       "      <th>29</th>\n",
       "      <td>1155</td>\n",
       "      <td>2003 AG. COACALCO</td>\n",
       "      <td>ESTADO DE MÉXICO</td>\n",
       "    </tr>\n",
       "    <tr>\n",
       "      <th>30</th>\n",
       "      <td>1156</td>\n",
       "      <td>2018 AG. TEPALCATES 2</td>\n",
       "      <td>MÉXICO, D.F.</td>\n",
       "    </tr>\n",
       "    <tr>\n",
       "      <th>31</th>\n",
       "      <td>1159</td>\n",
       "      <td>2011 AG. SAN ANTONIO</td>\n",
       "      <td>MÉXICO, D.F.</td>\n",
       "    </tr>\n",
       "    <tr>\n",
       "      <th>32</th>\n",
       "      <td>1160</td>\n",
       "      <td>2089 AG. AZCAPOTZALCO INSTITUCIONALES</td>\n",
       "      <td>MÉXICO, D.F.</td>\n",
       "    </tr>\n",
       "    <tr>\n",
       "      <th>33</th>\n",
       "      <td>1164</td>\n",
       "      <td>2048 AG. IXTAPALUCA 1</td>\n",
       "      <td>ESTADO DE MÉXICO</td>\n",
       "    </tr>\n",
       "    <tr>\n",
       "      <th>34</th>\n",
       "      <td>1165</td>\n",
       "      <td>2010 AG. LOS REYES</td>\n",
       "      <td>ESTADO DE MÉXICO</td>\n",
       "    </tr>\n",
       "    <tr>\n",
       "      <th>35</th>\n",
       "      <td>1167</td>\n",
       "      <td>2116 Cruce De Anden Región Mexico</td>\n",
       "      <td>ESTADO DE MÉXICO</td>\n",
       "    </tr>\n",
       "    <tr>\n",
       "      <th>36</th>\n",
       "      <td>1168</td>\n",
       "      <td>2092 AG. SANTA CLARA AUTOSERVICIOS</td>\n",
       "      <td>ESTADO DE MÉXICO</td>\n",
       "    </tr>\n",
       "    <tr>\n",
       "      <th>37</th>\n",
       "      <td>1170</td>\n",
       "      <td>2001 AG. ATIZAPAN</td>\n",
       "      <td>ESTADO DE MÉXICO</td>\n",
       "    </tr>\n",
       "    <tr>\n",
       "      <th>38</th>\n",
       "      <td>1171</td>\n",
       "      <td>2001 AG. ATIZAPAN</td>\n",
       "      <td>ESTADO DE MÉXICO</td>\n",
       "    </tr>\n",
       "    <tr>\n",
       "      <th>39</th>\n",
       "      <td>1172</td>\n",
       "      <td>2004 AG. CUAUTITLAN</td>\n",
       "      <td>ESTADO DE MÉXICO</td>\n",
       "    </tr>\n",
       "    <tr>\n",
       "      <th>40</th>\n",
       "      <td>1173</td>\n",
       "      <td>2004 AG. CUAUTITLAN</td>\n",
       "      <td>ESTADO DE MÉXICO</td>\n",
       "    </tr>\n",
       "  </tbody>\n",
       "</table>\n",
       "</div>"
      ],
      "text/plain": [
       "    Agencia_ID                                   Town             State\n",
       "0         1110                     2008 AG. LAGO FILT      MÉXICO, D.F.\n",
       "1         1111                  2002 AG. AZCAPOTZALCO      MÉXICO, D.F.\n",
       "2         1112                    2004 AG. CUAUTITLAN  ESTADO DE MÉXICO\n",
       "3         1113                     2008 AG. LAGO FILT      MÉXICO, D.F.\n",
       "4         1114                   2029 AG.IZTAPALAPA 2      MÉXICO, D.F.\n",
       "5         1116                   2011 AG. SAN ANTONIO      MÉXICO, D.F.\n",
       "6         1117                      2001 AG. ATIZAPAN  ESTADO DE MÉXICO\n",
       "7         1118                      2007 AG. LA VILLA      MÉXICO, D.F.\n",
       "8         1119                2013 AG. MEGA NAUCALPAN  ESTADO DE MÉXICO\n",
       "9         1120                  2018 AG. TEPALCATES 2      MÉXICO, D.F.\n",
       "10        1121                   2016 AG. SAN LORENZO      MÉXICO, D.F.\n",
       "11        1122                      2019 AG. XALOSTOC  ESTADO DE MÉXICO\n",
       "12        1123                         2094 CHALCO_BM  ESTADO DE MÉXICO\n",
       "13        1124                  2021 AG. XOCHIMILCO 2      MÉXICO, D.F.\n",
       "14        1126                   2017 AG. SANTA CLARA  ESTADO DE MÉXICO\n",
       "15        1127                      2003 AG. COACALCO  ESTADO DE MÉXICO\n",
       "16        1129                   2011 AG. SAN ANTONIO      MÉXICO, D.F.\n",
       "17        1130                     2010 AG. LOS REYES  ESTADO DE MÉXICO\n",
       "18        1137                          2014 AG. NEZA  ESTADO DE MÉXICO\n",
       "19        1138                    2015 AG. ROJO GOMEZ      MÉXICO, D.F.\n",
       "20        1139                2013 AG. MEGA NAUCALPAN  ESTADO DE MÉXICO\n",
       "21        1140                       2078 AG. TEXCOCO  ESTADO DE MÉXICO\n",
       "22        1142                2013 AG. MEGA NAUCALPAN  ESTADO DE MÉXICO\n",
       "23        1143                        2088 AG. CEYLAN      MÉXICO, D.F.\n",
       "24        1146                        2088 AG. CEYLAN      MÉXICO, D.F.\n",
       "25        1147                      2003 AG. COACALCO  ESTADO DE MÉXICO\n",
       "26        1150                   2011 AG. SAN ANTONIO      MÉXICO, D.F.\n",
       "27        1152                     2008 AG. LAGO FILT      MÉXICO, D.F.\n",
       "28        1153                      2087 AG. TIZAYUCA           HIDALGO\n",
       "29        1155                      2003 AG. COACALCO  ESTADO DE MÉXICO\n",
       "30        1156                  2018 AG. TEPALCATES 2      MÉXICO, D.F.\n",
       "31        1159                   2011 AG. SAN ANTONIO      MÉXICO, D.F.\n",
       "32        1160  2089 AG. AZCAPOTZALCO INSTITUCIONALES      MÉXICO, D.F.\n",
       "33        1164                  2048 AG. IXTAPALUCA 1  ESTADO DE MÉXICO\n",
       "34        1165                     2010 AG. LOS REYES  ESTADO DE MÉXICO\n",
       "35        1167      2116 Cruce De Anden Región Mexico  ESTADO DE MÉXICO\n",
       "36        1168     2092 AG. SANTA CLARA AUTOSERVICIOS  ESTADO DE MÉXICO\n",
       "37        1170                      2001 AG. ATIZAPAN  ESTADO DE MÉXICO\n",
       "38        1171                      2001 AG. ATIZAPAN  ESTADO DE MÉXICO\n",
       "39        1172                    2004 AG. CUAUTITLAN  ESTADO DE MÉXICO\n",
       "40        1173                    2004 AG. CUAUTITLAN  ESTADO DE MÉXICO"
      ]
     },
     "execution_count": 18,
     "metadata": {},
     "output_type": "execute_result"
    }
   ],
   "source": [
    "dfl"
   ]
  },
  {
   "cell_type": "markdown",
   "id": "5e6ce399-4674-453e-93e8-23aa0f95cc07",
   "metadata": {
    "tags": []
   },
   "source": [
    "### Training data"
   ]
  },
  {
   "cell_type": "markdown",
   "id": "0e77c415-b1a5-451e-be19-50eee9e24b73",
   "metadata": {
    "tags": []
   },
   "source": [
    "#### Importing data"
   ]
  },
  {
   "cell_type": "code",
   "execution_count": 101,
   "id": "3032fd8d-69bc-4863-bec3-3391cc903026",
   "metadata": {},
   "outputs": [],
   "source": [
    "dftr = pd.read_csv(\"../data/df_[candidate]_small.csv\")"
   ]
  },
  {
   "cell_type": "code",
   "execution_count": 102,
   "id": "91eb3dc4-10d5-4928-ba06-8cc90ad69d58",
   "metadata": {
    "scrolled": true,
    "tags": []
   },
   "outputs": [
    {
     "data": {
      "text/html": [
       "<div>\n",
       "<style scoped>\n",
       "    .dataframe tbody tr th:only-of-type {\n",
       "        vertical-align: middle;\n",
       "    }\n",
       "\n",
       "    .dataframe tbody tr th {\n",
       "        vertical-align: top;\n",
       "    }\n",
       "\n",
       "    .dataframe thead th {\n",
       "        text-align: right;\n",
       "    }\n",
       "</style>\n",
       "<table border=\"1\" class=\"dataframe\">\n",
       "  <thead>\n",
       "    <tr style=\"text-align: right;\">\n",
       "      <th></th>\n",
       "      <th>Semana</th>\n",
       "      <th>Agencia_ID</th>\n",
       "      <th>Canal_ID</th>\n",
       "      <th>Ruta_SAK</th>\n",
       "      <th>Cliente_ID</th>\n",
       "      <th>Producto_ID</th>\n",
       "      <th>Venta_uni_hoy</th>\n",
       "      <th>Venta_hoy</th>\n",
       "      <th>Dev_uni_proxima</th>\n",
       "      <th>Dev_proxima</th>\n",
       "      <th>Demanda_uni_equil</th>\n",
       "    </tr>\n",
       "  </thead>\n",
       "  <tbody>\n",
       "    <tr>\n",
       "      <th>0</th>\n",
       "      <td>3</td>\n",
       "      <td>1110</td>\n",
       "      <td>7</td>\n",
       "      <td>3301</td>\n",
       "      <td>15766</td>\n",
       "      <td>1212</td>\n",
       "      <td>3</td>\n",
       "      <td>25.14</td>\n",
       "      <td>0</td>\n",
       "      <td>0.0</td>\n",
       "      <td>3</td>\n",
       "    </tr>\n",
       "    <tr>\n",
       "      <th>1</th>\n",
       "      <td>3</td>\n",
       "      <td>1110</td>\n",
       "      <td>7</td>\n",
       "      <td>3301</td>\n",
       "      <td>15766</td>\n",
       "      <td>1216</td>\n",
       "      <td>4</td>\n",
       "      <td>33.52</td>\n",
       "      <td>0</td>\n",
       "      <td>0.0</td>\n",
       "      <td>4</td>\n",
       "    </tr>\n",
       "    <tr>\n",
       "      <th>2</th>\n",
       "      <td>3</td>\n",
       "      <td>1110</td>\n",
       "      <td>7</td>\n",
       "      <td>3301</td>\n",
       "      <td>15766</td>\n",
       "      <td>1238</td>\n",
       "      <td>4</td>\n",
       "      <td>39.32</td>\n",
       "      <td>0</td>\n",
       "      <td>0.0</td>\n",
       "      <td>4</td>\n",
       "    </tr>\n",
       "    <tr>\n",
       "      <th>3</th>\n",
       "      <td>3</td>\n",
       "      <td>1110</td>\n",
       "      <td>7</td>\n",
       "      <td>3301</td>\n",
       "      <td>15766</td>\n",
       "      <td>1240</td>\n",
       "      <td>4</td>\n",
       "      <td>33.52</td>\n",
       "      <td>0</td>\n",
       "      <td>0.0</td>\n",
       "      <td>4</td>\n",
       "    </tr>\n",
       "    <tr>\n",
       "      <th>4</th>\n",
       "      <td>3</td>\n",
       "      <td>1110</td>\n",
       "      <td>7</td>\n",
       "      <td>3301</td>\n",
       "      <td>15766</td>\n",
       "      <td>1242</td>\n",
       "      <td>3</td>\n",
       "      <td>22.92</td>\n",
       "      <td>0</td>\n",
       "      <td>0.0</td>\n",
       "      <td>3</td>\n",
       "    </tr>\n",
       "    <tr>\n",
       "      <th>...</th>\n",
       "      <td>...</td>\n",
       "      <td>...</td>\n",
       "      <td>...</td>\n",
       "      <td>...</td>\n",
       "      <td>...</td>\n",
       "      <td>...</td>\n",
       "      <td>...</td>\n",
       "      <td>...</td>\n",
       "      <td>...</td>\n",
       "      <td>...</td>\n",
       "      <td>...</td>\n",
       "    </tr>\n",
       "    <tr>\n",
       "      <th>7974413</th>\n",
       "      <td>8</td>\n",
       "      <td>1173</td>\n",
       "      <td>4</td>\n",
       "      <td>6609</td>\n",
       "      <td>4549706</td>\n",
       "      <td>1242</td>\n",
       "      <td>2</td>\n",
       "      <td>15.40</td>\n",
       "      <td>0</td>\n",
       "      <td>0.0</td>\n",
       "      <td>2</td>\n",
       "    </tr>\n",
       "    <tr>\n",
       "      <th>7974414</th>\n",
       "      <td>8</td>\n",
       "      <td>1173</td>\n",
       "      <td>4</td>\n",
       "      <td>6609</td>\n",
       "      <td>4549706</td>\n",
       "      <td>5310</td>\n",
       "      <td>12</td>\n",
       "      <td>60.48</td>\n",
       "      <td>0</td>\n",
       "      <td>0.0</td>\n",
       "      <td>12</td>\n",
       "    </tr>\n",
       "    <tr>\n",
       "      <th>7974415</th>\n",
       "      <td>8</td>\n",
       "      <td>1173</td>\n",
       "      <td>4</td>\n",
       "      <td>6609</td>\n",
       "      <td>4549706</td>\n",
       "      <td>40447</td>\n",
       "      <td>10</td>\n",
       "      <td>108.00</td>\n",
       "      <td>0</td>\n",
       "      <td>0.0</td>\n",
       "      <td>10</td>\n",
       "    </tr>\n",
       "    <tr>\n",
       "      <th>7974416</th>\n",
       "      <td>8</td>\n",
       "      <td>1173</td>\n",
       "      <td>4</td>\n",
       "      <td>6609</td>\n",
       "      <td>4549706</td>\n",
       "      <td>40450</td>\n",
       "      <td>18</td>\n",
       "      <td>331.20</td>\n",
       "      <td>0</td>\n",
       "      <td>0.0</td>\n",
       "      <td>18</td>\n",
       "    </tr>\n",
       "    <tr>\n",
       "      <th>7974417</th>\n",
       "      <td>8</td>\n",
       "      <td>1173</td>\n",
       "      <td>4</td>\n",
       "      <td>6609</td>\n",
       "      <td>4549706</td>\n",
       "      <td>46772</td>\n",
       "      <td>16</td>\n",
       "      <td>150.40</td>\n",
       "      <td>0</td>\n",
       "      <td>0.0</td>\n",
       "      <td>16</td>\n",
       "    </tr>\n",
       "  </tbody>\n",
       "</table>\n",
       "<p>7974418 rows × 11 columns</p>\n",
       "</div>"
      ],
      "text/plain": [
       "         Semana  Agencia_ID  Canal_ID  Ruta_SAK  Cliente_ID  Producto_ID  \\\n",
       "0             3        1110         7      3301       15766         1212   \n",
       "1             3        1110         7      3301       15766         1216   \n",
       "2             3        1110         7      3301       15766         1238   \n",
       "3             3        1110         7      3301       15766         1240   \n",
       "4             3        1110         7      3301       15766         1242   \n",
       "...         ...         ...       ...       ...         ...          ...   \n",
       "7974413       8        1173         4      6609     4549706         1242   \n",
       "7974414       8        1173         4      6609     4549706         5310   \n",
       "7974415       8        1173         4      6609     4549706        40447   \n",
       "7974416       8        1173         4      6609     4549706        40450   \n",
       "7974417       8        1173         4      6609     4549706        46772   \n",
       "\n",
       "         Venta_uni_hoy  Venta_hoy  Dev_uni_proxima  Dev_proxima  \\\n",
       "0                    3      25.14                0          0.0   \n",
       "1                    4      33.52                0          0.0   \n",
       "2                    4      39.32                0          0.0   \n",
       "3                    4      33.52                0          0.0   \n",
       "4                    3      22.92                0          0.0   \n",
       "...                ...        ...              ...          ...   \n",
       "7974413              2      15.40                0          0.0   \n",
       "7974414             12      60.48                0          0.0   \n",
       "7974415             10     108.00                0          0.0   \n",
       "7974416             18     331.20                0          0.0   \n",
       "7974417             16     150.40                0          0.0   \n",
       "\n",
       "         Demanda_uni_equil  \n",
       "0                        3  \n",
       "1                        4  \n",
       "2                        4  \n",
       "3                        4  \n",
       "4                        3  \n",
       "...                    ...  \n",
       "7974413                  2  \n",
       "7974414                 12  \n",
       "7974415                 10  \n",
       "7974416                 18  \n",
       "7974417                 16  \n",
       "\n",
       "[7974418 rows x 11 columns]"
      ]
     },
     "execution_count": 102,
     "metadata": {},
     "output_type": "execute_result"
    }
   ],
   "source": [
    "dftr"
   ]
  },
  {
   "cell_type": "markdown",
   "id": "c4552797-30b4-49e6-a858-0d5f25b7a007",
   "metadata": {
    "tags": []
   },
   "source": [
    "#### Adding new column with demand in currency"
   ]
  },
  {
   "cell_type": "code",
   "execution_count": 103,
   "id": "428947f8-d8b5-4a1b-ba92-b6388675c764",
   "metadata": {},
   "outputs": [],
   "source": [
    "dftr[\"Demanda_equil\"] = dftr.apply(lambda x: x[\"Venta_hoy\"] - x[\"Dev_proxima\"] if (x[\"Venta_hoy\"] - x[\"Dev_proxima\"]) > 0 else 0, axis=1)"
   ]
  },
  {
   "cell_type": "markdown",
   "id": "969e237c-10b3-4094-87d9-2f8243dc1151",
   "metadata": {
    "tags": []
   },
   "source": [
    "#### Resulting dataframe"
   ]
  },
  {
   "cell_type": "code",
   "execution_count": 104,
   "id": "65d27da3-bbff-4328-ab9c-635434665fdc",
   "metadata": {},
   "outputs": [
    {
     "data": {
      "text/html": [
       "<div>\n",
       "<style scoped>\n",
       "    .dataframe tbody tr th:only-of-type {\n",
       "        vertical-align: middle;\n",
       "    }\n",
       "\n",
       "    .dataframe tbody tr th {\n",
       "        vertical-align: top;\n",
       "    }\n",
       "\n",
       "    .dataframe thead th {\n",
       "        text-align: right;\n",
       "    }\n",
       "</style>\n",
       "<table border=\"1\" class=\"dataframe\">\n",
       "  <thead>\n",
       "    <tr style=\"text-align: right;\">\n",
       "      <th></th>\n",
       "      <th>Semana</th>\n",
       "      <th>Agencia_ID</th>\n",
       "      <th>Canal_ID</th>\n",
       "      <th>Ruta_SAK</th>\n",
       "      <th>Cliente_ID</th>\n",
       "      <th>Producto_ID</th>\n",
       "      <th>Venta_uni_hoy</th>\n",
       "      <th>Venta_hoy</th>\n",
       "      <th>Dev_uni_proxima</th>\n",
       "      <th>Dev_proxima</th>\n",
       "      <th>Demanda_uni_equil</th>\n",
       "      <th>Demanda_equil</th>\n",
       "    </tr>\n",
       "  </thead>\n",
       "  <tbody>\n",
       "    <tr>\n",
       "      <th>0</th>\n",
       "      <td>3</td>\n",
       "      <td>1110</td>\n",
       "      <td>7</td>\n",
       "      <td>3301</td>\n",
       "      <td>15766</td>\n",
       "      <td>1212</td>\n",
       "      <td>3</td>\n",
       "      <td>25.14</td>\n",
       "      <td>0</td>\n",
       "      <td>0.0</td>\n",
       "      <td>3</td>\n",
       "      <td>25.14</td>\n",
       "    </tr>\n",
       "    <tr>\n",
       "      <th>1</th>\n",
       "      <td>3</td>\n",
       "      <td>1110</td>\n",
       "      <td>7</td>\n",
       "      <td>3301</td>\n",
       "      <td>15766</td>\n",
       "      <td>1216</td>\n",
       "      <td>4</td>\n",
       "      <td>33.52</td>\n",
       "      <td>0</td>\n",
       "      <td>0.0</td>\n",
       "      <td>4</td>\n",
       "      <td>33.52</td>\n",
       "    </tr>\n",
       "    <tr>\n",
       "      <th>2</th>\n",
       "      <td>3</td>\n",
       "      <td>1110</td>\n",
       "      <td>7</td>\n",
       "      <td>3301</td>\n",
       "      <td>15766</td>\n",
       "      <td>1238</td>\n",
       "      <td>4</td>\n",
       "      <td>39.32</td>\n",
       "      <td>0</td>\n",
       "      <td>0.0</td>\n",
       "      <td>4</td>\n",
       "      <td>39.32</td>\n",
       "    </tr>\n",
       "    <tr>\n",
       "      <th>3</th>\n",
       "      <td>3</td>\n",
       "      <td>1110</td>\n",
       "      <td>7</td>\n",
       "      <td>3301</td>\n",
       "      <td>15766</td>\n",
       "      <td>1240</td>\n",
       "      <td>4</td>\n",
       "      <td>33.52</td>\n",
       "      <td>0</td>\n",
       "      <td>0.0</td>\n",
       "      <td>4</td>\n",
       "      <td>33.52</td>\n",
       "    </tr>\n",
       "    <tr>\n",
       "      <th>4</th>\n",
       "      <td>3</td>\n",
       "      <td>1110</td>\n",
       "      <td>7</td>\n",
       "      <td>3301</td>\n",
       "      <td>15766</td>\n",
       "      <td>1242</td>\n",
       "      <td>3</td>\n",
       "      <td>22.92</td>\n",
       "      <td>0</td>\n",
       "      <td>0.0</td>\n",
       "      <td>3</td>\n",
       "      <td>22.92</td>\n",
       "    </tr>\n",
       "    <tr>\n",
       "      <th>...</th>\n",
       "      <td>...</td>\n",
       "      <td>...</td>\n",
       "      <td>...</td>\n",
       "      <td>...</td>\n",
       "      <td>...</td>\n",
       "      <td>...</td>\n",
       "      <td>...</td>\n",
       "      <td>...</td>\n",
       "      <td>...</td>\n",
       "      <td>...</td>\n",
       "      <td>...</td>\n",
       "      <td>...</td>\n",
       "    </tr>\n",
       "    <tr>\n",
       "      <th>7974413</th>\n",
       "      <td>8</td>\n",
       "      <td>1173</td>\n",
       "      <td>4</td>\n",
       "      <td>6609</td>\n",
       "      <td>4549706</td>\n",
       "      <td>1242</td>\n",
       "      <td>2</td>\n",
       "      <td>15.40</td>\n",
       "      <td>0</td>\n",
       "      <td>0.0</td>\n",
       "      <td>2</td>\n",
       "      <td>15.40</td>\n",
       "    </tr>\n",
       "    <tr>\n",
       "      <th>7974414</th>\n",
       "      <td>8</td>\n",
       "      <td>1173</td>\n",
       "      <td>4</td>\n",
       "      <td>6609</td>\n",
       "      <td>4549706</td>\n",
       "      <td>5310</td>\n",
       "      <td>12</td>\n",
       "      <td>60.48</td>\n",
       "      <td>0</td>\n",
       "      <td>0.0</td>\n",
       "      <td>12</td>\n",
       "      <td>60.48</td>\n",
       "    </tr>\n",
       "    <tr>\n",
       "      <th>7974415</th>\n",
       "      <td>8</td>\n",
       "      <td>1173</td>\n",
       "      <td>4</td>\n",
       "      <td>6609</td>\n",
       "      <td>4549706</td>\n",
       "      <td>40447</td>\n",
       "      <td>10</td>\n",
       "      <td>108.00</td>\n",
       "      <td>0</td>\n",
       "      <td>0.0</td>\n",
       "      <td>10</td>\n",
       "      <td>108.00</td>\n",
       "    </tr>\n",
       "    <tr>\n",
       "      <th>7974416</th>\n",
       "      <td>8</td>\n",
       "      <td>1173</td>\n",
       "      <td>4</td>\n",
       "      <td>6609</td>\n",
       "      <td>4549706</td>\n",
       "      <td>40450</td>\n",
       "      <td>18</td>\n",
       "      <td>331.20</td>\n",
       "      <td>0</td>\n",
       "      <td>0.0</td>\n",
       "      <td>18</td>\n",
       "      <td>331.20</td>\n",
       "    </tr>\n",
       "    <tr>\n",
       "      <th>7974417</th>\n",
       "      <td>8</td>\n",
       "      <td>1173</td>\n",
       "      <td>4</td>\n",
       "      <td>6609</td>\n",
       "      <td>4549706</td>\n",
       "      <td>46772</td>\n",
       "      <td>16</td>\n",
       "      <td>150.40</td>\n",
       "      <td>0</td>\n",
       "      <td>0.0</td>\n",
       "      <td>16</td>\n",
       "      <td>150.40</td>\n",
       "    </tr>\n",
       "  </tbody>\n",
       "</table>\n",
       "<p>7974418 rows × 12 columns</p>\n",
       "</div>"
      ],
      "text/plain": [
       "         Semana  Agencia_ID  Canal_ID  Ruta_SAK  Cliente_ID  Producto_ID  \\\n",
       "0             3        1110         7      3301       15766         1212   \n",
       "1             3        1110         7      3301       15766         1216   \n",
       "2             3        1110         7      3301       15766         1238   \n",
       "3             3        1110         7      3301       15766         1240   \n",
       "4             3        1110         7      3301       15766         1242   \n",
       "...         ...         ...       ...       ...         ...          ...   \n",
       "7974413       8        1173         4      6609     4549706         1242   \n",
       "7974414       8        1173         4      6609     4549706         5310   \n",
       "7974415       8        1173         4      6609     4549706        40447   \n",
       "7974416       8        1173         4      6609     4549706        40450   \n",
       "7974417       8        1173         4      6609     4549706        46772   \n",
       "\n",
       "         Venta_uni_hoy  Venta_hoy  Dev_uni_proxima  Dev_proxima  \\\n",
       "0                    3      25.14                0          0.0   \n",
       "1                    4      33.52                0          0.0   \n",
       "2                    4      39.32                0          0.0   \n",
       "3                    4      33.52                0          0.0   \n",
       "4                    3      22.92                0          0.0   \n",
       "...                ...        ...              ...          ...   \n",
       "7974413              2      15.40                0          0.0   \n",
       "7974414             12      60.48                0          0.0   \n",
       "7974415             10     108.00                0          0.0   \n",
       "7974416             18     331.20                0          0.0   \n",
       "7974417             16     150.40                0          0.0   \n",
       "\n",
       "         Demanda_uni_equil  Demanda_equil  \n",
       "0                        3          25.14  \n",
       "1                        4          33.52  \n",
       "2                        4          39.32  \n",
       "3                        4          33.52  \n",
       "4                        3          22.92  \n",
       "...                    ...            ...  \n",
       "7974413                  2          15.40  \n",
       "7974414                 12          60.48  \n",
       "7974415                 10         108.00  \n",
       "7974416                 18         331.20  \n",
       "7974417                 16         150.40  \n",
       "\n",
       "[7974418 rows x 12 columns]"
      ]
     },
     "execution_count": 104,
     "metadata": {},
     "output_type": "execute_result"
    }
   ],
   "source": [
    "dftr"
   ]
  },
  {
   "cell_type": "markdown",
   "id": "f8e30211-1af1-458d-b0c6-ce32b9e615c7",
   "metadata": {
    "tags": []
   },
   "source": [
    "### Test data"
   ]
  },
  {
   "cell_type": "markdown",
   "id": "30d81512-3f01-4f6a-8ce4-88feb897ff8d",
   "metadata": {},
   "source": [
    "#### Importing data"
   ]
  },
  {
   "cell_type": "code",
   "execution_count": 21,
   "id": "ac805317-1f08-42bb-9e1e-b535fe8b8375",
   "metadata": {},
   "outputs": [],
   "source": [
    "dfts = pd.read_csv(\"../data/df_[test]_small.csv\")"
   ]
  },
  {
   "cell_type": "code",
   "execution_count": 22,
   "id": "64fab01c-889e-4f17-83bf-36af30e503cf",
   "metadata": {
    "scrolled": true,
    "tags": []
   },
   "outputs": [
    {
     "data": {
      "text/html": [
       "<div>\n",
       "<style scoped>\n",
       "    .dataframe tbody tr th:only-of-type {\n",
       "        vertical-align: middle;\n",
       "    }\n",
       "\n",
       "    .dataframe tbody tr th {\n",
       "        vertical-align: top;\n",
       "    }\n",
       "\n",
       "    .dataframe thead th {\n",
       "        text-align: right;\n",
       "    }\n",
       "</style>\n",
       "<table border=\"1\" class=\"dataframe\">\n",
       "  <thead>\n",
       "    <tr style=\"text-align: right;\">\n",
       "      <th></th>\n",
       "      <th>Semana</th>\n",
       "      <th>Agencia_ID</th>\n",
       "      <th>Canal_ID</th>\n",
       "      <th>Ruta_SAK</th>\n",
       "      <th>Cliente_ID</th>\n",
       "      <th>Producto_ID</th>\n",
       "    </tr>\n",
       "  </thead>\n",
       "  <tbody>\n",
       "    <tr>\n",
       "      <th>0</th>\n",
       "      <td>9</td>\n",
       "      <td>1110</td>\n",
       "      <td>7</td>\n",
       "      <td>3301</td>\n",
       "      <td>15766</td>\n",
       "      <td>1212</td>\n",
       "    </tr>\n",
       "    <tr>\n",
       "      <th>1</th>\n",
       "      <td>9</td>\n",
       "      <td>1110</td>\n",
       "      <td>7</td>\n",
       "      <td>3301</td>\n",
       "      <td>15766</td>\n",
       "      <td>1238</td>\n",
       "    </tr>\n",
       "    <tr>\n",
       "      <th>2</th>\n",
       "      <td>9</td>\n",
       "      <td>1110</td>\n",
       "      <td>7</td>\n",
       "      <td>3301</td>\n",
       "      <td>15766</td>\n",
       "      <td>1240</td>\n",
       "    </tr>\n",
       "    <tr>\n",
       "      <th>3</th>\n",
       "      <td>9</td>\n",
       "      <td>1110</td>\n",
       "      <td>7</td>\n",
       "      <td>3301</td>\n",
       "      <td>15766</td>\n",
       "      <td>1242</td>\n",
       "    </tr>\n",
       "    <tr>\n",
       "      <th>4</th>\n",
       "      <td>9</td>\n",
       "      <td>1110</td>\n",
       "      <td>7</td>\n",
       "      <td>3301</td>\n",
       "      <td>15766</td>\n",
       "      <td>1250</td>\n",
       "    </tr>\n",
       "    <tr>\n",
       "      <th>...</th>\n",
       "      <td>...</td>\n",
       "      <td>...</td>\n",
       "      <td>...</td>\n",
       "      <td>...</td>\n",
       "      <td>...</td>\n",
       "      <td>...</td>\n",
       "    </tr>\n",
       "    <tr>\n",
       "      <th>1337908</th>\n",
       "      <td>9</td>\n",
       "      <td>1173</td>\n",
       "      <td>4</td>\n",
       "      <td>6609</td>\n",
       "      <td>4549706</td>\n",
       "      <td>5310</td>\n",
       "    </tr>\n",
       "    <tr>\n",
       "      <th>1337909</th>\n",
       "      <td>9</td>\n",
       "      <td>1173</td>\n",
       "      <td>4</td>\n",
       "      <td>6609</td>\n",
       "      <td>4549706</td>\n",
       "      <td>31717</td>\n",
       "    </tr>\n",
       "    <tr>\n",
       "      <th>1337910</th>\n",
       "      <td>9</td>\n",
       "      <td>1173</td>\n",
       "      <td>4</td>\n",
       "      <td>6609</td>\n",
       "      <td>4549706</td>\n",
       "      <td>40447</td>\n",
       "    </tr>\n",
       "    <tr>\n",
       "      <th>1337911</th>\n",
       "      <td>9</td>\n",
       "      <td>1173</td>\n",
       "      <td>4</td>\n",
       "      <td>6609</td>\n",
       "      <td>4549706</td>\n",
       "      <td>40450</td>\n",
       "    </tr>\n",
       "    <tr>\n",
       "      <th>1337912</th>\n",
       "      <td>9</td>\n",
       "      <td>1173</td>\n",
       "      <td>4</td>\n",
       "      <td>6609</td>\n",
       "      <td>4549706</td>\n",
       "      <td>46772</td>\n",
       "    </tr>\n",
       "  </tbody>\n",
       "</table>\n",
       "<p>1337913 rows × 6 columns</p>\n",
       "</div>"
      ],
      "text/plain": [
       "         Semana  Agencia_ID  Canal_ID  Ruta_SAK  Cliente_ID  Producto_ID\n",
       "0             9        1110         7      3301       15766         1212\n",
       "1             9        1110         7      3301       15766         1238\n",
       "2             9        1110         7      3301       15766         1240\n",
       "3             9        1110         7      3301       15766         1242\n",
       "4             9        1110         7      3301       15766         1250\n",
       "...         ...         ...       ...       ...         ...          ...\n",
       "1337908       9        1173         4      6609     4549706         5310\n",
       "1337909       9        1173         4      6609     4549706        31717\n",
       "1337910       9        1173         4      6609     4549706        40447\n",
       "1337911       9        1173         4      6609     4549706        40450\n",
       "1337912       9        1173         4      6609     4549706        46772\n",
       "\n",
       "[1337913 rows x 6 columns]"
      ]
     },
     "execution_count": 22,
     "metadata": {},
     "output_type": "execute_result"
    }
   ],
   "source": [
    "dfts"
   ]
  },
  {
   "cell_type": "markdown",
   "id": "c3470182-8b00-4105-b3fe-f2b5077c1089",
   "metadata": {},
   "source": [
    "---"
   ]
  },
  {
   "cell_type": "markdown",
   "id": "d53e3a72-1911-4ef2-8add-645ef143aa5d",
   "metadata": {},
   "source": [
    "## EDA"
   ]
  },
  {
   "cell_type": "markdown",
   "id": "6fe1b21e-8fe9-4a54-b0c3-a40e081fdf81",
   "metadata": {
    "heading_collapsed": "true",
    "tags": []
   },
   "source": [
    "### How have the overall demand top-5 product-client-agency combinations behaved each week?"
   ]
  },
  {
   "cell_type": "markdown",
   "id": "4895c815-8ed7-4df8-94a0-92e1851ff395",
   "metadata": {
    "heading_collapsed": "true",
    "tags": []
   },
   "source": [
    "#### Working dataframe"
   ]
  },
  {
   "cell_type": "code",
   "execution_count": 23,
   "id": "3fa20ce1-4edc-478f-bbc2-484c3153c0ff",
   "metadata": {},
   "outputs": [],
   "source": [
    "dfx = dftr.copy()"
   ]
  },
  {
   "cell_type": "code",
   "execution_count": 24,
   "id": "1611df15-a291-46ef-b550-a3e343ea26c1",
   "metadata": {},
   "outputs": [
    {
     "data": {
      "text/html": [
       "<div>\n",
       "<style scoped>\n",
       "    .dataframe tbody tr th:only-of-type {\n",
       "        vertical-align: middle;\n",
       "    }\n",
       "\n",
       "    .dataframe tbody tr th {\n",
       "        vertical-align: top;\n",
       "    }\n",
       "\n",
       "    .dataframe thead th {\n",
       "        text-align: right;\n",
       "    }\n",
       "</style>\n",
       "<table border=\"1\" class=\"dataframe\">\n",
       "  <thead>\n",
       "    <tr style=\"text-align: right;\">\n",
       "      <th></th>\n",
       "      <th>Semana</th>\n",
       "      <th>Agencia_ID</th>\n",
       "      <th>Canal_ID</th>\n",
       "      <th>Ruta_SAK</th>\n",
       "      <th>Cliente_ID</th>\n",
       "      <th>Producto_ID</th>\n",
       "      <th>Venta_uni_hoy</th>\n",
       "      <th>Venta_hoy</th>\n",
       "      <th>Dev_uni_proxima</th>\n",
       "      <th>Dev_proxima</th>\n",
       "      <th>Demanda_uni_equil</th>\n",
       "    </tr>\n",
       "  </thead>\n",
       "  <tbody>\n",
       "    <tr>\n",
       "      <th>0</th>\n",
       "      <td>3</td>\n",
       "      <td>1110</td>\n",
       "      <td>7</td>\n",
       "      <td>3301</td>\n",
       "      <td>15766</td>\n",
       "      <td>1212</td>\n",
       "      <td>3</td>\n",
       "      <td>25.14</td>\n",
       "      <td>0</td>\n",
       "      <td>0.0</td>\n",
       "      <td>3</td>\n",
       "    </tr>\n",
       "    <tr>\n",
       "      <th>1</th>\n",
       "      <td>3</td>\n",
       "      <td>1110</td>\n",
       "      <td>7</td>\n",
       "      <td>3301</td>\n",
       "      <td>15766</td>\n",
       "      <td>1216</td>\n",
       "      <td>4</td>\n",
       "      <td>33.52</td>\n",
       "      <td>0</td>\n",
       "      <td>0.0</td>\n",
       "      <td>4</td>\n",
       "    </tr>\n",
       "    <tr>\n",
       "      <th>2</th>\n",
       "      <td>3</td>\n",
       "      <td>1110</td>\n",
       "      <td>7</td>\n",
       "      <td>3301</td>\n",
       "      <td>15766</td>\n",
       "      <td>1238</td>\n",
       "      <td>4</td>\n",
       "      <td>39.32</td>\n",
       "      <td>0</td>\n",
       "      <td>0.0</td>\n",
       "      <td>4</td>\n",
       "    </tr>\n",
       "    <tr>\n",
       "      <th>3</th>\n",
       "      <td>3</td>\n",
       "      <td>1110</td>\n",
       "      <td>7</td>\n",
       "      <td>3301</td>\n",
       "      <td>15766</td>\n",
       "      <td>1240</td>\n",
       "      <td>4</td>\n",
       "      <td>33.52</td>\n",
       "      <td>0</td>\n",
       "      <td>0.0</td>\n",
       "      <td>4</td>\n",
       "    </tr>\n",
       "    <tr>\n",
       "      <th>4</th>\n",
       "      <td>3</td>\n",
       "      <td>1110</td>\n",
       "      <td>7</td>\n",
       "      <td>3301</td>\n",
       "      <td>15766</td>\n",
       "      <td>1242</td>\n",
       "      <td>3</td>\n",
       "      <td>22.92</td>\n",
       "      <td>0</td>\n",
       "      <td>0.0</td>\n",
       "      <td>3</td>\n",
       "    </tr>\n",
       "    <tr>\n",
       "      <th>...</th>\n",
       "      <td>...</td>\n",
       "      <td>...</td>\n",
       "      <td>...</td>\n",
       "      <td>...</td>\n",
       "      <td>...</td>\n",
       "      <td>...</td>\n",
       "      <td>...</td>\n",
       "      <td>...</td>\n",
       "      <td>...</td>\n",
       "      <td>...</td>\n",
       "      <td>...</td>\n",
       "    </tr>\n",
       "    <tr>\n",
       "      <th>7974413</th>\n",
       "      <td>8</td>\n",
       "      <td>1173</td>\n",
       "      <td>4</td>\n",
       "      <td>6609</td>\n",
       "      <td>4549706</td>\n",
       "      <td>1242</td>\n",
       "      <td>2</td>\n",
       "      <td>15.40</td>\n",
       "      <td>0</td>\n",
       "      <td>0.0</td>\n",
       "      <td>2</td>\n",
       "    </tr>\n",
       "    <tr>\n",
       "      <th>7974414</th>\n",
       "      <td>8</td>\n",
       "      <td>1173</td>\n",
       "      <td>4</td>\n",
       "      <td>6609</td>\n",
       "      <td>4549706</td>\n",
       "      <td>5310</td>\n",
       "      <td>12</td>\n",
       "      <td>60.48</td>\n",
       "      <td>0</td>\n",
       "      <td>0.0</td>\n",
       "      <td>12</td>\n",
       "    </tr>\n",
       "    <tr>\n",
       "      <th>7974415</th>\n",
       "      <td>8</td>\n",
       "      <td>1173</td>\n",
       "      <td>4</td>\n",
       "      <td>6609</td>\n",
       "      <td>4549706</td>\n",
       "      <td>40447</td>\n",
       "      <td>10</td>\n",
       "      <td>108.00</td>\n",
       "      <td>0</td>\n",
       "      <td>0.0</td>\n",
       "      <td>10</td>\n",
       "    </tr>\n",
       "    <tr>\n",
       "      <th>7974416</th>\n",
       "      <td>8</td>\n",
       "      <td>1173</td>\n",
       "      <td>4</td>\n",
       "      <td>6609</td>\n",
       "      <td>4549706</td>\n",
       "      <td>40450</td>\n",
       "      <td>18</td>\n",
       "      <td>331.20</td>\n",
       "      <td>0</td>\n",
       "      <td>0.0</td>\n",
       "      <td>18</td>\n",
       "    </tr>\n",
       "    <tr>\n",
       "      <th>7974417</th>\n",
       "      <td>8</td>\n",
       "      <td>1173</td>\n",
       "      <td>4</td>\n",
       "      <td>6609</td>\n",
       "      <td>4549706</td>\n",
       "      <td>46772</td>\n",
       "      <td>16</td>\n",
       "      <td>150.40</td>\n",
       "      <td>0</td>\n",
       "      <td>0.0</td>\n",
       "      <td>16</td>\n",
       "    </tr>\n",
       "  </tbody>\n",
       "</table>\n",
       "<p>7974418 rows × 11 columns</p>\n",
       "</div>"
      ],
      "text/plain": [
       "         Semana  Agencia_ID  Canal_ID  Ruta_SAK  Cliente_ID  Producto_ID  \\\n",
       "0             3        1110         7      3301       15766         1212   \n",
       "1             3        1110         7      3301       15766         1216   \n",
       "2             3        1110         7      3301       15766         1238   \n",
       "3             3        1110         7      3301       15766         1240   \n",
       "4             3        1110         7      3301       15766         1242   \n",
       "...         ...         ...       ...       ...         ...          ...   \n",
       "7974413       8        1173         4      6609     4549706         1242   \n",
       "7974414       8        1173         4      6609     4549706         5310   \n",
       "7974415       8        1173         4      6609     4549706        40447   \n",
       "7974416       8        1173         4      6609     4549706        40450   \n",
       "7974417       8        1173         4      6609     4549706        46772   \n",
       "\n",
       "         Venta_uni_hoy  Venta_hoy  Dev_uni_proxima  Dev_proxima  \\\n",
       "0                    3      25.14                0          0.0   \n",
       "1                    4      33.52                0          0.0   \n",
       "2                    4      39.32                0          0.0   \n",
       "3                    4      33.52                0          0.0   \n",
       "4                    3      22.92                0          0.0   \n",
       "...                ...        ...              ...          ...   \n",
       "7974413              2      15.40                0          0.0   \n",
       "7974414             12      60.48                0          0.0   \n",
       "7974415             10     108.00                0          0.0   \n",
       "7974416             18     331.20                0          0.0   \n",
       "7974417             16     150.40                0          0.0   \n",
       "\n",
       "         Demanda_uni_equil  \n",
       "0                        3  \n",
       "1                        4  \n",
       "2                        4  \n",
       "3                        4  \n",
       "4                        3  \n",
       "...                    ...  \n",
       "7974413                  2  \n",
       "7974414                 12  \n",
       "7974415                 10  \n",
       "7974416                 18  \n",
       "7974417                 16  \n",
       "\n",
       "[7974418 rows x 11 columns]"
      ]
     },
     "execution_count": 24,
     "metadata": {},
     "output_type": "execute_result"
    }
   ],
   "source": [
    "dfx"
   ]
  },
  {
   "cell_type": "markdown",
   "id": "05c7fe46-1346-4467-91d7-c74620fb352e",
   "metadata": {
    "heading_collapsed": "true",
    "tags": []
   },
   "source": [
    "#### Preparing dataframe for graph"
   ]
  },
  {
   "cell_type": "markdown",
   "id": "985bcaca-2629-4778-b6d4-1573e978824e",
   "metadata": {
    "heading_collapsed": "true",
    "tags": []
   },
   "source": [
    "##### Eliminating non relevant columns"
   ]
  },
  {
   "cell_type": "code",
   "execution_count": 25,
   "id": "6b7d1f99-e4aa-4c2d-95b1-6b9493aaec74",
   "metadata": {},
   "outputs": [],
   "source": [
    "nrc = [\n",
    "    \"Canal_ID\",\n",
    "    \"Ruta_SAK\",\n",
    "    \"Venta_uni_hoy\",\n",
    "    \"Venta_hoy\",\n",
    "    \"Dev_uni_proxima\",\n",
    "    \"Dev_proxima\"\n",
    "]\n",
    "\n",
    "dfx.drop(nrc, axis=1, inplace=True)"
   ]
  },
  {
   "cell_type": "code",
   "execution_count": 26,
   "id": "e9fbfba9-7d19-4b9c-ae2b-703a9c9eae7e",
   "metadata": {},
   "outputs": [
    {
     "data": {
      "text/html": [
       "<div>\n",
       "<style scoped>\n",
       "    .dataframe tbody tr th:only-of-type {\n",
       "        vertical-align: middle;\n",
       "    }\n",
       "\n",
       "    .dataframe tbody tr th {\n",
       "        vertical-align: top;\n",
       "    }\n",
       "\n",
       "    .dataframe thead th {\n",
       "        text-align: right;\n",
       "    }\n",
       "</style>\n",
       "<table border=\"1\" class=\"dataframe\">\n",
       "  <thead>\n",
       "    <tr style=\"text-align: right;\">\n",
       "      <th></th>\n",
       "      <th>Semana</th>\n",
       "      <th>Agencia_ID</th>\n",
       "      <th>Cliente_ID</th>\n",
       "      <th>Producto_ID</th>\n",
       "      <th>Demanda_uni_equil</th>\n",
       "    </tr>\n",
       "  </thead>\n",
       "  <tbody>\n",
       "    <tr>\n",
       "      <th>0</th>\n",
       "      <td>3</td>\n",
       "      <td>1110</td>\n",
       "      <td>15766</td>\n",
       "      <td>1212</td>\n",
       "      <td>3</td>\n",
       "    </tr>\n",
       "    <tr>\n",
       "      <th>1</th>\n",
       "      <td>3</td>\n",
       "      <td>1110</td>\n",
       "      <td>15766</td>\n",
       "      <td>1216</td>\n",
       "      <td>4</td>\n",
       "    </tr>\n",
       "    <tr>\n",
       "      <th>2</th>\n",
       "      <td>3</td>\n",
       "      <td>1110</td>\n",
       "      <td>15766</td>\n",
       "      <td>1238</td>\n",
       "      <td>4</td>\n",
       "    </tr>\n",
       "    <tr>\n",
       "      <th>3</th>\n",
       "      <td>3</td>\n",
       "      <td>1110</td>\n",
       "      <td>15766</td>\n",
       "      <td>1240</td>\n",
       "      <td>4</td>\n",
       "    </tr>\n",
       "    <tr>\n",
       "      <th>4</th>\n",
       "      <td>3</td>\n",
       "      <td>1110</td>\n",
       "      <td>15766</td>\n",
       "      <td>1242</td>\n",
       "      <td>3</td>\n",
       "    </tr>\n",
       "    <tr>\n",
       "      <th>...</th>\n",
       "      <td>...</td>\n",
       "      <td>...</td>\n",
       "      <td>...</td>\n",
       "      <td>...</td>\n",
       "      <td>...</td>\n",
       "    </tr>\n",
       "    <tr>\n",
       "      <th>7974413</th>\n",
       "      <td>8</td>\n",
       "      <td>1173</td>\n",
       "      <td>4549706</td>\n",
       "      <td>1242</td>\n",
       "      <td>2</td>\n",
       "    </tr>\n",
       "    <tr>\n",
       "      <th>7974414</th>\n",
       "      <td>8</td>\n",
       "      <td>1173</td>\n",
       "      <td>4549706</td>\n",
       "      <td>5310</td>\n",
       "      <td>12</td>\n",
       "    </tr>\n",
       "    <tr>\n",
       "      <th>7974415</th>\n",
       "      <td>8</td>\n",
       "      <td>1173</td>\n",
       "      <td>4549706</td>\n",
       "      <td>40447</td>\n",
       "      <td>10</td>\n",
       "    </tr>\n",
       "    <tr>\n",
       "      <th>7974416</th>\n",
       "      <td>8</td>\n",
       "      <td>1173</td>\n",
       "      <td>4549706</td>\n",
       "      <td>40450</td>\n",
       "      <td>18</td>\n",
       "    </tr>\n",
       "    <tr>\n",
       "      <th>7974417</th>\n",
       "      <td>8</td>\n",
       "      <td>1173</td>\n",
       "      <td>4549706</td>\n",
       "      <td>46772</td>\n",
       "      <td>16</td>\n",
       "    </tr>\n",
       "  </tbody>\n",
       "</table>\n",
       "<p>7974418 rows × 5 columns</p>\n",
       "</div>"
      ],
      "text/plain": [
       "         Semana  Agencia_ID  Cliente_ID  Producto_ID  Demanda_uni_equil\n",
       "0             3        1110       15766         1212                  3\n",
       "1             3        1110       15766         1216                  4\n",
       "2             3        1110       15766         1238                  4\n",
       "3             3        1110       15766         1240                  4\n",
       "4             3        1110       15766         1242                  3\n",
       "...         ...         ...         ...          ...                ...\n",
       "7974413       8        1173     4549706         1242                  2\n",
       "7974414       8        1173     4549706         5310                 12\n",
       "7974415       8        1173     4549706        40447                 10\n",
       "7974416       8        1173     4549706        40450                 18\n",
       "7974417       8        1173     4549706        46772                 16\n",
       "\n",
       "[7974418 rows x 5 columns]"
      ]
     },
     "execution_count": 26,
     "metadata": {},
     "output_type": "execute_result"
    }
   ],
   "source": [
    "dfx"
   ]
  },
  {
   "cell_type": "markdown",
   "id": "283da96a-886f-4842-911d-7c6b15fe3f75",
   "metadata": {
    "heading_collapsed": "true",
    "tags": []
   },
   "source": [
    "##### Creating unique `Agencia_ID`, `Cliente_ID`, `Producto_ID` combination field"
   ]
  },
  {
   "cell_type": "code",
   "execution_count": 27,
   "id": "6b2a2c56-d4d9-4ea1-af2e-f329c052fc86",
   "metadata": {},
   "outputs": [],
   "source": [
    "dfx[\"acp_combo\"] = dfx[\"Agencia_ID\"].astype(str) + \"-\" + dfx[\"Cliente_ID\"].astype(str) + \"-\" + dfx[\"Producto_ID\"].astype(str)\n",
    "\n",
    "dfx = dfx.loc[:, [\"Semana\", \"acp_combo\", \"Demanda_uni_equil\"]]"
   ]
  },
  {
   "cell_type": "code",
   "execution_count": 28,
   "id": "969cacd8-be12-4376-9e45-671321036c06",
   "metadata": {},
   "outputs": [
    {
     "data": {
      "text/html": [
       "<div>\n",
       "<style scoped>\n",
       "    .dataframe tbody tr th:only-of-type {\n",
       "        vertical-align: middle;\n",
       "    }\n",
       "\n",
       "    .dataframe tbody tr th {\n",
       "        vertical-align: top;\n",
       "    }\n",
       "\n",
       "    .dataframe thead th {\n",
       "        text-align: right;\n",
       "    }\n",
       "</style>\n",
       "<table border=\"1\" class=\"dataframe\">\n",
       "  <thead>\n",
       "    <tr style=\"text-align: right;\">\n",
       "      <th></th>\n",
       "      <th>Semana</th>\n",
       "      <th>acp_combo</th>\n",
       "      <th>Demanda_uni_equil</th>\n",
       "    </tr>\n",
       "  </thead>\n",
       "  <tbody>\n",
       "    <tr>\n",
       "      <th>0</th>\n",
       "      <td>3</td>\n",
       "      <td>1110-15766-1212</td>\n",
       "      <td>3</td>\n",
       "    </tr>\n",
       "    <tr>\n",
       "      <th>1</th>\n",
       "      <td>3</td>\n",
       "      <td>1110-15766-1216</td>\n",
       "      <td>4</td>\n",
       "    </tr>\n",
       "    <tr>\n",
       "      <th>2</th>\n",
       "      <td>3</td>\n",
       "      <td>1110-15766-1238</td>\n",
       "      <td>4</td>\n",
       "    </tr>\n",
       "    <tr>\n",
       "      <th>3</th>\n",
       "      <td>3</td>\n",
       "      <td>1110-15766-1240</td>\n",
       "      <td>4</td>\n",
       "    </tr>\n",
       "    <tr>\n",
       "      <th>4</th>\n",
       "      <td>3</td>\n",
       "      <td>1110-15766-1242</td>\n",
       "      <td>3</td>\n",
       "    </tr>\n",
       "    <tr>\n",
       "      <th>...</th>\n",
       "      <td>...</td>\n",
       "      <td>...</td>\n",
       "      <td>...</td>\n",
       "    </tr>\n",
       "    <tr>\n",
       "      <th>7974413</th>\n",
       "      <td>8</td>\n",
       "      <td>1173-4549706-1242</td>\n",
       "      <td>2</td>\n",
       "    </tr>\n",
       "    <tr>\n",
       "      <th>7974414</th>\n",
       "      <td>8</td>\n",
       "      <td>1173-4549706-5310</td>\n",
       "      <td>12</td>\n",
       "    </tr>\n",
       "    <tr>\n",
       "      <th>7974415</th>\n",
       "      <td>8</td>\n",
       "      <td>1173-4549706-40447</td>\n",
       "      <td>10</td>\n",
       "    </tr>\n",
       "    <tr>\n",
       "      <th>7974416</th>\n",
       "      <td>8</td>\n",
       "      <td>1173-4549706-40450</td>\n",
       "      <td>18</td>\n",
       "    </tr>\n",
       "    <tr>\n",
       "      <th>7974417</th>\n",
       "      <td>8</td>\n",
       "      <td>1173-4549706-46772</td>\n",
       "      <td>16</td>\n",
       "    </tr>\n",
       "  </tbody>\n",
       "</table>\n",
       "<p>7974418 rows × 3 columns</p>\n",
       "</div>"
      ],
      "text/plain": [
       "         Semana           acp_combo  Demanda_uni_equil\n",
       "0             3     1110-15766-1212                  3\n",
       "1             3     1110-15766-1216                  4\n",
       "2             3     1110-15766-1238                  4\n",
       "3             3     1110-15766-1240                  4\n",
       "4             3     1110-15766-1242                  3\n",
       "...         ...                 ...                ...\n",
       "7974413       8   1173-4549706-1242                  2\n",
       "7974414       8   1173-4549706-5310                 12\n",
       "7974415       8  1173-4549706-40447                 10\n",
       "7974416       8  1173-4549706-40450                 18\n",
       "7974417       8  1173-4549706-46772                 16\n",
       "\n",
       "[7974418 rows x 3 columns]"
      ]
     },
     "execution_count": 28,
     "metadata": {},
     "output_type": "execute_result"
    }
   ],
   "source": [
    "dfx"
   ]
  },
  {
   "cell_type": "markdown",
   "id": "c989cab8-0658-4054-b137-262ff19ff40c",
   "metadata": {
    "heading_collapsed": "true",
    "tags": []
   },
   "source": [
    "##### Finding the combinations that had the highest historic demand values (top 5)"
   ]
  },
  {
   "cell_type": "code",
   "execution_count": 36,
   "id": "bb234b58-e669-49a7-8b6b-7ea562eaa79e",
   "metadata": {},
   "outputs": [],
   "source": [
    "dfx2 = dfx.groupby([\"acp_combo\"]).sum()[[\"Demanda_uni_equil\"]].sort_values(by=\"Demanda_uni_equil\", ascending=False)"
   ]
  },
  {
   "cell_type": "code",
   "execution_count": 37,
   "id": "fc118e38-01e0-492b-8c37-aeacf223794b",
   "metadata": {},
   "outputs": [
    {
     "data": {
      "text/plain": [
       "['1143-1963526-2604',\n",
       " '1160-827594-1166',\n",
       " '1160-827594-1167',\n",
       " '1110-20797-2604',\n",
       " '1160-827594-33198']"
      ]
     },
     "execution_count": 37,
     "metadata": {},
     "output_type": "execute_result"
    }
   ],
   "source": [
    "acp_combo_top = list(dfx2[:5].index)\n",
    "acp_combo_top"
   ]
  },
  {
   "cell_type": "markdown",
   "id": "9579508c-c501-477c-a185-4789a8b5b8e0",
   "metadata": {
    "heading_collapsed": "true",
    "tags": []
   },
   "source": [
    "#### Graph of top 5 combos"
   ]
  },
  {
   "cell_type": "code",
   "execution_count": 39,
   "id": "a559f39c-4890-46da-bad8-916ebbe68e1d",
   "metadata": {},
   "outputs": [],
   "source": [
    "dfx = dfx[dfx[\"acp_combo\"].isin(acp_combo_top)]"
   ]
  },
  {
   "cell_type": "code",
   "execution_count": 40,
   "id": "cc992d7c-e7e5-498a-8ea3-c7143c7bd3cf",
   "metadata": {
    "tags": []
   },
   "outputs": [],
   "source": [
    "dfx = dfx.groupby([\"Semana\", \"acp_combo\"], as_index=False).sum()"
   ]
  },
  {
   "cell_type": "code",
   "execution_count": 44,
   "id": "c87c4ba3-b558-4080-9c0b-c8721f8bdaa1",
   "metadata": {},
   "outputs": [
    {
     "data": {
      "application/vnd.plotly.v1+json": {
       "config": {
        "plotlyServerURL": "https://plot.ly"
       },
       "data": [
        {
         "hovertemplate": "acp_combo=1110-20797-2604<br>Semana=%{x}<br>Demanda_uni_equil=%{y}<extra></extra>",
         "legendgroup": "1110-20797-2604",
         "line": {
          "color": "#636efa",
          "dash": "solid"
         },
         "mode": "lines",
         "name": "1110-20797-2604",
         "orientation": "v",
         "showlegend": true,
         "type": "scatter",
         "x": [
          3,
          4,
          5,
          6,
          7,
          8
         ],
         "xaxis": "x",
         "y": [
          1064,
          3556,
          2520,
          1960,
          2296,
          3164
         ],
         "yaxis": "y"
        },
        {
         "hovertemplate": "acp_combo=1143-1963526-2604<br>Semana=%{x}<br>Demanda_uni_equil=%{y}<extra></extra>",
         "legendgroup": "1143-1963526-2604",
         "line": {
          "color": "#EF553B",
          "dash": "solid"
         },
         "mode": "lines",
         "name": "1143-1963526-2604",
         "orientation": "v",
         "showlegend": true,
         "type": "scatter",
         "x": [
          3,
          4,
          5,
          6,
          7,
          8
         ],
         "xaxis": "x",
         "y": [
          3332,
          3640,
          3920,
          3360,
          1680,
          3920
         ],
         "yaxis": "y"
        },
        {
         "hovertemplate": "acp_combo=1160-827594-1166<br>Semana=%{x}<br>Demanda_uni_equil=%{y}<extra></extra>",
         "legendgroup": "1160-827594-1166",
         "line": {
          "color": "#00cc96",
          "dash": "solid"
         },
         "mode": "lines",
         "name": "1160-827594-1166",
         "orientation": "v",
         "showlegend": true,
         "type": "scatter",
         "x": [
          3,
          4,
          5,
          6,
          7,
          8
         ],
         "xaxis": "x",
         "y": [
          4608,
          3456,
          2304,
          3456,
          1152,
          3456
         ],
         "yaxis": "y"
        },
        {
         "hovertemplate": "acp_combo=1160-827594-1167<br>Semana=%{x}<br>Demanda_uni_equil=%{y}<extra></extra>",
         "legendgroup": "1160-827594-1167",
         "line": {
          "color": "#ab63fa",
          "dash": "solid"
         },
         "mode": "lines",
         "name": "1160-827594-1167",
         "orientation": "v",
         "showlegend": true,
         "type": "scatter",
         "x": [
          3,
          5,
          6,
          7,
          8
         ],
         "xaxis": "x",
         "y": [
          4608,
          3456,
          3312,
          4608,
          2232
         ],
         "yaxis": "y"
        },
        {
         "hovertemplate": "acp_combo=1160-827594-33198<br>Semana=%{x}<br>Demanda_uni_equil=%{y}<extra></extra>",
         "legendgroup": "1160-827594-33198",
         "line": {
          "color": "#FFA15A",
          "dash": "solid"
         },
         "mode": "lines",
         "name": "1160-827594-33198",
         "orientation": "v",
         "showlegend": true,
         "type": "scatter",
         "x": [
          3,
          4,
          5,
          6,
          7,
          8
         ],
         "xaxis": "x",
         "y": [
          3008,
          960,
          3904,
          2176,
          1024,
          3072
         ],
         "yaxis": "y"
        }
       ],
       "layout": {
        "autosize": true,
        "legend": {
         "title": {
          "text": "acp_combo"
         },
         "tracegroupgap": 0
        },
        "margin": {
         "t": 60
        },
        "template": {
         "data": {
          "bar": [
           {
            "error_x": {
             "color": "#2a3f5f"
            },
            "error_y": {
             "color": "#2a3f5f"
            },
            "marker": {
             "line": {
              "color": "#E5ECF6",
              "width": 0.5
             },
             "pattern": {
              "fillmode": "overlay",
              "size": 10,
              "solidity": 0.2
             }
            },
            "type": "bar"
           }
          ],
          "barpolar": [
           {
            "marker": {
             "line": {
              "color": "#E5ECF6",
              "width": 0.5
             },
             "pattern": {
              "fillmode": "overlay",
              "size": 10,
              "solidity": 0.2
             }
            },
            "type": "barpolar"
           }
          ],
          "carpet": [
           {
            "aaxis": {
             "endlinecolor": "#2a3f5f",
             "gridcolor": "white",
             "linecolor": "white",
             "minorgridcolor": "white",
             "startlinecolor": "#2a3f5f"
            },
            "baxis": {
             "endlinecolor": "#2a3f5f",
             "gridcolor": "white",
             "linecolor": "white",
             "minorgridcolor": "white",
             "startlinecolor": "#2a3f5f"
            },
            "type": "carpet"
           }
          ],
          "choropleth": [
           {
            "colorbar": {
             "outlinewidth": 0,
             "ticks": ""
            },
            "type": "choropleth"
           }
          ],
          "contour": [
           {
            "colorbar": {
             "outlinewidth": 0,
             "ticks": ""
            },
            "colorscale": [
             [
              0,
              "#0d0887"
             ],
             [
              0.1111111111111111,
              "#46039f"
             ],
             [
              0.2222222222222222,
              "#7201a8"
             ],
             [
              0.3333333333333333,
              "#9c179e"
             ],
             [
              0.4444444444444444,
              "#bd3786"
             ],
             [
              0.5555555555555556,
              "#d8576b"
             ],
             [
              0.6666666666666666,
              "#ed7953"
             ],
             [
              0.7777777777777778,
              "#fb9f3a"
             ],
             [
              0.8888888888888888,
              "#fdca26"
             ],
             [
              1,
              "#f0f921"
             ]
            ],
            "type": "contour"
           }
          ],
          "contourcarpet": [
           {
            "colorbar": {
             "outlinewidth": 0,
             "ticks": ""
            },
            "type": "contourcarpet"
           }
          ],
          "heatmap": [
           {
            "colorbar": {
             "outlinewidth": 0,
             "ticks": ""
            },
            "colorscale": [
             [
              0,
              "#0d0887"
             ],
             [
              0.1111111111111111,
              "#46039f"
             ],
             [
              0.2222222222222222,
              "#7201a8"
             ],
             [
              0.3333333333333333,
              "#9c179e"
             ],
             [
              0.4444444444444444,
              "#bd3786"
             ],
             [
              0.5555555555555556,
              "#d8576b"
             ],
             [
              0.6666666666666666,
              "#ed7953"
             ],
             [
              0.7777777777777778,
              "#fb9f3a"
             ],
             [
              0.8888888888888888,
              "#fdca26"
             ],
             [
              1,
              "#f0f921"
             ]
            ],
            "type": "heatmap"
           }
          ],
          "heatmapgl": [
           {
            "colorbar": {
             "outlinewidth": 0,
             "ticks": ""
            },
            "colorscale": [
             [
              0,
              "#0d0887"
             ],
             [
              0.1111111111111111,
              "#46039f"
             ],
             [
              0.2222222222222222,
              "#7201a8"
             ],
             [
              0.3333333333333333,
              "#9c179e"
             ],
             [
              0.4444444444444444,
              "#bd3786"
             ],
             [
              0.5555555555555556,
              "#d8576b"
             ],
             [
              0.6666666666666666,
              "#ed7953"
             ],
             [
              0.7777777777777778,
              "#fb9f3a"
             ],
             [
              0.8888888888888888,
              "#fdca26"
             ],
             [
              1,
              "#f0f921"
             ]
            ],
            "type": "heatmapgl"
           }
          ],
          "histogram": [
           {
            "marker": {
             "pattern": {
              "fillmode": "overlay",
              "size": 10,
              "solidity": 0.2
             }
            },
            "type": "histogram"
           }
          ],
          "histogram2d": [
           {
            "colorbar": {
             "outlinewidth": 0,
             "ticks": ""
            },
            "colorscale": [
             [
              0,
              "#0d0887"
             ],
             [
              0.1111111111111111,
              "#46039f"
             ],
             [
              0.2222222222222222,
              "#7201a8"
             ],
             [
              0.3333333333333333,
              "#9c179e"
             ],
             [
              0.4444444444444444,
              "#bd3786"
             ],
             [
              0.5555555555555556,
              "#d8576b"
             ],
             [
              0.6666666666666666,
              "#ed7953"
             ],
             [
              0.7777777777777778,
              "#fb9f3a"
             ],
             [
              0.8888888888888888,
              "#fdca26"
             ],
             [
              1,
              "#f0f921"
             ]
            ],
            "type": "histogram2d"
           }
          ],
          "histogram2dcontour": [
           {
            "colorbar": {
             "outlinewidth": 0,
             "ticks": ""
            },
            "colorscale": [
             [
              0,
              "#0d0887"
             ],
             [
              0.1111111111111111,
              "#46039f"
             ],
             [
              0.2222222222222222,
              "#7201a8"
             ],
             [
              0.3333333333333333,
              "#9c179e"
             ],
             [
              0.4444444444444444,
              "#bd3786"
             ],
             [
              0.5555555555555556,
              "#d8576b"
             ],
             [
              0.6666666666666666,
              "#ed7953"
             ],
             [
              0.7777777777777778,
              "#fb9f3a"
             ],
             [
              0.8888888888888888,
              "#fdca26"
             ],
             [
              1,
              "#f0f921"
             ]
            ],
            "type": "histogram2dcontour"
           }
          ],
          "mesh3d": [
           {
            "colorbar": {
             "outlinewidth": 0,
             "ticks": ""
            },
            "type": "mesh3d"
           }
          ],
          "parcoords": [
           {
            "line": {
             "colorbar": {
              "outlinewidth": 0,
              "ticks": ""
             }
            },
            "type": "parcoords"
           }
          ],
          "pie": [
           {
            "automargin": true,
            "type": "pie"
           }
          ],
          "scatter": [
           {
            "marker": {
             "colorbar": {
              "outlinewidth": 0,
              "ticks": ""
             }
            },
            "type": "scatter"
           }
          ],
          "scatter3d": [
           {
            "line": {
             "colorbar": {
              "outlinewidth": 0,
              "ticks": ""
             }
            },
            "marker": {
             "colorbar": {
              "outlinewidth": 0,
              "ticks": ""
             }
            },
            "type": "scatter3d"
           }
          ],
          "scattercarpet": [
           {
            "marker": {
             "colorbar": {
              "outlinewidth": 0,
              "ticks": ""
             }
            },
            "type": "scattercarpet"
           }
          ],
          "scattergeo": [
           {
            "marker": {
             "colorbar": {
              "outlinewidth": 0,
              "ticks": ""
             }
            },
            "type": "scattergeo"
           }
          ],
          "scattergl": [
           {
            "marker": {
             "colorbar": {
              "outlinewidth": 0,
              "ticks": ""
             }
            },
            "type": "scattergl"
           }
          ],
          "scattermapbox": [
           {
            "marker": {
             "colorbar": {
              "outlinewidth": 0,
              "ticks": ""
             }
            },
            "type": "scattermapbox"
           }
          ],
          "scatterpolar": [
           {
            "marker": {
             "colorbar": {
              "outlinewidth": 0,
              "ticks": ""
             }
            },
            "type": "scatterpolar"
           }
          ],
          "scatterpolargl": [
           {
            "marker": {
             "colorbar": {
              "outlinewidth": 0,
              "ticks": ""
             }
            },
            "type": "scatterpolargl"
           }
          ],
          "scatterternary": [
           {
            "marker": {
             "colorbar": {
              "outlinewidth": 0,
              "ticks": ""
             }
            },
            "type": "scatterternary"
           }
          ],
          "surface": [
           {
            "colorbar": {
             "outlinewidth": 0,
             "ticks": ""
            },
            "colorscale": [
             [
              0,
              "#0d0887"
             ],
             [
              0.1111111111111111,
              "#46039f"
             ],
             [
              0.2222222222222222,
              "#7201a8"
             ],
             [
              0.3333333333333333,
              "#9c179e"
             ],
             [
              0.4444444444444444,
              "#bd3786"
             ],
             [
              0.5555555555555556,
              "#d8576b"
             ],
             [
              0.6666666666666666,
              "#ed7953"
             ],
             [
              0.7777777777777778,
              "#fb9f3a"
             ],
             [
              0.8888888888888888,
              "#fdca26"
             ],
             [
              1,
              "#f0f921"
             ]
            ],
            "type": "surface"
           }
          ],
          "table": [
           {
            "cells": {
             "fill": {
              "color": "#EBF0F8"
             },
             "line": {
              "color": "white"
             }
            },
            "header": {
             "fill": {
              "color": "#C8D4E3"
             },
             "line": {
              "color": "white"
             }
            },
            "type": "table"
           }
          ]
         },
         "layout": {
          "annotationdefaults": {
           "arrowcolor": "#2a3f5f",
           "arrowhead": 0,
           "arrowwidth": 1
          },
          "autotypenumbers": "strict",
          "coloraxis": {
           "colorbar": {
            "outlinewidth": 0,
            "ticks": ""
           }
          },
          "colorscale": {
           "diverging": [
            [
             0,
             "#8e0152"
            ],
            [
             0.1,
             "#c51b7d"
            ],
            [
             0.2,
             "#de77ae"
            ],
            [
             0.3,
             "#f1b6da"
            ],
            [
             0.4,
             "#fde0ef"
            ],
            [
             0.5,
             "#f7f7f7"
            ],
            [
             0.6,
             "#e6f5d0"
            ],
            [
             0.7,
             "#b8e186"
            ],
            [
             0.8,
             "#7fbc41"
            ],
            [
             0.9,
             "#4d9221"
            ],
            [
             1,
             "#276419"
            ]
           ],
           "sequential": [
            [
             0,
             "#0d0887"
            ],
            [
             0.1111111111111111,
             "#46039f"
            ],
            [
             0.2222222222222222,
             "#7201a8"
            ],
            [
             0.3333333333333333,
             "#9c179e"
            ],
            [
             0.4444444444444444,
             "#bd3786"
            ],
            [
             0.5555555555555556,
             "#d8576b"
            ],
            [
             0.6666666666666666,
             "#ed7953"
            ],
            [
             0.7777777777777778,
             "#fb9f3a"
            ],
            [
             0.8888888888888888,
             "#fdca26"
            ],
            [
             1,
             "#f0f921"
            ]
           ],
           "sequentialminus": [
            [
             0,
             "#0d0887"
            ],
            [
             0.1111111111111111,
             "#46039f"
            ],
            [
             0.2222222222222222,
             "#7201a8"
            ],
            [
             0.3333333333333333,
             "#9c179e"
            ],
            [
             0.4444444444444444,
             "#bd3786"
            ],
            [
             0.5555555555555556,
             "#d8576b"
            ],
            [
             0.6666666666666666,
             "#ed7953"
            ],
            [
             0.7777777777777778,
             "#fb9f3a"
            ],
            [
             0.8888888888888888,
             "#fdca26"
            ],
            [
             1,
             "#f0f921"
            ]
           ]
          },
          "colorway": [
           "#636efa",
           "#EF553B",
           "#00cc96",
           "#ab63fa",
           "#FFA15A",
           "#19d3f3",
           "#FF6692",
           "#B6E880",
           "#FF97FF",
           "#FECB52"
          ],
          "font": {
           "color": "#2a3f5f"
          },
          "geo": {
           "bgcolor": "white",
           "lakecolor": "white",
           "landcolor": "#E5ECF6",
           "showlakes": true,
           "showland": true,
           "subunitcolor": "white"
          },
          "hoverlabel": {
           "align": "left"
          },
          "hovermode": "closest",
          "mapbox": {
           "style": "light"
          },
          "paper_bgcolor": "white",
          "plot_bgcolor": "#E5ECF6",
          "polar": {
           "angularaxis": {
            "gridcolor": "white",
            "linecolor": "white",
            "ticks": ""
           },
           "bgcolor": "#E5ECF6",
           "radialaxis": {
            "gridcolor": "white",
            "linecolor": "white",
            "ticks": ""
           }
          },
          "scene": {
           "xaxis": {
            "backgroundcolor": "#E5ECF6",
            "gridcolor": "white",
            "gridwidth": 2,
            "linecolor": "white",
            "showbackground": true,
            "ticks": "",
            "zerolinecolor": "white"
           },
           "yaxis": {
            "backgroundcolor": "#E5ECF6",
            "gridcolor": "white",
            "gridwidth": 2,
            "linecolor": "white",
            "showbackground": true,
            "ticks": "",
            "zerolinecolor": "white"
           },
           "zaxis": {
            "backgroundcolor": "#E5ECF6",
            "gridcolor": "white",
            "gridwidth": 2,
            "linecolor": "white",
            "showbackground": true,
            "ticks": "",
            "zerolinecolor": "white"
           }
          },
          "shapedefaults": {
           "line": {
            "color": "#2a3f5f"
           }
          },
          "ternary": {
           "aaxis": {
            "gridcolor": "white",
            "linecolor": "white",
            "ticks": ""
           },
           "baxis": {
            "gridcolor": "white",
            "linecolor": "white",
            "ticks": ""
           },
           "bgcolor": "#E5ECF6",
           "caxis": {
            "gridcolor": "white",
            "linecolor": "white",
            "ticks": ""
           }
          },
          "title": {
           "x": 0.05
          },
          "xaxis": {
           "automargin": true,
           "gridcolor": "white",
           "linecolor": "white",
           "ticks": "",
           "title": {
            "standoff": 15
           },
           "zerolinecolor": "white",
           "zerolinewidth": 2
          },
          "yaxis": {
           "automargin": true,
           "gridcolor": "white",
           "linecolor": "white",
           "ticks": "",
           "title": {
            "standoff": 15
           },
           "zerolinecolor": "white",
           "zerolinewidth": 2
          }
         }
        },
        "title": {
         "text": "Serie de tiempo de demanda para las top 5 combinaciones agencia-cliente-producto"
        },
        "xaxis": {
         "anchor": "y",
         "autorange": true,
         "domain": [
          0,
          1
         ],
         "range": [
          3,
          8
         ],
         "title": {
          "text": "Semana"
         },
         "type": "linear"
        },
        "yaxis": {
         "anchor": "x",
         "autorange": true,
         "domain": [
          0,
          1
         ],
         "range": [
          757.3333333333333,
          4810.666666666667
         ],
         "title": {
          "text": "Demanda_uni_equil"
         },
         "type": "linear"
        }
       }
      },
      "image/png": "[encoded data removed]",
      "text/html": [
       "<div>                            <div id=\"fd4de4f5-877e-4f0c-b4fc-a22fd2f52b77\" class=\"plotly-graph-div\" style=\"height:525px; width:100%;\"></div>            <script type=\"text/javascript\">                require([\"plotly\"], function(Plotly) {                    window.PLOTLYENV=window.PLOTLYENV || {};                                    if (document.getElementById(\"fd4de4f5-877e-4f0c-b4fc-a22fd2f52b77\")) {                    Plotly.newPlot(                        \"fd4de4f5-877e-4f0c-b4fc-a22fd2f52b77\",                        [{\"hovertemplate\":\"acp_combo=1110-20797-2604<br>Semana=%{x}<br>Demanda_uni_equil=%{y}<extra></extra>\",\"legendgroup\":\"1110-20797-2604\",\"line\":{\"color\":\"#636efa\",\"dash\":\"solid\"},\"mode\":\"lines\",\"name\":\"1110-20797-2604\",\"orientation\":\"v\",\"showlegend\":true,\"type\":\"scatter\",\"x\":[3,4,5,6,7,8],\"xaxis\":\"x\",\"y\":[1064,3556,2520,1960,2296,3164],\"yaxis\":\"y\"},{\"hovertemplate\":\"acp_combo=1143-1963526-2604<br>Semana=%{x}<br>Demanda_uni_equil=%{y}<extra></extra>\",\"legendgroup\":\"1143-1963526-2604\",\"line\":{\"color\":\"#EF553B\",\"dash\":\"solid\"},\"mode\":\"lines\",\"name\":\"1143-1963526-2604\",\"orientation\":\"v\",\"showlegend\":true,\"type\":\"scatter\",\"x\":[3,4,5,6,7,8],\"xaxis\":\"x\",\"y\":[3332,3640,3920,3360,1680,3920],\"yaxis\":\"y\"},{\"hovertemplate\":\"acp_combo=1160-827594-1166<br>Semana=%{x}<br>Demanda_uni_equil=%{y}<extra></extra>\",\"legendgroup\":\"1160-827594-1166\",\"line\":{\"color\":\"#00cc96\",\"dash\":\"solid\"},\"mode\":\"lines\",\"name\":\"1160-827594-1166\",\"orientation\":\"v\",\"showlegend\":true,\"type\":\"scatter\",\"x\":[3,4,5,6,7,8],\"xaxis\":\"x\",\"y\":[4608,3456,2304,3456,1152,3456],\"yaxis\":\"y\"},{\"hovertemplate\":\"acp_combo=1160-827594-1167<br>Semana=%{x}<br>Demanda_uni_equil=%{y}<extra></extra>\",\"legendgroup\":\"1160-827594-1167\",\"line\":{\"color\":\"#ab63fa\",\"dash\":\"solid\"},\"mode\":\"lines\",\"name\":\"1160-827594-1167\",\"orientation\":\"v\",\"showlegend\":true,\"type\":\"scatter\",\"x\":[3,5,6,7,8],\"xaxis\":\"x\",\"y\":[4608,3456,3312,4608,2232],\"yaxis\":\"y\"},{\"hovertemplate\":\"acp_combo=1160-827594-33198<br>Semana=%{x}<br>Demanda_uni_equil=%{y}<extra></extra>\",\"legendgroup\":\"1160-827594-33198\",\"line\":{\"color\":\"#FFA15A\",\"dash\":\"solid\"},\"mode\":\"lines\",\"name\":\"1160-827594-33198\",\"orientation\":\"v\",\"showlegend\":true,\"type\":\"scatter\",\"x\":[3,4,5,6,7,8],\"xaxis\":\"x\",\"y\":[3008,960,3904,2176,1024,3072],\"yaxis\":\"y\"}],                        {\"legend\":{\"title\":{\"text\":\"acp_combo\"},\"tracegroupgap\":0},\"margin\":{\"t\":60},\"template\":{\"data\":{\"bar\":[{\"error_x\":{\"color\":\"#2a3f5f\"},\"error_y\":{\"color\":\"#2a3f5f\"},\"marker\":{\"line\":{\"color\":\"#E5ECF6\",\"width\":0.5},\"pattern\":{\"fillmode\":\"overlay\",\"size\":10,\"solidity\":0.2}},\"type\":\"bar\"}],\"barpolar\":[{\"marker\":{\"line\":{\"color\":\"#E5ECF6\",\"width\":0.5},\"pattern\":{\"fillmode\":\"overlay\",\"size\":10,\"solidity\":0.2}},\"type\":\"barpolar\"}],\"carpet\":[{\"aaxis\":{\"endlinecolor\":\"#2a3f5f\",\"gridcolor\":\"white\",\"linecolor\":\"white\",\"minorgridcolor\":\"white\",\"startlinecolor\":\"#2a3f5f\"},\"baxis\":{\"endlinecolor\":\"#2a3f5f\",\"gridcolor\":\"white\",\"linecolor\":\"white\",\"minorgridcolor\":\"white\",\"startlinecolor\":\"#2a3f5f\"},\"type\":\"carpet\"}],\"choropleth\":[{\"colorbar\":{\"outlinewidth\":0,\"ticks\":\"\"},\"type\":\"choropleth\"}],\"contour\":[{\"colorbar\":{\"outlinewidth\":0,\"ticks\":\"\"},\"colorscale\":[[0.0,\"#0d0887\"],[0.1111111111111111,\"#46039f\"],[0.2222222222222222,\"#7201a8\"],[0.3333333333333333,\"#9c179e\"],[0.4444444444444444,\"#bd3786\"],[0.5555555555555556,\"#d8576b\"],[0.6666666666666666,\"#ed7953\"],[0.7777777777777778,\"#fb9f3a\"],[0.8888888888888888,\"#fdca26\"],[1.0,\"#f0f921\"]],\"type\":\"contour\"}],\"contourcarpet\":[{\"colorbar\":{\"outlinewidth\":0,\"ticks\":\"\"},\"type\":\"contourcarpet\"}],\"heatmap\":[{\"colorbar\":{\"outlinewidth\":0,\"ticks\":\"\"},\"colorscale\":[[0.0,\"#0d0887\"],[0.1111111111111111,\"#46039f\"],[0.2222222222222222,\"#7201a8\"],[0.3333333333333333,\"#9c179e\"],[0.4444444444444444,\"#bd3786\"],[0.5555555555555556,\"#d8576b\"],[0.6666666666666666,\"#ed7953\"],[0.7777777777777778,\"#fb9f3a\"],[0.8888888888888888,\"#fdca26\"],[1.0,\"#f0f921\"]],\"type\":\"heatmap\"}],\"heatmapgl\":[{\"colorbar\":{\"outlinewidth\":0,\"ticks\":\"\"},\"colorscale\":[[0.0,\"#0d0887\"],[0.1111111111111111,\"#46039f\"],[0.2222222222222222,\"#7201a8\"],[0.3333333333333333,\"#9c179e\"],[0.4444444444444444,\"#bd3786\"],[0.5555555555555556,\"#d8576b\"],[0.6666666666666666,\"#ed7953\"],[0.7777777777777778,\"#fb9f3a\"],[0.8888888888888888,\"#fdca26\"],[1.0,\"#f0f921\"]],\"type\":\"heatmapgl\"}],\"histogram\":[{\"marker\":{\"pattern\":{\"fillmode\":\"overlay\",\"size\":10,\"solidity\":0.2}},\"type\":\"histogram\"}],\"histogram2d\":[{\"colorbar\":{\"outlinewidth\":0,\"ticks\":\"\"},\"colorscale\":[[0.0,\"#0d0887\"],[0.1111111111111111,\"#46039f\"],[0.2222222222222222,\"#7201a8\"],[0.3333333333333333,\"#9c179e\"],[0.4444444444444444,\"#bd3786\"],[0.5555555555555556,\"#d8576b\"],[0.6666666666666666,\"#ed7953\"],[0.7777777777777778,\"#fb9f3a\"],[0.8888888888888888,\"#fdca26\"],[1.0,\"#f0f921\"]],\"type\":\"histogram2d\"}],\"histogram2dcontour\":[{\"colorbar\":{\"outlinewidth\":0,\"ticks\":\"\"},\"colorscale\":[[0.0,\"#0d0887\"],[0.1111111111111111,\"#46039f\"],[0.2222222222222222,\"#7201a8\"],[0.3333333333333333,\"#9c179e\"],[0.4444444444444444,\"#bd3786\"],[0.5555555555555556,\"#d8576b\"],[0.6666666666666666,\"#ed7953\"],[0.7777777777777778,\"#fb9f3a\"],[0.8888888888888888,\"#fdca26\"],[1.0,\"#f0f921\"]],\"type\":\"histogram2dcontour\"}],\"mesh3d\":[{\"colorbar\":{\"outlinewidth\":0,\"ticks\":\"\"},\"type\":\"mesh3d\"}],\"parcoords\":[{\"line\":{\"colorbar\":{\"outlinewidth\":0,\"ticks\":\"\"}},\"type\":\"parcoords\"}],\"pie\":[{\"automargin\":true,\"type\":\"pie\"}],\"scatter\":[{\"marker\":{\"colorbar\":{\"outlinewidth\":0,\"ticks\":\"\"}},\"type\":\"scatter\"}],\"scatter3d\":[{\"line\":{\"colorbar\":{\"outlinewidth\":0,\"ticks\":\"\"}},\"marker\":{\"colorbar\":{\"outlinewidth\":0,\"ticks\":\"\"}},\"type\":\"scatter3d\"}],\"scattercarpet\":[{\"marker\":{\"colorbar\":{\"outlinewidth\":0,\"ticks\":\"\"}},\"type\":\"scattercarpet\"}],\"scattergeo\":[{\"marker\":{\"colorbar\":{\"outlinewidth\":0,\"ticks\":\"\"}},\"type\":\"scattergeo\"}],\"scattergl\":[{\"marker\":{\"colorbar\":{\"outlinewidth\":0,\"ticks\":\"\"}},\"type\":\"scattergl\"}],\"scattermapbox\":[{\"marker\":{\"colorbar\":{\"outlinewidth\":0,\"ticks\":\"\"}},\"type\":\"scattermapbox\"}],\"scatterpolar\":[{\"marker\":{\"colorbar\":{\"outlinewidth\":0,\"ticks\":\"\"}},\"type\":\"scatterpolar\"}],\"scatterpolargl\":[{\"marker\":{\"colorbar\":{\"outlinewidth\":0,\"ticks\":\"\"}},\"type\":\"scatterpolargl\"}],\"scatterternary\":[{\"marker\":{\"colorbar\":{\"outlinewidth\":0,\"ticks\":\"\"}},\"type\":\"scatterternary\"}],\"surface\":[{\"colorbar\":{\"outlinewidth\":0,\"ticks\":\"\"},\"colorscale\":[[0.0,\"#0d0887\"],[0.1111111111111111,\"#46039f\"],[0.2222222222222222,\"#7201a8\"],[0.3333333333333333,\"#9c179e\"],[0.4444444444444444,\"#bd3786\"],[0.5555555555555556,\"#d8576b\"],[0.6666666666666666,\"#ed7953\"],[0.7777777777777778,\"#fb9f3a\"],[0.8888888888888888,\"#fdca26\"],[1.0,\"#f0f921\"]],\"type\":\"surface\"}],\"table\":[{\"cells\":{\"fill\":{\"color\":\"#EBF0F8\"},\"line\":{\"color\":\"white\"}},\"header\":{\"fill\":{\"color\":\"#C8D4E3\"},\"line\":{\"color\":\"white\"}},\"type\":\"table\"}]},\"layout\":{\"annotationdefaults\":{\"arrowcolor\":\"#2a3f5f\",\"arrowhead\":0,\"arrowwidth\":1},\"autotypenumbers\":\"strict\",\"coloraxis\":{\"colorbar\":{\"outlinewidth\":0,\"ticks\":\"\"}},\"colorscale\":{\"diverging\":[[0,\"#8e0152\"],[0.1,\"#c51b7d\"],[0.2,\"#de77ae\"],[0.3,\"#f1b6da\"],[0.4,\"#fde0ef\"],[0.5,\"#f7f7f7\"],[0.6,\"#e6f5d0\"],[0.7,\"#b8e186\"],[0.8,\"#7fbc41\"],[0.9,\"#4d9221\"],[1,\"#276419\"]],\"sequential\":[[0.0,\"#0d0887\"],[0.1111111111111111,\"#46039f\"],[0.2222222222222222,\"#7201a8\"],[0.3333333333333333,\"#9c179e\"],[0.4444444444444444,\"#bd3786\"],[0.5555555555555556,\"#d8576b\"],[0.6666666666666666,\"#ed7953\"],[0.7777777777777778,\"#fb9f3a\"],[0.8888888888888888,\"#fdca26\"],[1.0,\"#f0f921\"]],\"sequentialminus\":[[0.0,\"#0d0887\"],[0.1111111111111111,\"#46039f\"],[0.2222222222222222,\"#7201a8\"],[0.3333333333333333,\"#9c179e\"],[0.4444444444444444,\"#bd3786\"],[0.5555555555555556,\"#d8576b\"],[0.6666666666666666,\"#ed7953\"],[0.7777777777777778,\"#fb9f3a\"],[0.8888888888888888,\"#fdca26\"],[1.0,\"#f0f921\"]]},\"colorway\":[\"#636efa\",\"#EF553B\",\"#00cc96\",\"#ab63fa\",\"#FFA15A\",\"#19d3f3\",\"#FF6692\",\"#B6E880\",\"#FF97FF\",\"#FECB52\"],\"font\":{\"color\":\"#2a3f5f\"},\"geo\":{\"bgcolor\":\"white\",\"lakecolor\":\"white\",\"landcolor\":\"#E5ECF6\",\"showlakes\":true,\"showland\":true,\"subunitcolor\":\"white\"},\"hoverlabel\":{\"align\":\"left\"},\"hovermode\":\"closest\",\"mapbox\":{\"style\":\"light\"},\"paper_bgcolor\":\"white\",\"plot_bgcolor\":\"#E5ECF6\",\"polar\":{\"angularaxis\":{\"gridcolor\":\"white\",\"linecolor\":\"white\",\"ticks\":\"\"},\"bgcolor\":\"#E5ECF6\",\"radialaxis\":{\"gridcolor\":\"white\",\"linecolor\":\"white\",\"ticks\":\"\"}},\"scene\":{\"xaxis\":{\"backgroundcolor\":\"#E5ECF6\",\"gridcolor\":\"white\",\"gridwidth\":2,\"linecolor\":\"white\",\"showbackground\":true,\"ticks\":\"\",\"zerolinecolor\":\"white\"},\"yaxis\":{\"backgroundcolor\":\"#E5ECF6\",\"gridcolor\":\"white\",\"gridwidth\":2,\"linecolor\":\"white\",\"showbackground\":true,\"ticks\":\"\",\"zerolinecolor\":\"white\"},\"zaxis\":{\"backgroundcolor\":\"#E5ECF6\",\"gridcolor\":\"white\",\"gridwidth\":2,\"linecolor\":\"white\",\"showbackground\":true,\"ticks\":\"\",\"zerolinecolor\":\"white\"}},\"shapedefaults\":{\"line\":{\"color\":\"#2a3f5f\"}},\"ternary\":{\"aaxis\":{\"gridcolor\":\"white\",\"linecolor\":\"white\",\"ticks\":\"\"},\"baxis\":{\"gridcolor\":\"white\",\"linecolor\":\"white\",\"ticks\":\"\"},\"bgcolor\":\"#E5ECF6\",\"caxis\":{\"gridcolor\":\"white\",\"linecolor\":\"white\",\"ticks\":\"\"}},\"title\":{\"x\":0.05},\"xaxis\":{\"automargin\":true,\"gridcolor\":\"white\",\"linecolor\":\"white\",\"ticks\":\"\",\"title\":{\"standoff\":15},\"zerolinecolor\":\"white\",\"zerolinewidth\":2},\"yaxis\":{\"automargin\":true,\"gridcolor\":\"white\",\"linecolor\":\"white\",\"ticks\":\"\",\"title\":{\"standoff\":15},\"zerolinecolor\":\"white\",\"zerolinewidth\":2}}},\"title\":{\"text\":\"Serie de tiempo de demanda para las top 5 combinaciones agencia-cliente-producto\"},\"xaxis\":{\"anchor\":\"y\",\"domain\":[0.0,1.0],\"title\":{\"text\":\"Semana\"}},\"yaxis\":{\"anchor\":\"x\",\"domain\":[0.0,1.0],\"title\":{\"text\":\"Demanda_uni_equil\"}}},                        {\"responsive\": true}                    ).then(function(){\n",
       "                            \n",
       "var gd = document.getElementById('fd4de4f5-877e-4f0c-b4fc-a22fd2f52b77');\n",
       "var x = new MutationObserver(function (mutations, observer) {{\n",
       "        var display = window.getComputedStyle(gd).display;\n",
       "        if (!display || display === 'none') {{\n",
       "            console.log([gd, 'removed!']);\n",
       "            Plotly.purge(gd);\n",
       "            observer.disconnect();\n",
       "        }}\n",
       "}});\n",
       "\n",
       "// Listen for the removal of the full notebook cells\n",
       "var notebookContainer = gd.closest('#notebook-container');\n",
       "if (notebookContainer) {{\n",
       "    x.observe(notebookContainer, {childList: true});\n",
       "}}\n",
       "\n",
       "// Listen for the clearing of the current output cell\n",
       "var outputEl = gd.closest('.output');\n",
       "if (outputEl) {{\n",
       "    x.observe(outputEl, {childList: true});\n",
       "}}\n",
       "\n",
       "                        })                };                });            </script>        </div>"
      ]
     },
     "metadata": {},
     "output_type": "display_data"
    }
   ],
   "source": [
    "fig = px.line(\n",
    "    dfx,\n",
    "    x=\"Semana\", y=\"Demanda_uni_equil\", color=\"acp_combo\"\n",
    ")\n",
    "\n",
    "\n",
    "fig.update_layout(\n",
    "    title=\"Serie de tiempo de demanda para las top 5 combinaciones agencia-cliente-producto\"\n",
    ")\n",
    "\n",
    "fig.show()"
   ]
  },
  {
   "cell_type": "markdown",
   "id": "e3dc1cf7-53d7-463f-a324-063b8ff2ac83",
   "metadata": {
    "heading_collapsed": "true",
    "tags": []
   },
   "source": [
    "### Which agency is the most important in terms of sales?"
   ]
  },
  {
   "cell_type": "markdown",
   "id": "80c4e2f8-90db-4981-83e4-a98c3ce113c8",
   "metadata": {
    "heading_collapsed": "true",
    "tags": []
   },
   "source": [
    "#### Working dataframe"
   ]
  },
  {
   "cell_type": "code",
   "execution_count": 77,
   "id": "0ea53d1c-5e21-4441-868b-3137d8b75d5f",
   "metadata": {},
   "outputs": [],
   "source": [
    "dfx = dftr.copy()"
   ]
  },
  {
   "cell_type": "code",
   "execution_count": 78,
   "id": "e19788b2-50c5-46d5-8fe8-4e2baa58db08",
   "metadata": {},
   "outputs": [
    {
     "data": {
      "text/html": [
       "<div>\n",
       "<style scoped>\n",
       "    .dataframe tbody tr th:only-of-type {\n",
       "        vertical-align: middle;\n",
       "    }\n",
       "\n",
       "    .dataframe tbody tr th {\n",
       "        vertical-align: top;\n",
       "    }\n",
       "\n",
       "    .dataframe thead th {\n",
       "        text-align: right;\n",
       "    }\n",
       "</style>\n",
       "<table border=\"1\" class=\"dataframe\">\n",
       "  <thead>\n",
       "    <tr style=\"text-align: right;\">\n",
       "      <th></th>\n",
       "      <th>Semana</th>\n",
       "      <th>Agencia_ID</th>\n",
       "      <th>Canal_ID</th>\n",
       "      <th>Ruta_SAK</th>\n",
       "      <th>Cliente_ID</th>\n",
       "      <th>Producto_ID</th>\n",
       "      <th>Venta_uni_hoy</th>\n",
       "      <th>Venta_hoy</th>\n",
       "      <th>Dev_uni_proxima</th>\n",
       "      <th>Dev_proxima</th>\n",
       "      <th>Demanda_uni_equil</th>\n",
       "    </tr>\n",
       "  </thead>\n",
       "  <tbody>\n",
       "    <tr>\n",
       "      <th>0</th>\n",
       "      <td>3</td>\n",
       "      <td>1110</td>\n",
       "      <td>7</td>\n",
       "      <td>3301</td>\n",
       "      <td>15766</td>\n",
       "      <td>1212</td>\n",
       "      <td>3</td>\n",
       "      <td>25.14</td>\n",
       "      <td>0</td>\n",
       "      <td>0.0</td>\n",
       "      <td>3</td>\n",
       "    </tr>\n",
       "    <tr>\n",
       "      <th>1</th>\n",
       "      <td>3</td>\n",
       "      <td>1110</td>\n",
       "      <td>7</td>\n",
       "      <td>3301</td>\n",
       "      <td>15766</td>\n",
       "      <td>1216</td>\n",
       "      <td>4</td>\n",
       "      <td>33.52</td>\n",
       "      <td>0</td>\n",
       "      <td>0.0</td>\n",
       "      <td>4</td>\n",
       "    </tr>\n",
       "    <tr>\n",
       "      <th>2</th>\n",
       "      <td>3</td>\n",
       "      <td>1110</td>\n",
       "      <td>7</td>\n",
       "      <td>3301</td>\n",
       "      <td>15766</td>\n",
       "      <td>1238</td>\n",
       "      <td>4</td>\n",
       "      <td>39.32</td>\n",
       "      <td>0</td>\n",
       "      <td>0.0</td>\n",
       "      <td>4</td>\n",
       "    </tr>\n",
       "    <tr>\n",
       "      <th>3</th>\n",
       "      <td>3</td>\n",
       "      <td>1110</td>\n",
       "      <td>7</td>\n",
       "      <td>3301</td>\n",
       "      <td>15766</td>\n",
       "      <td>1240</td>\n",
       "      <td>4</td>\n",
       "      <td>33.52</td>\n",
       "      <td>0</td>\n",
       "      <td>0.0</td>\n",
       "      <td>4</td>\n",
       "    </tr>\n",
       "    <tr>\n",
       "      <th>4</th>\n",
       "      <td>3</td>\n",
       "      <td>1110</td>\n",
       "      <td>7</td>\n",
       "      <td>3301</td>\n",
       "      <td>15766</td>\n",
       "      <td>1242</td>\n",
       "      <td>3</td>\n",
       "      <td>22.92</td>\n",
       "      <td>0</td>\n",
       "      <td>0.0</td>\n",
       "      <td>3</td>\n",
       "    </tr>\n",
       "    <tr>\n",
       "      <th>...</th>\n",
       "      <td>...</td>\n",
       "      <td>...</td>\n",
       "      <td>...</td>\n",
       "      <td>...</td>\n",
       "      <td>...</td>\n",
       "      <td>...</td>\n",
       "      <td>...</td>\n",
       "      <td>...</td>\n",
       "      <td>...</td>\n",
       "      <td>...</td>\n",
       "      <td>...</td>\n",
       "    </tr>\n",
       "    <tr>\n",
       "      <th>7974413</th>\n",
       "      <td>8</td>\n",
       "      <td>1173</td>\n",
       "      <td>4</td>\n",
       "      <td>6609</td>\n",
       "      <td>4549706</td>\n",
       "      <td>1242</td>\n",
       "      <td>2</td>\n",
       "      <td>15.40</td>\n",
       "      <td>0</td>\n",
       "      <td>0.0</td>\n",
       "      <td>2</td>\n",
       "    </tr>\n",
       "    <tr>\n",
       "      <th>7974414</th>\n",
       "      <td>8</td>\n",
       "      <td>1173</td>\n",
       "      <td>4</td>\n",
       "      <td>6609</td>\n",
       "      <td>4549706</td>\n",
       "      <td>5310</td>\n",
       "      <td>12</td>\n",
       "      <td>60.48</td>\n",
       "      <td>0</td>\n",
       "      <td>0.0</td>\n",
       "      <td>12</td>\n",
       "    </tr>\n",
       "    <tr>\n",
       "      <th>7974415</th>\n",
       "      <td>8</td>\n",
       "      <td>1173</td>\n",
       "      <td>4</td>\n",
       "      <td>6609</td>\n",
       "      <td>4549706</td>\n",
       "      <td>40447</td>\n",
       "      <td>10</td>\n",
       "      <td>108.00</td>\n",
       "      <td>0</td>\n",
       "      <td>0.0</td>\n",
       "      <td>10</td>\n",
       "    </tr>\n",
       "    <tr>\n",
       "      <th>7974416</th>\n",
       "      <td>8</td>\n",
       "      <td>1173</td>\n",
       "      <td>4</td>\n",
       "      <td>6609</td>\n",
       "      <td>4549706</td>\n",
       "      <td>40450</td>\n",
       "      <td>18</td>\n",
       "      <td>331.20</td>\n",
       "      <td>0</td>\n",
       "      <td>0.0</td>\n",
       "      <td>18</td>\n",
       "    </tr>\n",
       "    <tr>\n",
       "      <th>7974417</th>\n",
       "      <td>8</td>\n",
       "      <td>1173</td>\n",
       "      <td>4</td>\n",
       "      <td>6609</td>\n",
       "      <td>4549706</td>\n",
       "      <td>46772</td>\n",
       "      <td>16</td>\n",
       "      <td>150.40</td>\n",
       "      <td>0</td>\n",
       "      <td>0.0</td>\n",
       "      <td>16</td>\n",
       "    </tr>\n",
       "  </tbody>\n",
       "</table>\n",
       "<p>7974418 rows × 11 columns</p>\n",
       "</div>"
      ],
      "text/plain": [
       "         Semana  Agencia_ID  Canal_ID  Ruta_SAK  Cliente_ID  Producto_ID  \\\n",
       "0             3        1110         7      3301       15766         1212   \n",
       "1             3        1110         7      3301       15766         1216   \n",
       "2             3        1110         7      3301       15766         1238   \n",
       "3             3        1110         7      3301       15766         1240   \n",
       "4             3        1110         7      3301       15766         1242   \n",
       "...         ...         ...       ...       ...         ...          ...   \n",
       "7974413       8        1173         4      6609     4549706         1242   \n",
       "7974414       8        1173         4      6609     4549706         5310   \n",
       "7974415       8        1173         4      6609     4549706        40447   \n",
       "7974416       8        1173         4      6609     4549706        40450   \n",
       "7974417       8        1173         4      6609     4549706        46772   \n",
       "\n",
       "         Venta_uni_hoy  Venta_hoy  Dev_uni_proxima  Dev_proxima  \\\n",
       "0                    3      25.14                0          0.0   \n",
       "1                    4      33.52                0          0.0   \n",
       "2                    4      39.32                0          0.0   \n",
       "3                    4      33.52                0          0.0   \n",
       "4                    3      22.92                0          0.0   \n",
       "...                ...        ...              ...          ...   \n",
       "7974413              2      15.40                0          0.0   \n",
       "7974414             12      60.48                0          0.0   \n",
       "7974415             10     108.00                0          0.0   \n",
       "7974416             18     331.20                0          0.0   \n",
       "7974417             16     150.40                0          0.0   \n",
       "\n",
       "         Demanda_uni_equil  \n",
       "0                        3  \n",
       "1                        4  \n",
       "2                        4  \n",
       "3                        4  \n",
       "4                        3  \n",
       "...                    ...  \n",
       "7974413                  2  \n",
       "7974414                 12  \n",
       "7974415                 10  \n",
       "7974416                 18  \n",
       "7974417                 16  \n",
       "\n",
       "[7974418 rows x 11 columns]"
      ]
     },
     "execution_count": 78,
     "metadata": {},
     "output_type": "execute_result"
    }
   ],
   "source": [
    "dfx"
   ]
  },
  {
   "cell_type": "markdown",
   "id": "49e1d136-29cc-47e1-b47b-4955eff71466",
   "metadata": {
    "heading_collapsed": "true",
    "tags": []
   },
   "source": [
    "#### Simplifying dataframe to only relevant data"
   ]
  },
  {
   "cell_type": "code",
   "execution_count": 80,
   "id": "69daa132-58bd-40f2-815a-cd21e439adc4",
   "metadata": {},
   "outputs": [],
   "source": [
    "rc = [\n",
    "    \"Agencia_ID\",\n",
    "    \"Demanda_equil\"\n",
    "]\n",
    "\n",
    "dfx = dfx.loc[:, rc]"
   ]
  },
  {
   "cell_type": "code",
   "execution_count": 81,
   "id": "727aa739-aa10-4d49-89eb-444a50bc7f13",
   "metadata": {},
   "outputs": [
    {
     "data": {
      "text/html": [
       "<div>\n",
       "<style scoped>\n",
       "    .dataframe tbody tr th:only-of-type {\n",
       "        vertical-align: middle;\n",
       "    }\n",
       "\n",
       "    .dataframe tbody tr th {\n",
       "        vertical-align: top;\n",
       "    }\n",
       "\n",
       "    .dataframe thead th {\n",
       "        text-align: right;\n",
       "    }\n",
       "</style>\n",
       "<table border=\"1\" class=\"dataframe\">\n",
       "  <thead>\n",
       "    <tr style=\"text-align: right;\">\n",
       "      <th></th>\n",
       "      <th>Agencia_ID</th>\n",
       "      <th>Demanda_equil</th>\n",
       "    </tr>\n",
       "  </thead>\n",
       "  <tbody>\n",
       "    <tr>\n",
       "      <th>0</th>\n",
       "      <td>1110</td>\n",
       "      <td>25.14</td>\n",
       "    </tr>\n",
       "    <tr>\n",
       "      <th>1</th>\n",
       "      <td>1110</td>\n",
       "      <td>33.52</td>\n",
       "    </tr>\n",
       "    <tr>\n",
       "      <th>2</th>\n",
       "      <td>1110</td>\n",
       "      <td>39.32</td>\n",
       "    </tr>\n",
       "    <tr>\n",
       "      <th>3</th>\n",
       "      <td>1110</td>\n",
       "      <td>33.52</td>\n",
       "    </tr>\n",
       "    <tr>\n",
       "      <th>4</th>\n",
       "      <td>1110</td>\n",
       "      <td>22.92</td>\n",
       "    </tr>\n",
       "    <tr>\n",
       "      <th>...</th>\n",
       "      <td>...</td>\n",
       "      <td>...</td>\n",
       "    </tr>\n",
       "    <tr>\n",
       "      <th>7974413</th>\n",
       "      <td>1173</td>\n",
       "      <td>15.40</td>\n",
       "    </tr>\n",
       "    <tr>\n",
       "      <th>7974414</th>\n",
       "      <td>1173</td>\n",
       "      <td>60.48</td>\n",
       "    </tr>\n",
       "    <tr>\n",
       "      <th>7974415</th>\n",
       "      <td>1173</td>\n",
       "      <td>108.00</td>\n",
       "    </tr>\n",
       "    <tr>\n",
       "      <th>7974416</th>\n",
       "      <td>1173</td>\n",
       "      <td>331.20</td>\n",
       "    </tr>\n",
       "    <tr>\n",
       "      <th>7974417</th>\n",
       "      <td>1173</td>\n",
       "      <td>150.40</td>\n",
       "    </tr>\n",
       "  </tbody>\n",
       "</table>\n",
       "<p>7974418 rows × 2 columns</p>\n",
       "</div>"
      ],
      "text/plain": [
       "         Agencia_ID  Demanda_equil\n",
       "0              1110          25.14\n",
       "1              1110          33.52\n",
       "2              1110          39.32\n",
       "3              1110          33.52\n",
       "4              1110          22.92\n",
       "...             ...            ...\n",
       "7974413        1173          15.40\n",
       "7974414        1173          60.48\n",
       "7974415        1173         108.00\n",
       "7974416        1173         331.20\n",
       "7974417        1173         150.40\n",
       "\n",
       "[7974418 rows x 2 columns]"
      ]
     },
     "execution_count": 81,
     "metadata": {},
     "output_type": "execute_result"
    }
   ],
   "source": [
    "dfx"
   ]
  },
  {
   "cell_type": "markdown",
   "id": "6910cf65-8ef5-4e12-9359-84f5e2a7db20",
   "metadata": {
    "heading_collapsed": "true",
    "tags": []
   },
   "source": [
    "#### Quantifying sales per agency to find top agencies"
   ]
  },
  {
   "cell_type": "code",
   "execution_count": 82,
   "id": "0798d196-3111-46e8-830b-6403525b22f2",
   "metadata": {},
   "outputs": [],
   "source": [
    "dfx = dfx.groupby([\"Agencia_ID\"]).sum().sort_values(by=\"Demanda_equil\", ascending=False)"
   ]
  },
  {
   "cell_type": "code",
   "execution_count": 83,
   "id": "62da40ce-c317-467d-be4e-fac8c447903f",
   "metadata": {},
   "outputs": [],
   "source": [
    "dfx[\"Part\"] = dfx[\"Demanda_equil\"]/dfx[\"Demanda_equil\"].sum()"
   ]
  },
  {
   "cell_type": "code",
   "execution_count": 85,
   "id": "0ab8d2fc-02d3-405c-89ea-f25906657709",
   "metadata": {},
   "outputs": [],
   "source": [
    "dfx = dfx[:10]"
   ]
  },
  {
   "cell_type": "code",
   "execution_count": 92,
   "id": "654bb19f-c90d-4bb4-9fcb-93905dfa6191",
   "metadata": {},
   "outputs": [],
   "source": [
    "dfx = pd.merge(\n",
    "    dfx, dfl, right_on=\"Agencia_ID\", left_index=True\n",
    ")"
   ]
  },
  {
   "cell_type": "code",
   "execution_count": 93,
   "id": "22f4412e-d9eb-48dc-a78d-eec7dfa666ff",
   "metadata": {},
   "outputs": [
    {
     "data": {
      "text/html": [
       "<div>\n",
       "<style scoped>\n",
       "    .dataframe tbody tr th:only-of-type {\n",
       "        vertical-align: middle;\n",
       "    }\n",
       "\n",
       "    .dataframe tbody tr th {\n",
       "        vertical-align: top;\n",
       "    }\n",
       "\n",
       "    .dataframe thead th {\n",
       "        text-align: right;\n",
       "    }\n",
       "</style>\n",
       "<table border=\"1\" class=\"dataframe\">\n",
       "  <thead>\n",
       "    <tr style=\"text-align: right;\">\n",
       "      <th></th>\n",
       "      <th>Demanda_equil</th>\n",
       "      <th>Part</th>\n",
       "      <th>Agencia_ID</th>\n",
       "      <th>Town</th>\n",
       "      <th>State</th>\n",
       "    </tr>\n",
       "  </thead>\n",
       "  <tbody>\n",
       "    <tr>\n",
       "      <th>16</th>\n",
       "      <td>5.670517e+07</td>\n",
       "      <td>0.088353</td>\n",
       "      <td>1129</td>\n",
       "      <td>2011 AG. SAN ANTONIO</td>\n",
       "      <td>MÉXICO, D.F.</td>\n",
       "    </tr>\n",
       "    <tr>\n",
       "      <th>22</th>\n",
       "      <td>5.318044e+07</td>\n",
       "      <td>0.082861</td>\n",
       "      <td>1142</td>\n",
       "      <td>2013 AG. MEGA NAUCALPAN</td>\n",
       "      <td>ESTADO DE MÉXICO</td>\n",
       "    </tr>\n",
       "    <tr>\n",
       "      <th>4</th>\n",
       "      <td>5.183457e+07</td>\n",
       "      <td>0.080764</td>\n",
       "      <td>1114</td>\n",
       "      <td>2029 AG.IZTAPALAPA 2</td>\n",
       "      <td>MÉXICO, D.F.</td>\n",
       "    </tr>\n",
       "    <tr>\n",
       "      <th>36</th>\n",
       "      <td>3.986136e+07</td>\n",
       "      <td>0.062108</td>\n",
       "      <td>1168</td>\n",
       "      <td>2092 AG. SANTA CLARA AUTOSERVICIOS</td>\n",
       "      <td>ESTADO DE MÉXICO</td>\n",
       "    </tr>\n",
       "    <tr>\n",
       "      <th>14</th>\n",
       "      <td>2.626647e+07</td>\n",
       "      <td>0.040926</td>\n",
       "      <td>1126</td>\n",
       "      <td>2017 AG. SANTA CLARA</td>\n",
       "      <td>ESTADO DE MÉXICO</td>\n",
       "    </tr>\n",
       "    <tr>\n",
       "      <th>10</th>\n",
       "      <td>2.552830e+07</td>\n",
       "      <td>0.039776</td>\n",
       "      <td>1121</td>\n",
       "      <td>2016 AG. SAN LORENZO</td>\n",
       "      <td>MÉXICO, D.F.</td>\n",
       "    </tr>\n",
       "    <tr>\n",
       "      <th>12</th>\n",
       "      <td>2.447068e+07</td>\n",
       "      <td>0.038128</td>\n",
       "      <td>1123</td>\n",
       "      <td>2094 CHALCO_BM</td>\n",
       "      <td>ESTADO DE MÉXICO</td>\n",
       "    </tr>\n",
       "    <tr>\n",
       "      <th>11</th>\n",
       "      <td>2.320413e+07</td>\n",
       "      <td>0.036154</td>\n",
       "      <td>1122</td>\n",
       "      <td>2019 AG. XALOSTOC</td>\n",
       "      <td>ESTADO DE MÉXICO</td>\n",
       "    </tr>\n",
       "    <tr>\n",
       "      <th>5</th>\n",
       "      <td>2.309649e+07</td>\n",
       "      <td>0.035987</td>\n",
       "      <td>1116</td>\n",
       "      <td>2011 AG. SAN ANTONIO</td>\n",
       "      <td>MÉXICO, D.F.</td>\n",
       "    </tr>\n",
       "    <tr>\n",
       "      <th>6</th>\n",
       "      <td>2.283344e+07</td>\n",
       "      <td>0.035577</td>\n",
       "      <td>1117</td>\n",
       "      <td>2001 AG. ATIZAPAN</td>\n",
       "      <td>ESTADO DE MÉXICO</td>\n",
       "    </tr>\n",
       "  </tbody>\n",
       "</table>\n",
       "</div>"
      ],
      "text/plain": [
       "    Demanda_equil      Part  Agencia_ID                                Town  \\\n",
       "16   5.670517e+07  0.088353        1129                2011 AG. SAN ANTONIO   \n",
       "22   5.318044e+07  0.082861        1142             2013 AG. MEGA NAUCALPAN   \n",
       "4    5.183457e+07  0.080764        1114                2029 AG.IZTAPALAPA 2   \n",
       "36   3.986136e+07  0.062108        1168  2092 AG. SANTA CLARA AUTOSERVICIOS   \n",
       "14   2.626647e+07  0.040926        1126                2017 AG. SANTA CLARA   \n",
       "10   2.552830e+07  0.039776        1121                2016 AG. SAN LORENZO   \n",
       "12   2.447068e+07  0.038128        1123                      2094 CHALCO_BM   \n",
       "11   2.320413e+07  0.036154        1122                   2019 AG. XALOSTOC   \n",
       "5    2.309649e+07  0.035987        1116                2011 AG. SAN ANTONIO   \n",
       "6    2.283344e+07  0.035577        1117                   2001 AG. ATIZAPAN   \n",
       "\n",
       "               State  \n",
       "16      MÉXICO, D.F.  \n",
       "22  ESTADO DE MÉXICO  \n",
       "4       MÉXICO, D.F.  \n",
       "36  ESTADO DE MÉXICO  \n",
       "14  ESTADO DE MÉXICO  \n",
       "10      MÉXICO, D.F.  \n",
       "12  ESTADO DE MÉXICO  \n",
       "11  ESTADO DE MÉXICO  \n",
       "5       MÉXICO, D.F.  \n",
       "6   ESTADO DE MÉXICO  "
      ]
     },
     "execution_count": 93,
     "metadata": {},
     "output_type": "execute_result"
    }
   ],
   "source": [
    "dfx"
   ]
  },
  {
   "cell_type": "code",
   "execution_count": 97,
   "id": "99bdbd97-33be-4c85-ab57-62ae6c064cd4",
   "metadata": {},
   "outputs": [],
   "source": [
    "top_ag = dfx.iloc[0, :].to_dict()"
   ]
  },
  {
   "cell_type": "code",
   "execution_count": 98,
   "id": "fe5ec1cd-803d-4e44-9f50-deccfcd0cd76",
   "metadata": {},
   "outputs": [
    {
     "data": {
      "text/plain": [
       "{'Demanda_equil': 56705165.95000031,\n",
       " 'Part': 0.08835265117271382,\n",
       " 'Agencia_ID': 1129,\n",
       " 'Town': '2011 AG. SAN ANTONIO',\n",
       " 'State': 'MÉXICO, D.F.'}"
      ]
     },
     "execution_count": 98,
     "metadata": {},
     "output_type": "execute_result"
    }
   ],
   "source": [
    "top_ag"
   ]
  },
  {
   "cell_type": "markdown",
   "id": "807352b9-5837-4709-b14b-b97f24824b93",
   "metadata": {
    "heading_collapsed": "true",
    "tags": []
   },
   "source": [
    "### Which clients are the most important in the selected agency (Agencia_ID = 1129)? "
   ]
  },
  {
   "cell_type": "markdown",
   "id": "9652603f-d878-4280-a369-547d17e580da",
   "metadata": {
    "heading_collapsed": "true",
    "tags": []
   },
   "source": [
    "#### Working dataframe"
   ]
  },
  {
   "cell_type": "code",
   "execution_count": 105,
   "id": "e1b79e2e-0223-4219-a420-c6f4b195cd61",
   "metadata": {},
   "outputs": [],
   "source": [
    "dfx = dftr.copy()"
   ]
  },
  {
   "cell_type": "code",
   "execution_count": 106,
   "id": "4b5114bd-1402-4c8c-9378-f160a8367176",
   "metadata": {},
   "outputs": [
    {
     "data": {
      "text/html": [
       "<div>\n",
       "<style scoped>\n",
       "    .dataframe tbody tr th:only-of-type {\n",
       "        vertical-align: middle;\n",
       "    }\n",
       "\n",
       "    .dataframe tbody tr th {\n",
       "        vertical-align: top;\n",
       "    }\n",
       "\n",
       "    .dataframe thead th {\n",
       "        text-align: right;\n",
       "    }\n",
       "</style>\n",
       "<table border=\"1\" class=\"dataframe\">\n",
       "  <thead>\n",
       "    <tr style=\"text-align: right;\">\n",
       "      <th></th>\n",
       "      <th>Semana</th>\n",
       "      <th>Agencia_ID</th>\n",
       "      <th>Canal_ID</th>\n",
       "      <th>Ruta_SAK</th>\n",
       "      <th>Cliente_ID</th>\n",
       "      <th>Producto_ID</th>\n",
       "      <th>Venta_uni_hoy</th>\n",
       "      <th>Venta_hoy</th>\n",
       "      <th>Dev_uni_proxima</th>\n",
       "      <th>Dev_proxima</th>\n",
       "      <th>Demanda_uni_equil</th>\n",
       "      <th>Demanda_equil</th>\n",
       "    </tr>\n",
       "  </thead>\n",
       "  <tbody>\n",
       "    <tr>\n",
       "      <th>0</th>\n",
       "      <td>3</td>\n",
       "      <td>1110</td>\n",
       "      <td>7</td>\n",
       "      <td>3301</td>\n",
       "      <td>15766</td>\n",
       "      <td>1212</td>\n",
       "      <td>3</td>\n",
       "      <td>25.14</td>\n",
       "      <td>0</td>\n",
       "      <td>0.0</td>\n",
       "      <td>3</td>\n",
       "      <td>25.14</td>\n",
       "    </tr>\n",
       "    <tr>\n",
       "      <th>1</th>\n",
       "      <td>3</td>\n",
       "      <td>1110</td>\n",
       "      <td>7</td>\n",
       "      <td>3301</td>\n",
       "      <td>15766</td>\n",
       "      <td>1216</td>\n",
       "      <td>4</td>\n",
       "      <td>33.52</td>\n",
       "      <td>0</td>\n",
       "      <td>0.0</td>\n",
       "      <td>4</td>\n",
       "      <td>33.52</td>\n",
       "    </tr>\n",
       "    <tr>\n",
       "      <th>2</th>\n",
       "      <td>3</td>\n",
       "      <td>1110</td>\n",
       "      <td>7</td>\n",
       "      <td>3301</td>\n",
       "      <td>15766</td>\n",
       "      <td>1238</td>\n",
       "      <td>4</td>\n",
       "      <td>39.32</td>\n",
       "      <td>0</td>\n",
       "      <td>0.0</td>\n",
       "      <td>4</td>\n",
       "      <td>39.32</td>\n",
       "    </tr>\n",
       "    <tr>\n",
       "      <th>3</th>\n",
       "      <td>3</td>\n",
       "      <td>1110</td>\n",
       "      <td>7</td>\n",
       "      <td>3301</td>\n",
       "      <td>15766</td>\n",
       "      <td>1240</td>\n",
       "      <td>4</td>\n",
       "      <td>33.52</td>\n",
       "      <td>0</td>\n",
       "      <td>0.0</td>\n",
       "      <td>4</td>\n",
       "      <td>33.52</td>\n",
       "    </tr>\n",
       "    <tr>\n",
       "      <th>4</th>\n",
       "      <td>3</td>\n",
       "      <td>1110</td>\n",
       "      <td>7</td>\n",
       "      <td>3301</td>\n",
       "      <td>15766</td>\n",
       "      <td>1242</td>\n",
       "      <td>3</td>\n",
       "      <td>22.92</td>\n",
       "      <td>0</td>\n",
       "      <td>0.0</td>\n",
       "      <td>3</td>\n",
       "      <td>22.92</td>\n",
       "    </tr>\n",
       "    <tr>\n",
       "      <th>...</th>\n",
       "      <td>...</td>\n",
       "      <td>...</td>\n",
       "      <td>...</td>\n",
       "      <td>...</td>\n",
       "      <td>...</td>\n",
       "      <td>...</td>\n",
       "      <td>...</td>\n",
       "      <td>...</td>\n",
       "      <td>...</td>\n",
       "      <td>...</td>\n",
       "      <td>...</td>\n",
       "      <td>...</td>\n",
       "    </tr>\n",
       "    <tr>\n",
       "      <th>7974413</th>\n",
       "      <td>8</td>\n",
       "      <td>1173</td>\n",
       "      <td>4</td>\n",
       "      <td>6609</td>\n",
       "      <td>4549706</td>\n",
       "      <td>1242</td>\n",
       "      <td>2</td>\n",
       "      <td>15.40</td>\n",
       "      <td>0</td>\n",
       "      <td>0.0</td>\n",
       "      <td>2</td>\n",
       "      <td>15.40</td>\n",
       "    </tr>\n",
       "    <tr>\n",
       "      <th>7974414</th>\n",
       "      <td>8</td>\n",
       "      <td>1173</td>\n",
       "      <td>4</td>\n",
       "      <td>6609</td>\n",
       "      <td>4549706</td>\n",
       "      <td>5310</td>\n",
       "      <td>12</td>\n",
       "      <td>60.48</td>\n",
       "      <td>0</td>\n",
       "      <td>0.0</td>\n",
       "      <td>12</td>\n",
       "      <td>60.48</td>\n",
       "    </tr>\n",
       "    <tr>\n",
       "      <th>7974415</th>\n",
       "      <td>8</td>\n",
       "      <td>1173</td>\n",
       "      <td>4</td>\n",
       "      <td>6609</td>\n",
       "      <td>4549706</td>\n",
       "      <td>40447</td>\n",
       "      <td>10</td>\n",
       "      <td>108.00</td>\n",
       "      <td>0</td>\n",
       "      <td>0.0</td>\n",
       "      <td>10</td>\n",
       "      <td>108.00</td>\n",
       "    </tr>\n",
       "    <tr>\n",
       "      <th>7974416</th>\n",
       "      <td>8</td>\n",
       "      <td>1173</td>\n",
       "      <td>4</td>\n",
       "      <td>6609</td>\n",
       "      <td>4549706</td>\n",
       "      <td>40450</td>\n",
       "      <td>18</td>\n",
       "      <td>331.20</td>\n",
       "      <td>0</td>\n",
       "      <td>0.0</td>\n",
       "      <td>18</td>\n",
       "      <td>331.20</td>\n",
       "    </tr>\n",
       "    <tr>\n",
       "      <th>7974417</th>\n",
       "      <td>8</td>\n",
       "      <td>1173</td>\n",
       "      <td>4</td>\n",
       "      <td>6609</td>\n",
       "      <td>4549706</td>\n",
       "      <td>46772</td>\n",
       "      <td>16</td>\n",
       "      <td>150.40</td>\n",
       "      <td>0</td>\n",
       "      <td>0.0</td>\n",
       "      <td>16</td>\n",
       "      <td>150.40</td>\n",
       "    </tr>\n",
       "  </tbody>\n",
       "</table>\n",
       "<p>7974418 rows × 12 columns</p>\n",
       "</div>"
      ],
      "text/plain": [
       "         Semana  Agencia_ID  Canal_ID  Ruta_SAK  Cliente_ID  Producto_ID  \\\n",
       "0             3        1110         7      3301       15766         1212   \n",
       "1             3        1110         7      3301       15766         1216   \n",
       "2             3        1110         7      3301       15766         1238   \n",
       "3             3        1110         7      3301       15766         1240   \n",
       "4             3        1110         7      3301       15766         1242   \n",
       "...         ...         ...       ...       ...         ...          ...   \n",
       "7974413       8        1173         4      6609     4549706         1242   \n",
       "7974414       8        1173         4      6609     4549706         5310   \n",
       "7974415       8        1173         4      6609     4549706        40447   \n",
       "7974416       8        1173         4      6609     4549706        40450   \n",
       "7974417       8        1173         4      6609     4549706        46772   \n",
       "\n",
       "         Venta_uni_hoy  Venta_hoy  Dev_uni_proxima  Dev_proxima  \\\n",
       "0                    3      25.14                0          0.0   \n",
       "1                    4      33.52                0          0.0   \n",
       "2                    4      39.32                0          0.0   \n",
       "3                    4      33.52                0          0.0   \n",
       "4                    3      22.92                0          0.0   \n",
       "...                ...        ...              ...          ...   \n",
       "7974413              2      15.40                0          0.0   \n",
       "7974414             12      60.48                0          0.0   \n",
       "7974415             10     108.00                0          0.0   \n",
       "7974416             18     331.20                0          0.0   \n",
       "7974417             16     150.40                0          0.0   \n",
       "\n",
       "         Demanda_uni_equil  Demanda_equil  \n",
       "0                        3          25.14  \n",
       "1                        4          33.52  \n",
       "2                        4          39.32  \n",
       "3                        4          33.52  \n",
       "4                        3          22.92  \n",
       "...                    ...            ...  \n",
       "7974413                  2          15.40  \n",
       "7974414                 12          60.48  \n",
       "7974415                 10         108.00  \n",
       "7974416                 18         331.20  \n",
       "7974417                 16         150.40  \n",
       "\n",
       "[7974418 rows x 12 columns]"
      ]
     },
     "execution_count": 106,
     "metadata": {},
     "output_type": "execute_result"
    }
   ],
   "source": [
    "dfx"
   ]
  },
  {
   "cell_type": "markdown",
   "id": "0f6e9dc3-e61f-4dee-bde2-64677696e2d7",
   "metadata": {
    "heading_collapsed": "true",
    "tags": []
   },
   "source": [
    "#### Simplifying dataframe to leave only relevant data for this question"
   ]
  },
  {
   "cell_type": "code",
   "execution_count": 110,
   "id": "b1dcb4a2-0e13-45b9-937d-11fa57fc6a42",
   "metadata": {},
   "outputs": [],
   "source": [
    "mc1 = [\n",
    "    \"Cliente_ID\",\n",
    "    \"Demanda_equil\"\n",
    "]\n",
    "\n",
    "mr1 = dfx[\"Agencia_ID\"] == top_ag[\"Agencia_ID\"]\n",
    "\n",
    "dfx = dfx.loc[mr1, mc1]"
   ]
  },
  {
   "cell_type": "code",
   "execution_count": 111,
   "id": "7ea12efc-c0ec-489f-b2fb-9066959e1fbf",
   "metadata": {},
   "outputs": [
    {
     "data": {
      "text/html": [
       "<div>\n",
       "<style scoped>\n",
       "    .dataframe tbody tr th:only-of-type {\n",
       "        vertical-align: middle;\n",
       "    }\n",
       "\n",
       "    .dataframe tbody tr th {\n",
       "        vertical-align: top;\n",
       "    }\n",
       "\n",
       "    .dataframe thead th {\n",
       "        text-align: right;\n",
       "    }\n",
       "</style>\n",
       "<table border=\"1\" class=\"dataframe\">\n",
       "  <thead>\n",
       "    <tr style=\"text-align: right;\">\n",
       "      <th></th>\n",
       "      <th>Cliente_ID</th>\n",
       "      <th>Demanda_equil</th>\n",
       "    </tr>\n",
       "  </thead>\n",
       "  <tbody>\n",
       "    <tr>\n",
       "      <th>975616</th>\n",
       "      <td>22742</td>\n",
       "      <td>354.64</td>\n",
       "    </tr>\n",
       "    <tr>\n",
       "      <th>975617</th>\n",
       "      <td>22742</td>\n",
       "      <td>533.16</td>\n",
       "    </tr>\n",
       "    <tr>\n",
       "      <th>975618</th>\n",
       "      <td>22742</td>\n",
       "      <td>489.60</td>\n",
       "    </tr>\n",
       "    <tr>\n",
       "      <th>975619</th>\n",
       "      <td>22742</td>\n",
       "      <td>377.04</td>\n",
       "    </tr>\n",
       "    <tr>\n",
       "      <th>975620</th>\n",
       "      <td>22742</td>\n",
       "      <td>336.60</td>\n",
       "    </tr>\n",
       "    <tr>\n",
       "      <th>...</th>\n",
       "      <td>...</td>\n",
       "      <td>...</td>\n",
       "    </tr>\n",
       "    <tr>\n",
       "      <th>7569940</th>\n",
       "      <td>4669106</td>\n",
       "      <td>932.40</td>\n",
       "    </tr>\n",
       "    <tr>\n",
       "      <th>7569941</th>\n",
       "      <td>4669106</td>\n",
       "      <td>2433.00</td>\n",
       "    </tr>\n",
       "    <tr>\n",
       "      <th>7569942</th>\n",
       "      <td>4669106</td>\n",
       "      <td>404.26</td>\n",
       "    </tr>\n",
       "    <tr>\n",
       "      <th>7569943</th>\n",
       "      <td>4669106</td>\n",
       "      <td>3129.28</td>\n",
       "    </tr>\n",
       "    <tr>\n",
       "      <th>7569944</th>\n",
       "      <td>4669106</td>\n",
       "      <td>884.80</td>\n",
       "    </tr>\n",
       "  </tbody>\n",
       "</table>\n",
       "<p>42591 rows × 2 columns</p>\n",
       "</div>"
      ],
      "text/plain": [
       "         Cliente_ID  Demanda_equil\n",
       "975616        22742         354.64\n",
       "975617        22742         533.16\n",
       "975618        22742         489.60\n",
       "975619        22742         377.04\n",
       "975620        22742         336.60\n",
       "...             ...            ...\n",
       "7569940     4669106         932.40\n",
       "7569941     4669106        2433.00\n",
       "7569942     4669106         404.26\n",
       "7569943     4669106        3129.28\n",
       "7569944     4669106         884.80\n",
       "\n",
       "[42591 rows x 2 columns]"
      ]
     },
     "execution_count": 111,
     "metadata": {},
     "output_type": "execute_result"
    }
   ],
   "source": [
    "dfx"
   ]
  },
  {
   "cell_type": "markdown",
   "id": "308d3b68-3114-454e-9386-03cee05ffedb",
   "metadata": {
    "heading_collapsed": "true",
    "tags": []
   },
   "source": [
    "#### Finding most important clients"
   ]
  },
  {
   "cell_type": "code",
   "execution_count": 117,
   "id": "b528c0d4-6054-4f77-af22-8efa12852f76",
   "metadata": {},
   "outputs": [],
   "source": [
    "dfx = dfx.groupby([\"Cliente_ID\"]).sum().sort_values(by=\"Demanda_equil\", ascending=False)"
   ]
  },
  {
   "cell_type": "code",
   "execution_count": 119,
   "id": "854e65dc-48f2-494a-bf73-f074bbe0d2c3",
   "metadata": {},
   "outputs": [],
   "source": [
    "dfx[\"Part\"] = dfx[\"Demanda_equil\"]/dfx[\"Demanda_equil\"].sum()"
   ]
  },
  {
   "cell_type": "code",
   "execution_count": 129,
   "id": "358c5dbd-971f-44ae-8961-64d55fa8dc6e",
   "metadata": {},
   "outputs": [
    {
     "data": {
      "text/html": [
       "<div>\n",
       "<style scoped>\n",
       "    .dataframe tbody tr th:only-of-type {\n",
       "        vertical-align: middle;\n",
       "    }\n",
       "\n",
       "    .dataframe tbody tr th {\n",
       "        vertical-align: top;\n",
       "    }\n",
       "\n",
       "    .dataframe thead th {\n",
       "        text-align: right;\n",
       "    }\n",
       "</style>\n",
       "<table border=\"1\" class=\"dataframe\">\n",
       "  <thead>\n",
       "    <tr style=\"text-align: right;\">\n",
       "      <th></th>\n",
       "      <th>Demanda_equil</th>\n",
       "      <th>Part</th>\n",
       "    </tr>\n",
       "    <tr>\n",
       "      <th>Cliente_ID</th>\n",
       "      <th></th>\n",
       "      <th></th>\n",
       "    </tr>\n",
       "  </thead>\n",
       "  <tbody>\n",
       "    <tr>\n",
       "      <th>22534</th>\n",
       "      <td>1528481.66</td>\n",
       "      <td>0.026955</td>\n",
       "    </tr>\n",
       "    <tr>\n",
       "      <th>20577</th>\n",
       "      <td>1444223.25</td>\n",
       "      <td>0.025469</td>\n",
       "    </tr>\n",
       "    <tr>\n",
       "      <th>20990</th>\n",
       "      <td>1430528.53</td>\n",
       "      <td>0.025227</td>\n",
       "    </tr>\n",
       "    <tr>\n",
       "      <th>22462</th>\n",
       "      <td>1338370.04</td>\n",
       "      <td>0.023602</td>\n",
       "    </tr>\n",
       "    <tr>\n",
       "      <th>17851</th>\n",
       "      <td>1324882.31</td>\n",
       "      <td>0.023364</td>\n",
       "    </tr>\n",
       "    <tr>\n",
       "      <th>...</th>\n",
       "      <td>...</td>\n",
       "      <td>...</td>\n",
       "    </tr>\n",
       "    <tr>\n",
       "      <th>22828</th>\n",
       "      <td>40418.79</td>\n",
       "      <td>0.000713</td>\n",
       "    </tr>\n",
       "    <tr>\n",
       "      <th>16069</th>\n",
       "      <td>21738.35</td>\n",
       "      <td>0.000383</td>\n",
       "    </tr>\n",
       "    <tr>\n",
       "      <th>28926</th>\n",
       "      <td>17097.50</td>\n",
       "      <td>0.000302</td>\n",
       "    </tr>\n",
       "    <tr>\n",
       "      <th>4680108</th>\n",
       "      <td>911.76</td>\n",
       "      <td>0.000016</td>\n",
       "    </tr>\n",
       "    <tr>\n",
       "      <th>99999999</th>\n",
       "      <td>643.88</td>\n",
       "      <td>0.000011</td>\n",
       "    </tr>\n",
       "  </tbody>\n",
       "</table>\n",
       "<p>105 rows × 2 columns</p>\n",
       "</div>"
      ],
      "text/plain": [
       "            Demanda_equil      Part\n",
       "Cliente_ID                         \n",
       "22534          1528481.66  0.026955\n",
       "20577          1444223.25  0.025469\n",
       "20990          1430528.53  0.025227\n",
       "22462          1338370.04  0.023602\n",
       "17851          1324882.31  0.023364\n",
       "...                   ...       ...\n",
       "22828            40418.79  0.000713\n",
       "16069            21738.35  0.000383\n",
       "28926            17097.50  0.000302\n",
       "4680108            911.76  0.000016\n",
       "99999999           643.88  0.000011\n",
       "\n",
       "[105 rows x 2 columns]"
      ]
     },
     "execution_count": 129,
     "metadata": {},
     "output_type": "execute_result"
    }
   ],
   "source": [
    "dfx"
   ]
  },
  {
   "cell_type": "code",
   "execution_count": 151,
   "id": "de9ebf9d-9af6-494f-84e3-23bbb7ba953a",
   "metadata": {
    "scrolled": true,
    "tags": []
   },
   "outputs": [
    {
     "name": "stdout",
     "output_type": "stream",
     "text": [
      "The top 55 clients of agency 1129 represent 0.8 of the demand value (in pesos)\n"
     ]
    }
   ],
   "source": [
    "selects = 55\n",
    "\n",
    "dfx2 = dfx[:selects].copy()\n",
    "print(\n",
    "    \"The top {} clients of agency {} represent {} of the demand value (in pesos)\".format(\n",
    "        selects,\n",
    "        top_ag[\"Agencia_ID\"],\n",
    "        round(dfx2[\"Part\"].sum(), 2)\n",
    "    )\n",
    ")"
   ]
  },
  {
   "cell_type": "code",
   "execution_count": 155,
   "id": "fde8c2f0-5258-4333-93bd-ea6eb07070c6",
   "metadata": {},
   "outputs": [],
   "source": [
    "dfcs = pd.merge(\n",
    "    dfx2, dfc, right_on=\"Cliente_ID\", left_index=True\n",
    ")"
   ]
  },
  {
   "cell_type": "code",
   "execution_count": 158,
   "id": "401ee74d-278d-4812-8ec7-bfc3d0ff7ee9",
   "metadata": {
    "scrolled": true,
    "tags": []
   },
   "outputs": [
    {
     "data": {
      "text/html": [
       "<div>\n",
       "<style scoped>\n",
       "    .dataframe tbody tr th:only-of-type {\n",
       "        vertical-align: middle;\n",
       "    }\n",
       "\n",
       "    .dataframe tbody tr th {\n",
       "        vertical-align: top;\n",
       "    }\n",
       "\n",
       "    .dataframe thead th {\n",
       "        text-align: right;\n",
       "    }\n",
       "</style>\n",
       "<table border=\"1\" class=\"dataframe\">\n",
       "  <thead>\n",
       "    <tr style=\"text-align: right;\">\n",
       "      <th></th>\n",
       "      <th>Demanda_equil</th>\n",
       "      <th>Part</th>\n",
       "      <th>Cliente_ID</th>\n",
       "      <th>NombreCliente</th>\n",
       "    </tr>\n",
       "  </thead>\n",
       "  <tbody>\n",
       "    <tr>\n",
       "      <th>7876</th>\n",
       "      <td>1528481.66</td>\n",
       "      <td>0.026955</td>\n",
       "      <td>22534</td>\n",
       "      <td>MEGA COMERCIAL MEXICANA MIXCOAC</td>\n",
       "    </tr>\n",
       "    <tr>\n",
       "      <th>7118</th>\n",
       "      <td>1444223.25</td>\n",
       "      <td>0.025469</td>\n",
       "      <td>20577</td>\n",
       "      <td>SAMS CLUB SAN JERONIMO</td>\n",
       "    </tr>\n",
       "    <tr>\n",
       "      <th>7312</th>\n",
       "      <td>1430528.53</td>\n",
       "      <td>0.025227</td>\n",
       "      <td>20990</td>\n",
       "      <td>MEGA COMERCIAL MEXICANA PILARES</td>\n",
       "    </tr>\n",
       "    <tr>\n",
       "      <th>7848</th>\n",
       "      <td>1338370.04</td>\n",
       "      <td>0.023602</td>\n",
       "      <td>22462</td>\n",
       "      <td>WAL MART PLATEROS</td>\n",
       "    </tr>\n",
       "    <tr>\n",
       "      <th>5883</th>\n",
       "      <td>1324882.31</td>\n",
       "      <td>0.023364</td>\n",
       "      <td>17851</td>\n",
       "      <td>WAL MART UNIVERSIDAD</td>\n",
       "    </tr>\n",
       "    <tr>\n",
       "      <th>7147</th>\n",
       "      <td>1315958.76</td>\n",
       "      <td>0.023207</td>\n",
       "      <td>20626</td>\n",
       "      <td>WAL MART PERIFERICO SUR</td>\n",
       "    </tr>\n",
       "    <tr>\n",
       "      <th>239364</th>\n",
       "      <td>1301556.58</td>\n",
       "      <td>0.022953</td>\n",
       "      <td>688157</td>\n",
       "      <td>SAMS CLUB UNIVERSIDAD</td>\n",
       "    </tr>\n",
       "    <tr>\n",
       "      <th>335377</th>\n",
       "      <td>1301325.22</td>\n",
       "      <td>0.022949</td>\n",
       "      <td>1188056</td>\n",
       "      <td>CHEDRAUI UNIVERSIDAD</td>\n",
       "    </tr>\n",
       "    <tr>\n",
       "      <th>7126</th>\n",
       "      <td>1252713.57</td>\n",
       "      <td>0.022092</td>\n",
       "      <td>20591</td>\n",
       "      <td>MEGA COMERCIAL MEXICANA SAN JERONIMO</td>\n",
       "    </tr>\n",
       "    <tr>\n",
       "      <th>262599</th>\n",
       "      <td>1210736.31</td>\n",
       "      <td>0.021351</td>\n",
       "      <td>812391</td>\n",
       "      <td>MEGA COMERCIAL MEXICANA COYOACAN</td>\n",
       "    </tr>\n",
       "    <tr>\n",
       "      <th>8018</th>\n",
       "      <td>1190244.56</td>\n",
       "      <td>0.020990</td>\n",
       "      <td>22861</td>\n",
       "      <td>WAL MART INTERLOMAS</td>\n",
       "    </tr>\n",
       "    <tr>\n",
       "      <th>7886</th>\n",
       "      <td>1164892.32</td>\n",
       "      <td>0.020543</td>\n",
       "      <td>22555</td>\n",
       "      <td>WAL MART TAXQUEÑA</td>\n",
       "    </tr>\n",
       "    <tr>\n",
       "      <th>7851</th>\n",
       "      <td>1150379.86</td>\n",
       "      <td>0.020287</td>\n",
       "      <td>22471</td>\n",
       "      <td>COSTCO MIXCOAC</td>\n",
       "    </tr>\n",
       "    <tr>\n",
       "      <th>7879</th>\n",
       "      <td>1131830.77</td>\n",
       "      <td>0.019960</td>\n",
       "      <td>22537</td>\n",
       "      <td>WAL MART FELIX CUEVAS</td>\n",
       "    </tr>\n",
       "    <tr>\n",
       "      <th>7856</th>\n",
       "      <td>1120260.55</td>\n",
       "      <td>0.019756</td>\n",
       "      <td>22482</td>\n",
       "      <td>WAL MART CUAJIMALPA</td>\n",
       "    </tr>\n",
       "    <tr>\n",
       "      <th>7885</th>\n",
       "      <td>1092053.18</td>\n",
       "      <td>0.019258</td>\n",
       "      <td>22552</td>\n",
       "      <td>BODEGA AURRERA CANTIL</td>\n",
       "    </tr>\n",
       "    <tr>\n",
       "      <th>335378</th>\n",
       "      <td>1024390.13</td>\n",
       "      <td>0.018065</td>\n",
       "      <td>1188057</td>\n",
       "      <td>CHEDRAUI AJUSCO</td>\n",
       "    </tr>\n",
       "    <tr>\n",
       "      <th>7950</th>\n",
       "      <td>1016535.11</td>\n",
       "      <td>0.017927</td>\n",
       "      <td>22726</td>\n",
       "      <td>COMERCIAL MEXICANA PABELLON BOSQUES</td>\n",
       "    </tr>\n",
       "    <tr>\n",
       "      <th>7845</th>\n",
       "      <td>904670.68</td>\n",
       "      <td>0.015954</td>\n",
       "      <td>22456</td>\n",
       "      <td>WAL MART LAS AGUILAS</td>\n",
       "    </tr>\n",
       "    <tr>\n",
       "      <th>7855</th>\n",
       "      <td>884919.56</td>\n",
       "      <td>0.015606</td>\n",
       "      <td>22477</td>\n",
       "      <td>BODEGA AURRERA SANTA LUCIA</td>\n",
       "    </tr>\n",
       "    <tr>\n",
       "      <th>7872</th>\n",
       "      <td>836387.86</td>\n",
       "      <td>0.014750</td>\n",
       "      <td>22529</td>\n",
       "      <td>MEGA COMERCIAL MEXICANA OLIVAR DE LOS PADRES</td>\n",
       "    </tr>\n",
       "    <tr>\n",
       "      <th>8014</th>\n",
       "      <td>823681.94</td>\n",
       "      <td>0.014526</td>\n",
       "      <td>22849</td>\n",
       "      <td>COMERCIAL MEXICANA LOMAS ANAHUAC</td>\n",
       "    </tr>\n",
       "    <tr>\n",
       "      <th>736023</th>\n",
       "      <td>797273.68</td>\n",
       "      <td>0.014060</td>\n",
       "      <td>4446090</td>\n",
       "      <td>NO IDENTIFICADO</td>\n",
       "    </tr>\n",
       "    <tr>\n",
       "      <th>7953</th>\n",
       "      <td>783131.63</td>\n",
       "      <td>0.013811</td>\n",
       "      <td>22730</td>\n",
       "      <td>TIENDAS U N A M  COYOACAN</td>\n",
       "    </tr>\n",
       "    <tr>\n",
       "      <th>7137</th>\n",
       "      <td>777748.98</td>\n",
       "      <td>0.013716</td>\n",
       "      <td>20611</td>\n",
       "      <td>BODEGA AURRERA INSURGENTES SUR</td>\n",
       "    </tr>\n",
       "    <tr>\n",
       "      <th>5893</th>\n",
       "      <td>758159.10</td>\n",
       "      <td>0.013370</td>\n",
       "      <td>17871</td>\n",
       "      <td>ISSSTE 250 VERTIZ</td>\n",
       "    </tr>\n",
       "    <tr>\n",
       "      <th>7857</th>\n",
       "      <td>756378.02</td>\n",
       "      <td>0.013339</td>\n",
       "      <td>22484</td>\n",
       "      <td>SUPERAMA SANTA FE</td>\n",
       "    </tr>\n",
       "    <tr>\n",
       "      <th>847198</th>\n",
       "      <td>753415.49</td>\n",
       "      <td>0.013287</td>\n",
       "      <td>4667407</td>\n",
       "      <td>NO IDENTIFICADO</td>\n",
       "    </tr>\n",
       "    <tr>\n",
       "      <th>7846</th>\n",
       "      <td>741545.39</td>\n",
       "      <td>0.013077</td>\n",
       "      <td>22458</td>\n",
       "      <td>BODEGA AURRERA CENTENARIO</td>\n",
       "    </tr>\n",
       "    <tr>\n",
       "      <th>425467</th>\n",
       "      <td>734889.56</td>\n",
       "      <td>0.012960</td>\n",
       "      <td>1685284</td>\n",
       "      <td>GIGANTE PLAZA DELTA</td>\n",
       "    </tr>\n",
       "    <tr>\n",
       "      <th>7156</th>\n",
       "      <td>713911.53</td>\n",
       "      <td>0.012590</td>\n",
       "      <td>20640</td>\n",
       "      <td>SUPERAMA FUENTES DEL PEDREGAL</td>\n",
       "    </tr>\n",
       "    <tr>\n",
       "      <th>818340</th>\n",
       "      <td>693201.12</td>\n",
       "      <td>0.012225</td>\n",
       "      <td>4617344</td>\n",
       "      <td>NO IDENTIFICADO</td>\n",
       "    </tr>\n",
       "    <tr>\n",
       "      <th>425462</th>\n",
       "      <td>687184.98</td>\n",
       "      <td>0.012119</td>\n",
       "      <td>1685278</td>\n",
       "      <td>GIGANTE TACUBAYA</td>\n",
       "    </tr>\n",
       "    <tr>\n",
       "      <th>8017</th>\n",
       "      <td>681042.16</td>\n",
       "      <td>0.012010</td>\n",
       "      <td>22857</td>\n",
       "      <td>COSTCO INTERLOMAS</td>\n",
       "    </tr>\n",
       "    <tr>\n",
       "      <th>7939</th>\n",
       "      <td>673201.80</td>\n",
       "      <td>0.011872</td>\n",
       "      <td>22699</td>\n",
       "      <td>WAL MART COPILCO</td>\n",
       "    </tr>\n",
       "    <tr>\n",
       "      <th>7881</th>\n",
       "      <td>640496.32</td>\n",
       "      <td>0.011295</td>\n",
       "      <td>22546</td>\n",
       "      <td>COMERCIAL MEXICANA INSURGENTES</td>\n",
       "    </tr>\n",
       "    <tr>\n",
       "      <th>7956</th>\n",
       "      <td>605934.99</td>\n",
       "      <td>0.010686</td>\n",
       "      <td>22732</td>\n",
       "      <td>SUPERAMA NARVARTE</td>\n",
       "    </tr>\n",
       "    <tr>\n",
       "      <th>335380</th>\n",
       "      <td>592452.98</td>\n",
       "      <td>0.010448</td>\n",
       "      <td>1188059</td>\n",
       "      <td>CHEDRAUI INTERLOMAS</td>\n",
       "    </tr>\n",
       "    <tr>\n",
       "      <th>7854</th>\n",
       "      <td>590726.73</td>\n",
       "      <td>0.010418</td>\n",
       "      <td>22474</td>\n",
       "      <td>BODEGA AURRERA OBSERVATORIO</td>\n",
       "    </tr>\n",
       "    <tr>\n",
       "      <th>7139</th>\n",
       "      <td>571582.72</td>\n",
       "      <td>0.010080</td>\n",
       "      <td>20613</td>\n",
       "      <td>SUPERAMA JARDINES</td>\n",
       "    </tr>\n",
       "    <tr>\n",
       "      <th>8970</th>\n",
       "      <td>552400.51</td>\n",
       "      <td>0.009742</td>\n",
       "      <td>25298</td>\n",
       "      <td>SAMS CLUB SANTA FE</td>\n",
       "    </tr>\n",
       "    <tr>\n",
       "      <th>7852</th>\n",
       "      <td>545003.68</td>\n",
       "      <td>0.009611</td>\n",
       "      <td>22472</td>\n",
       "      <td>BODEGA AURRERA SANTA FE</td>\n",
       "    </tr>\n",
       "    <tr>\n",
       "      <th>6422</th>\n",
       "      <td>515045.01</td>\n",
       "      <td>0.009083</td>\n",
       "      <td>19200</td>\n",
       "      <td>SUPERAMA RIO CHURUBUSCO</td>\n",
       "    </tr>\n",
       "    <tr>\n",
       "      <th>7967</th>\n",
       "      <td>507990.48</td>\n",
       "      <td>0.008958</td>\n",
       "      <td>22747</td>\n",
       "      <td>SUPERAMA PACHUCA</td>\n",
       "    </tr>\n",
       "    <tr>\n",
       "      <th>425434</th>\n",
       "      <td>497887.04</td>\n",
       "      <td>0.008780</td>\n",
       "      <td>1685244</td>\n",
       "      <td>GIGANTE DIVISION</td>\n",
       "    </tr>\n",
       "    <tr>\n",
       "      <th>7961</th>\n",
       "      <td>466910.23</td>\n",
       "      <td>0.008234</td>\n",
       "      <td>22742</td>\n",
       "      <td>SUPERAMA LILAS</td>\n",
       "    </tr>\n",
       "    <tr>\n",
       "      <th>425458</th>\n",
       "      <td>463628.64</td>\n",
       "      <td>0.008176</td>\n",
       "      <td>1685274</td>\n",
       "      <td>GIGANTE MIXCOAC</td>\n",
       "    </tr>\n",
       "    <tr>\n",
       "      <th>622364</th>\n",
       "      <td>460184.20</td>\n",
       "      <td>0.008115</td>\n",
       "      <td>2501093</td>\n",
       "      <td>SUPERAMA CALZADA DE LOS LEONES</td>\n",
       "    </tr>\n",
       "    <tr>\n",
       "      <th>620722</th>\n",
       "      <td>457272.60</td>\n",
       "      <td>0.008064</td>\n",
       "      <td>2494018</td>\n",
       "      <td>SUPERAMA WTC DAKOTA</td>\n",
       "    </tr>\n",
       "    <tr>\n",
       "      <th>27930</th>\n",
       "      <td>451737.43</td>\n",
       "      <td>0.007966</td>\n",
       "      <td>71089</td>\n",
       "      <td>SUPERAMA VISTA HERMOSA</td>\n",
       "    </tr>\n",
       "    <tr>\n",
       "      <th>476075</th>\n",
       "      <td>442746.38</td>\n",
       "      <td>0.007808</td>\n",
       "      <td>1942634</td>\n",
       "      <td>CITY MARKET PILARES</td>\n",
       "    </tr>\n",
       "    <tr>\n",
       "      <th>8007</th>\n",
       "      <td>440817.45</td>\n",
       "      <td>0.007774</td>\n",
       "      <td>22830</td>\n",
       "      <td>BODEGA AURRERA TACUBAYA</td>\n",
       "    </tr>\n",
       "    <tr>\n",
       "      <th>7121</th>\n",
       "      <td>427017.33</td>\n",
       "      <td>0.007530</td>\n",
       "      <td>20580</td>\n",
       "      <td>BODEGA COMERCIAL MEXICANA TLALPAN</td>\n",
       "    </tr>\n",
       "    <tr>\n",
       "      <th>655922</th>\n",
       "      <td>412401.31</td>\n",
       "      <td>0.007273</td>\n",
       "      <td>4219399</td>\n",
       "      <td>supercenter insurgentes la joya</td>\n",
       "    </tr>\n",
       "    <tr>\n",
       "      <th>661524</th>\n",
       "      <td>407336.19</td>\n",
       "      <td>0.007183</td>\n",
       "      <td>4236038</td>\n",
       "      <td>chedraui copilco</td>\n",
       "    </tr>\n",
       "  </tbody>\n",
       "</table>\n",
       "</div>"
      ],
      "text/plain": [
       "        Demanda_equil      Part  Cliente_ID  \\\n",
       "7876       1528481.66  0.026955       22534   \n",
       "7118       1444223.25  0.025469       20577   \n",
       "7312       1430528.53  0.025227       20990   \n",
       "7848       1338370.04  0.023602       22462   \n",
       "5883       1324882.31  0.023364       17851   \n",
       "7147       1315958.76  0.023207       20626   \n",
       "239364     1301556.58  0.022953      688157   \n",
       "335377     1301325.22  0.022949     1188056   \n",
       "7126       1252713.57  0.022092       20591   \n",
       "262599     1210736.31  0.021351      812391   \n",
       "8018       1190244.56  0.020990       22861   \n",
       "7886       1164892.32  0.020543       22555   \n",
       "7851       1150379.86  0.020287       22471   \n",
       "7879       1131830.77  0.019960       22537   \n",
       "7856       1120260.55  0.019756       22482   \n",
       "7885       1092053.18  0.019258       22552   \n",
       "335378     1024390.13  0.018065     1188057   \n",
       "7950       1016535.11  0.017927       22726   \n",
       "7845        904670.68  0.015954       22456   \n",
       "7855        884919.56  0.015606       22477   \n",
       "7872        836387.86  0.014750       22529   \n",
       "8014        823681.94  0.014526       22849   \n",
       "736023      797273.68  0.014060     4446090   \n",
       "7953        783131.63  0.013811       22730   \n",
       "7137        777748.98  0.013716       20611   \n",
       "5893        758159.10  0.013370       17871   \n",
       "7857        756378.02  0.013339       22484   \n",
       "847198      753415.49  0.013287     4667407   \n",
       "7846        741545.39  0.013077       22458   \n",
       "425467      734889.56  0.012960     1685284   \n",
       "7156        713911.53  0.012590       20640   \n",
       "818340      693201.12  0.012225     4617344   \n",
       "425462      687184.98  0.012119     1685278   \n",
       "8017        681042.16  0.012010       22857   \n",
       "7939        673201.80  0.011872       22699   \n",
       "7881        640496.32  0.011295       22546   \n",
       "7956        605934.99  0.010686       22732   \n",
       "335380      592452.98  0.010448     1188059   \n",
       "7854        590726.73  0.010418       22474   \n",
       "7139        571582.72  0.010080       20613   \n",
       "8970        552400.51  0.009742       25298   \n",
       "7852        545003.68  0.009611       22472   \n",
       "6422        515045.01  0.009083       19200   \n",
       "7967        507990.48  0.008958       22747   \n",
       "425434      497887.04  0.008780     1685244   \n",
       "7961        466910.23  0.008234       22742   \n",
       "425458      463628.64  0.008176     1685274   \n",
       "622364      460184.20  0.008115     2501093   \n",
       "620722      457272.60  0.008064     2494018   \n",
       "27930       451737.43  0.007966       71089   \n",
       "476075      442746.38  0.007808     1942634   \n",
       "8007        440817.45  0.007774       22830   \n",
       "7121        427017.33  0.007530       20580   \n",
       "655922      412401.31  0.007273     4219399   \n",
       "661524      407336.19  0.007183     4236038   \n",
       "\n",
       "                                       NombreCliente  \n",
       "7876                 MEGA COMERCIAL MEXICANA MIXCOAC  \n",
       "7118                          SAMS CLUB SAN JERONIMO  \n",
       "7312                 MEGA COMERCIAL MEXICANA PILARES  \n",
       "7848                               WAL MART PLATEROS  \n",
       "5883                            WAL MART UNIVERSIDAD  \n",
       "7147                         WAL MART PERIFERICO SUR  \n",
       "239364                         SAMS CLUB UNIVERSIDAD  \n",
       "335377                          CHEDRAUI UNIVERSIDAD  \n",
       "7126            MEGA COMERCIAL MEXICANA SAN JERONIMO  \n",
       "262599              MEGA COMERCIAL MEXICANA COYOACAN  \n",
       "8018                             WAL MART INTERLOMAS  \n",
       "7886                               WAL MART TAXQUEÑA  \n",
       "7851                                  COSTCO MIXCOAC  \n",
       "7879                           WAL MART FELIX CUEVAS  \n",
       "7856                             WAL MART CUAJIMALPA  \n",
       "7885                           BODEGA AURRERA CANTIL  \n",
       "335378                               CHEDRAUI AJUSCO  \n",
       "7950             COMERCIAL MEXICANA PABELLON BOSQUES  \n",
       "7845                            WAL MART LAS AGUILAS  \n",
       "7855                      BODEGA AURRERA SANTA LUCIA  \n",
       "7872    MEGA COMERCIAL MEXICANA OLIVAR DE LOS PADRES  \n",
       "8014                COMERCIAL MEXICANA LOMAS ANAHUAC  \n",
       "736023                               NO IDENTIFICADO  \n",
       "7953                       TIENDAS U N A M  COYOACAN  \n",
       "7137                  BODEGA AURRERA INSURGENTES SUR  \n",
       "5893                               ISSSTE 250 VERTIZ  \n",
       "7857                               SUPERAMA SANTA FE  \n",
       "847198                               NO IDENTIFICADO  \n",
       "7846                       BODEGA AURRERA CENTENARIO  \n",
       "425467                           GIGANTE PLAZA DELTA  \n",
       "7156                   SUPERAMA FUENTES DEL PEDREGAL  \n",
       "818340                               NO IDENTIFICADO  \n",
       "425462                              GIGANTE TACUBAYA  \n",
       "8017                               COSTCO INTERLOMAS  \n",
       "7939                                WAL MART COPILCO  \n",
       "7881                  COMERCIAL MEXICANA INSURGENTES  \n",
       "7956                               SUPERAMA NARVARTE  \n",
       "335380                           CHEDRAUI INTERLOMAS  \n",
       "7854                     BODEGA AURRERA OBSERVATORIO  \n",
       "7139                               SUPERAMA JARDINES  \n",
       "8970                              SAMS CLUB SANTA FE  \n",
       "7852                         BODEGA AURRERA SANTA FE  \n",
       "6422                         SUPERAMA RIO CHURUBUSCO  \n",
       "7967                                SUPERAMA PACHUCA  \n",
       "425434                              GIGANTE DIVISION  \n",
       "7961                                  SUPERAMA LILAS  \n",
       "425458                               GIGANTE MIXCOAC  \n",
       "622364                SUPERAMA CALZADA DE LOS LEONES  \n",
       "620722                           SUPERAMA WTC DAKOTA  \n",
       "27930                         SUPERAMA VISTA HERMOSA  \n",
       "476075                           CITY MARKET PILARES  \n",
       "8007                         BODEGA AURRERA TACUBAYA  \n",
       "7121               BODEGA COMERCIAL MEXICANA TLALPAN  \n",
       "655922               supercenter insurgentes la joya  \n",
       "661524                              chedraui copilco  "
      ]
     },
     "execution_count": 158,
     "metadata": {},
     "output_type": "execute_result"
    }
   ],
   "source": [
    "dfcs"
   ]
  },
  {
   "cell_type": "code",
   "execution_count": 161,
   "id": "e89c19be-0f65-48fd-ba4f-89acdd2dbce7",
   "metadata": {},
   "outputs": [],
   "source": [
    "top_clts = list(dfcs[\"Cliente_ID\"])"
   ]
  },
  {
   "cell_type": "markdown",
   "id": "868e2993-b74e-4fd5-906b-0d67295a5030",
   "metadata": {
    "tags": []
   },
   "source": [
    "### Which are the top 3 sold products in the agency's client sample?"
   ]
  },
  {
   "cell_type": "markdown",
   "id": "dc7edc4a-f4f8-4432-a118-8134ed528c18",
   "metadata": {
    "tags": []
   },
   "source": [
    "#### Working dataframe"
   ]
  },
  {
   "cell_type": "code",
   "execution_count": 174,
   "id": "08344b9d-7431-41e4-83ec-6f74e3cc347a",
   "metadata": {},
   "outputs": [],
   "source": [
    "dfx = dftr.copy()"
   ]
  },
  {
   "cell_type": "code",
   "execution_count": 175,
   "id": "71dab3df-5557-4277-b626-282c7d986a72",
   "metadata": {},
   "outputs": [
    {
     "data": {
      "text/html": [
       "<div>\n",
       "<style scoped>\n",
       "    .dataframe tbody tr th:only-of-type {\n",
       "        vertical-align: middle;\n",
       "    }\n",
       "\n",
       "    .dataframe tbody tr th {\n",
       "        vertical-align: top;\n",
       "    }\n",
       "\n",
       "    .dataframe thead th {\n",
       "        text-align: right;\n",
       "    }\n",
       "</style>\n",
       "<table border=\"1\" class=\"dataframe\">\n",
       "  <thead>\n",
       "    <tr style=\"text-align: right;\">\n",
       "      <th></th>\n",
       "      <th>Semana</th>\n",
       "      <th>Agencia_ID</th>\n",
       "      <th>Canal_ID</th>\n",
       "      <th>Ruta_SAK</th>\n",
       "      <th>Cliente_ID</th>\n",
       "      <th>Producto_ID</th>\n",
       "      <th>Venta_uni_hoy</th>\n",
       "      <th>Venta_hoy</th>\n",
       "      <th>Dev_uni_proxima</th>\n",
       "      <th>Dev_proxima</th>\n",
       "      <th>Demanda_uni_equil</th>\n",
       "      <th>Demanda_equil</th>\n",
       "    </tr>\n",
       "  </thead>\n",
       "  <tbody>\n",
       "    <tr>\n",
       "      <th>0</th>\n",
       "      <td>3</td>\n",
       "      <td>1110</td>\n",
       "      <td>7</td>\n",
       "      <td>3301</td>\n",
       "      <td>15766</td>\n",
       "      <td>1212</td>\n",
       "      <td>3</td>\n",
       "      <td>25.14</td>\n",
       "      <td>0</td>\n",
       "      <td>0.0</td>\n",
       "      <td>3</td>\n",
       "      <td>25.14</td>\n",
       "    </tr>\n",
       "    <tr>\n",
       "      <th>1</th>\n",
       "      <td>3</td>\n",
       "      <td>1110</td>\n",
       "      <td>7</td>\n",
       "      <td>3301</td>\n",
       "      <td>15766</td>\n",
       "      <td>1216</td>\n",
       "      <td>4</td>\n",
       "      <td>33.52</td>\n",
       "      <td>0</td>\n",
       "      <td>0.0</td>\n",
       "      <td>4</td>\n",
       "      <td>33.52</td>\n",
       "    </tr>\n",
       "    <tr>\n",
       "      <th>2</th>\n",
       "      <td>3</td>\n",
       "      <td>1110</td>\n",
       "      <td>7</td>\n",
       "      <td>3301</td>\n",
       "      <td>15766</td>\n",
       "      <td>1238</td>\n",
       "      <td>4</td>\n",
       "      <td>39.32</td>\n",
       "      <td>0</td>\n",
       "      <td>0.0</td>\n",
       "      <td>4</td>\n",
       "      <td>39.32</td>\n",
       "    </tr>\n",
       "    <tr>\n",
       "      <th>3</th>\n",
       "      <td>3</td>\n",
       "      <td>1110</td>\n",
       "      <td>7</td>\n",
       "      <td>3301</td>\n",
       "      <td>15766</td>\n",
       "      <td>1240</td>\n",
       "      <td>4</td>\n",
       "      <td>33.52</td>\n",
       "      <td>0</td>\n",
       "      <td>0.0</td>\n",
       "      <td>4</td>\n",
       "      <td>33.52</td>\n",
       "    </tr>\n",
       "    <tr>\n",
       "      <th>4</th>\n",
       "      <td>3</td>\n",
       "      <td>1110</td>\n",
       "      <td>7</td>\n",
       "      <td>3301</td>\n",
       "      <td>15766</td>\n",
       "      <td>1242</td>\n",
       "      <td>3</td>\n",
       "      <td>22.92</td>\n",
       "      <td>0</td>\n",
       "      <td>0.0</td>\n",
       "      <td>3</td>\n",
       "      <td>22.92</td>\n",
       "    </tr>\n",
       "    <tr>\n",
       "      <th>...</th>\n",
       "      <td>...</td>\n",
       "      <td>...</td>\n",
       "      <td>...</td>\n",
       "      <td>...</td>\n",
       "      <td>...</td>\n",
       "      <td>...</td>\n",
       "      <td>...</td>\n",
       "      <td>...</td>\n",
       "      <td>...</td>\n",
       "      <td>...</td>\n",
       "      <td>...</td>\n",
       "      <td>...</td>\n",
       "    </tr>\n",
       "    <tr>\n",
       "      <th>7974413</th>\n",
       "      <td>8</td>\n",
       "      <td>1173</td>\n",
       "      <td>4</td>\n",
       "      <td>6609</td>\n",
       "      <td>4549706</td>\n",
       "      <td>1242</td>\n",
       "      <td>2</td>\n",
       "      <td>15.40</td>\n",
       "      <td>0</td>\n",
       "      <td>0.0</td>\n",
       "      <td>2</td>\n",
       "      <td>15.40</td>\n",
       "    </tr>\n",
       "    <tr>\n",
       "      <th>7974414</th>\n",
       "      <td>8</td>\n",
       "      <td>1173</td>\n",
       "      <td>4</td>\n",
       "      <td>6609</td>\n",
       "      <td>4549706</td>\n",
       "      <td>5310</td>\n",
       "      <td>12</td>\n",
       "      <td>60.48</td>\n",
       "      <td>0</td>\n",
       "      <td>0.0</td>\n",
       "      <td>12</td>\n",
       "      <td>60.48</td>\n",
       "    </tr>\n",
       "    <tr>\n",
       "      <th>7974415</th>\n",
       "      <td>8</td>\n",
       "      <td>1173</td>\n",
       "      <td>4</td>\n",
       "      <td>6609</td>\n",
       "      <td>4549706</td>\n",
       "      <td>40447</td>\n",
       "      <td>10</td>\n",
       "      <td>108.00</td>\n",
       "      <td>0</td>\n",
       "      <td>0.0</td>\n",
       "      <td>10</td>\n",
       "      <td>108.00</td>\n",
       "    </tr>\n",
       "    <tr>\n",
       "      <th>7974416</th>\n",
       "      <td>8</td>\n",
       "      <td>1173</td>\n",
       "      <td>4</td>\n",
       "      <td>6609</td>\n",
       "      <td>4549706</td>\n",
       "      <td>40450</td>\n",
       "      <td>18</td>\n",
       "      <td>331.20</td>\n",
       "      <td>0</td>\n",
       "      <td>0.0</td>\n",
       "      <td>18</td>\n",
       "      <td>331.20</td>\n",
       "    </tr>\n",
       "    <tr>\n",
       "      <th>7974417</th>\n",
       "      <td>8</td>\n",
       "      <td>1173</td>\n",
       "      <td>4</td>\n",
       "      <td>6609</td>\n",
       "      <td>4549706</td>\n",
       "      <td>46772</td>\n",
       "      <td>16</td>\n",
       "      <td>150.40</td>\n",
       "      <td>0</td>\n",
       "      <td>0.0</td>\n",
       "      <td>16</td>\n",
       "      <td>150.40</td>\n",
       "    </tr>\n",
       "  </tbody>\n",
       "</table>\n",
       "<p>7974418 rows × 12 columns</p>\n",
       "</div>"
      ],
      "text/plain": [
       "         Semana  Agencia_ID  Canal_ID  Ruta_SAK  Cliente_ID  Producto_ID  \\\n",
       "0             3        1110         7      3301       15766         1212   \n",
       "1             3        1110         7      3301       15766         1216   \n",
       "2             3        1110         7      3301       15766         1238   \n",
       "3             3        1110         7      3301       15766         1240   \n",
       "4             3        1110         7      3301       15766         1242   \n",
       "...         ...         ...       ...       ...         ...          ...   \n",
       "7974413       8        1173         4      6609     4549706         1242   \n",
       "7974414       8        1173         4      6609     4549706         5310   \n",
       "7974415       8        1173         4      6609     4549706        40447   \n",
       "7974416       8        1173         4      6609     4549706        40450   \n",
       "7974417       8        1173         4      6609     4549706        46772   \n",
       "\n",
       "         Venta_uni_hoy  Venta_hoy  Dev_uni_proxima  Dev_proxima  \\\n",
       "0                    3      25.14                0          0.0   \n",
       "1                    4      33.52                0          0.0   \n",
       "2                    4      39.32                0          0.0   \n",
       "3                    4      33.52                0          0.0   \n",
       "4                    3      22.92                0          0.0   \n",
       "...                ...        ...              ...          ...   \n",
       "7974413              2      15.40                0          0.0   \n",
       "7974414             12      60.48                0          0.0   \n",
       "7974415             10     108.00                0          0.0   \n",
       "7974416             18     331.20                0          0.0   \n",
       "7974417             16     150.40                0          0.0   \n",
       "\n",
       "         Demanda_uni_equil  Demanda_equil  \n",
       "0                        3          25.14  \n",
       "1                        4          33.52  \n",
       "2                        4          39.32  \n",
       "3                        4          33.52  \n",
       "4                        3          22.92  \n",
       "...                    ...            ...  \n",
       "7974413                  2          15.40  \n",
       "7974414                 12          60.48  \n",
       "7974415                 10         108.00  \n",
       "7974416                 18         331.20  \n",
       "7974417                 16         150.40  \n",
       "\n",
       "[7974418 rows x 12 columns]"
      ]
     },
     "execution_count": 175,
     "metadata": {},
     "output_type": "execute_result"
    }
   ],
   "source": [
    "dfx"
   ]
  },
  {
   "cell_type": "markdown",
   "id": "e8d00d0b-d8f2-449a-ade2-9dabe283d525",
   "metadata": {
    "tags": []
   },
   "source": [
    "#### Simplifying dataframe to leave only relevant data for this question"
   ]
  },
  {
   "cell_type": "code",
   "execution_count": 176,
   "id": "2d8e01da-d9b2-4209-91d6-b17f86997a93",
   "metadata": {},
   "outputs": [],
   "source": [
    "mcs = [\n",
    "    \"Producto_ID\",\n",
    "    \"Demanda_equil\"\n",
    "]\n",
    "\n",
    "mr1 = dfx[\"Agencia_ID\"] == top_ag[\"Agencia_ID\"]\n",
    "mr2 = dfx[\"Cliente_ID\"].isin(top_clts)\n",
    "mrs = mr1 & mr2\n",
    "\n",
    "dfx = dfx.loc[mrs, mcs]"
   ]
  },
  {
   "cell_type": "code",
   "execution_count": 177,
   "id": "c7464012-35f6-44ae-a66f-ee1648ed56ac",
   "metadata": {},
   "outputs": [
    {
     "data": {
      "text/html": [
       "<div>\n",
       "<style scoped>\n",
       "    .dataframe tbody tr th:only-of-type {\n",
       "        vertical-align: middle;\n",
       "    }\n",
       "\n",
       "    .dataframe tbody tr th {\n",
       "        vertical-align: top;\n",
       "    }\n",
       "\n",
       "    .dataframe thead th {\n",
       "        text-align: right;\n",
       "    }\n",
       "</style>\n",
       "<table border=\"1\" class=\"dataframe\">\n",
       "  <thead>\n",
       "    <tr style=\"text-align: right;\">\n",
       "      <th></th>\n",
       "      <th>Producto_ID</th>\n",
       "      <th>Demanda_equil</th>\n",
       "    </tr>\n",
       "  </thead>\n",
       "  <tbody>\n",
       "    <tr>\n",
       "      <th>975616</th>\n",
       "      <td>1182</td>\n",
       "      <td>354.64</td>\n",
       "    </tr>\n",
       "    <tr>\n",
       "      <th>975617</th>\n",
       "      <td>2665</td>\n",
       "      <td>533.16</td>\n",
       "    </tr>\n",
       "    <tr>\n",
       "      <th>975618</th>\n",
       "      <td>4767</td>\n",
       "      <td>489.60</td>\n",
       "    </tr>\n",
       "    <tr>\n",
       "      <th>975619</th>\n",
       "      <td>30314</td>\n",
       "      <td>377.04</td>\n",
       "    </tr>\n",
       "    <tr>\n",
       "      <th>975620</th>\n",
       "      <td>30572</td>\n",
       "      <td>336.60</td>\n",
       "    </tr>\n",
       "    <tr>\n",
       "      <th>...</th>\n",
       "      <td>...</td>\n",
       "      <td>...</td>\n",
       "    </tr>\n",
       "    <tr>\n",
       "      <th>7569853</th>\n",
       "      <td>47886</td>\n",
       "      <td>383.36</td>\n",
       "    </tr>\n",
       "    <tr>\n",
       "      <th>7569854</th>\n",
       "      <td>48345</td>\n",
       "      <td>1478.00</td>\n",
       "    </tr>\n",
       "    <tr>\n",
       "      <th>7569855</th>\n",
       "      <td>48689</td>\n",
       "      <td>152.76</td>\n",
       "    </tr>\n",
       "    <tr>\n",
       "      <th>7569856</th>\n",
       "      <td>48996</td>\n",
       "      <td>6750.24</td>\n",
       "    </tr>\n",
       "    <tr>\n",
       "      <th>7569857</th>\n",
       "      <td>49028</td>\n",
       "      <td>5338.08</td>\n",
       "    </tr>\n",
       "  </tbody>\n",
       "</table>\n",
       "<p>25478 rows × 2 columns</p>\n",
       "</div>"
      ],
      "text/plain": [
       "         Producto_ID  Demanda_equil\n",
       "975616          1182         354.64\n",
       "975617          2665         533.16\n",
       "975618          4767         489.60\n",
       "975619         30314         377.04\n",
       "975620         30572         336.60\n",
       "...              ...            ...\n",
       "7569853        47886         383.36\n",
       "7569854        48345        1478.00\n",
       "7569855        48689         152.76\n",
       "7569856        48996        6750.24\n",
       "7569857        49028        5338.08\n",
       "\n",
       "[25478 rows x 2 columns]"
      ]
     },
     "execution_count": 177,
     "metadata": {},
     "output_type": "execute_result"
    }
   ],
   "source": [
    "dfx"
   ]
  },
  {
   "cell_type": "markdown",
   "id": "f8d0f586-f0ca-4244-87bd-6374bc33f172",
   "metadata": {},
   "source": [
    "#### Finding top 3 products"
   ]
  },
  {
   "cell_type": "code",
   "execution_count": 178,
   "id": "b036b7a1-c6dd-44a6-86f3-6ce1a9ace965",
   "metadata": {},
   "outputs": [],
   "source": [
    "dfx = dfx.groupby([\"Producto_ID\"]).sum().sort_values(by=\"Demanda_equil\", ascending=False)"
   ]
  },
  {
   "cell_type": "code",
   "execution_count": 180,
   "id": "c945068f-862f-4076-9162-11c4a3721804",
   "metadata": {},
   "outputs": [],
   "source": [
    "dfx[\"Part\"] = dfx[\"Demanda_equil\"]/dfx[\"Demanda_equil\"].sum()"
   ]
  },
  {
   "cell_type": "code",
   "execution_count": 182,
   "id": "5276b12d-4a67-4957-9bdf-c6bc09e29da7",
   "metadata": {},
   "outputs": [],
   "source": [
    "dfx = dfx[:3]"
   ]
  },
  {
   "cell_type": "code",
   "execution_count": 183,
   "id": "73a44c52-9fe4-442a-bd46-cd70308bafe3",
   "metadata": {},
   "outputs": [
    {
     "data": {
      "text/html": [
       "<div>\n",
       "<style scoped>\n",
       "    .dataframe tbody tr th:only-of-type {\n",
       "        vertical-align: middle;\n",
       "    }\n",
       "\n",
       "    .dataframe tbody tr th {\n",
       "        vertical-align: top;\n",
       "    }\n",
       "\n",
       "    .dataframe thead th {\n",
       "        text-align: right;\n",
       "    }\n",
       "</style>\n",
       "<table border=\"1\" class=\"dataframe\">\n",
       "  <thead>\n",
       "    <tr style=\"text-align: right;\">\n",
       "      <th></th>\n",
       "      <th>Demanda_equil</th>\n",
       "      <th>Part</th>\n",
       "    </tr>\n",
       "    <tr>\n",
       "      <th>Producto_ID</th>\n",
       "      <th></th>\n",
       "      <th></th>\n",
       "    </tr>\n",
       "  </thead>\n",
       "  <tbody>\n",
       "    <tr>\n",
       "      <th>34786</th>\n",
       "      <td>2550815.14</td>\n",
       "      <td>0.056198</td>\n",
       "    </tr>\n",
       "    <tr>\n",
       "      <th>35145</th>\n",
       "      <td>1898344.69</td>\n",
       "      <td>0.041823</td>\n",
       "    </tr>\n",
       "    <tr>\n",
       "      <th>48996</th>\n",
       "      <td>1887105.98</td>\n",
       "      <td>0.041576</td>\n",
       "    </tr>\n",
       "  </tbody>\n",
       "</table>\n",
       "</div>"
      ],
      "text/plain": [
       "             Demanda_equil      Part\n",
       "Producto_ID                         \n",
       "34786           2550815.14  0.056198\n",
       "35145           1898344.69  0.041823\n",
       "48996           1887105.98  0.041576"
      ]
     },
     "execution_count": 183,
     "metadata": {},
     "output_type": "execute_result"
    }
   ],
   "source": [
    "dfx"
   ]
  },
  {
   "cell_type": "code",
   "execution_count": 188,
   "id": "a4f93571-a906-440b-b96f-c510f40f3c2b",
   "metadata": {},
   "outputs": [],
   "source": [
    "dftps = pd.merge(\n",
    "    dfx, dfp, right_on=\"Producto_ID\", left_index=True\n",
    ")"
   ]
  },
  {
   "cell_type": "code",
   "execution_count": 190,
   "id": "a2392ec7-dff8-40cc-955e-d7ef53453bcc",
   "metadata": {
    "scrolled": true,
    "tags": []
   },
   "outputs": [
    {
     "data": {
      "text/html": [
       "<div>\n",
       "<style scoped>\n",
       "    .dataframe tbody tr th:only-of-type {\n",
       "        vertical-align: middle;\n",
       "    }\n",
       "\n",
       "    .dataframe tbody tr th {\n",
       "        vertical-align: top;\n",
       "    }\n",
       "\n",
       "    .dataframe thead th {\n",
       "        text-align: right;\n",
       "    }\n",
       "</style>\n",
       "<table border=\"1\" class=\"dataframe\">\n",
       "  <thead>\n",
       "    <tr style=\"text-align: right;\">\n",
       "      <th></th>\n",
       "      <th>Demanda_equil</th>\n",
       "      <th>Part</th>\n",
       "      <th>Producto_ID</th>\n",
       "      <th>NombreProducto</th>\n",
       "    </tr>\n",
       "  </thead>\n",
       "  <tbody>\n",
       "    <tr>\n",
       "      <th>1174</th>\n",
       "      <td>2550815.14</td>\n",
       "      <td>0.056198</td>\n",
       "      <td>34786</td>\n",
       "      <td>Pan Integral 680g TNB BIM 34786</td>\n",
       "    </tr>\n",
       "    <tr>\n",
       "      <th>1272</th>\n",
       "      <td>1898344.69</td>\n",
       "      <td>0.041823</td>\n",
       "      <td>35145</td>\n",
       "      <td>Wonder 100pct con Ajonjoli 567g MTA WON 35145</td>\n",
       "    </tr>\n",
       "    <tr>\n",
       "      <th>2538</th>\n",
       "      <td>1887105.98</td>\n",
       "      <td>0.041576</td>\n",
       "      <td>48996</td>\n",
       "      <td>Tortillinas 22p 570g MTA TR 48996</td>\n",
       "    </tr>\n",
       "  </tbody>\n",
       "</table>\n",
       "</div>"
      ],
      "text/plain": [
       "      Demanda_equil      Part  Producto_ID  \\\n",
       "1174     2550815.14  0.056198        34786   \n",
       "1272     1898344.69  0.041823        35145   \n",
       "2538     1887105.98  0.041576        48996   \n",
       "\n",
       "                                     NombreProducto  \n",
       "1174                Pan Integral 680g TNB BIM 34786  \n",
       "1272  Wonder 100pct con Ajonjoli 567g MTA WON 35145  \n",
       "2538              Tortillinas 22p 570g MTA TR 48996  "
      ]
     },
     "execution_count": 190,
     "metadata": {},
     "output_type": "execute_result"
    }
   ],
   "source": [
    "dftps"
   ]
  },
  {
   "cell_type": "code",
   "execution_count": 191,
   "id": "0ce2a04e-4428-4a1f-9657-f86c3723c9f0",
   "metadata": {},
   "outputs": [],
   "source": [
    "top_pdts = list(dftps[\"Producto_ID\"])"
   ]
  },
  {
   "cell_type": "markdown",
   "id": "d098483c-c129-4d06-9315-ec2c23c35c5d",
   "metadata": {},
   "source": [
    "---"
   ]
  },
  {
   "cell_type": "markdown",
   "id": "d4018a87-c36a-4b03-847e-e2d27ff9706e",
   "metadata": {},
   "source": [
    "## Additional Notes"
   ]
  },
  {
   "cell_type": "markdown",
   "id": "c4fc240f-1347-4e55-a8bb-14fce0d0ebd0",
   "metadata": {},
   "source": [
    "---\n",
    "---"
   ]
  }
 ],
 "metadata": {
  "kernelspec": {
   "display_name": "Python 3",
   "language": "python",
   "name": "python3"
  },
  "language_info": {
   "codemirror_mode": {
    "name": "ipython",
    "version": 3
   },
   "file_extension": ".py",
   "mimetype": "text/x-python",
   "name": "python",
   "nbconvert_exporter": "python",
   "pygments_lexer": "ipython3",
   "version": "3.9.1"
  },
  "toc-autonumbering": true
 },
 "nbformat": 4,
 "nbformat_minor": 5
}
